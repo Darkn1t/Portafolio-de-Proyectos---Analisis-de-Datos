{
 "cells": [
  {
   "cell_type": "markdown",
   "id": "286d299e",
   "metadata": {},
   "source": [
    "# Introducción\n",
    "\n",
    "Instacart es una plataforma de entregas de comestibles donde la clientela puede registrar un pedido y hacer que se lo entreguen, similar a Uber Eats y Door Dash.\n",
    "El conjunto de datos que te hemos proporcionado tiene modificaciones del original. Redujimos el tamaño del conjunto para que tus cálculos se hicieran más rápido e introdujimos valores ausentes y duplicados. Tuvimos cuidado de conservar las distribuciones de los datos originales cuando hicimos los cambios.\n",
    "\n",
    "Debes completar tres pasos. Para cada uno de ellos, escribe una breve introducción que refleje con claridad cómo pretendes resolver cada paso, y escribe párrafos explicatorios que justifiquen tus decisiones al tiempo que avanzas en tu solución.  También escribe una conclusión que resuma tus hallazgos y elecciones."
   ]
  },
  {
   "cell_type": "markdown",
   "id": "d149c327",
   "metadata": {},
   "source": [
    "## Diccionario de datos\n",
    "\n",
    "Hay cinco tablas en el conjunto de datos, y tendrás que usarlas todas para hacer el preprocesamiento de datos y el análisis exploratorio de datos. A continuación se muestra un diccionario de datos que enumera las columnas de cada tabla y describe los datos que contienen.\n",
    "\n",
    "- `instacart_orders.csv`: cada fila corresponde a un pedido en la aplicación Instacart.\n",
    "    - `'order_id'`: número de ID que identifica de manera única cada pedido.\n",
    "    - `'user_id'`: número de ID que identifica de manera única la cuenta de cada cliente.\n",
    "    - `'order_number'`: el número de veces que este cliente ha hecho un pedido.\n",
    "    - `'order_dow'`: día de la semana en que se hizo el pedido (0 si es domingo).\n",
    "    - `'order_hour_of_day'`: hora del día en que se hizo el pedido.\n",
    "    - `'days_since_prior_order'`: número de días transcurridos desde que este cliente hizo su pedido anterior.\n",
    "- `products.csv`: cada fila corresponde a un producto único que pueden comprar los clientes.\n",
    "    - `'product_id'`: número ID que identifica de manera única cada producto.\n",
    "    - `'product_name'`: nombre del producto.\n",
    "    - `'aisle_id'`: número ID que identifica de manera única cada categoría de pasillo de víveres.\n",
    "    - `'department_id'`: número ID que identifica de manera única cada departamento de víveres.\n",
    "- `order_products.csv`: cada fila corresponde a un artículo pedido en un pedido.\n",
    "    - `'order_id'`: número de ID que identifica de manera única cada pedido.\n",
    "    - `'product_id'`: número ID que identifica de manera única cada producto.\n",
    "    - `'add_to_cart_order'`: el orden secuencial en el que se añadió cada artículo en el carrito.\n",
    "    - `'reordered'`: 0 si el cliente nunca ha pedido este producto antes, 1 si lo ha pedido.\n",
    "- `aisles.csv`\n",
    "    - `'aisle_id'`: número ID que identifica de manera única cada categoría de pasillo de víveres.\n",
    "    - `'aisle'`: nombre del pasillo.\n",
    "- `departments.csv`\n",
    "    - `'department_id'`: número ID que identifica de manera única cada departamento de víveres.\n",
    "    - `'department'`: nombre del departamento."
   ]
  },
  {
   "cell_type": "markdown",
   "id": "b1a2038e",
   "metadata": {},
   "source": [
    "# Paso 1. Descripción de los datos\n",
    "\n",
    "Lee los archivos de datos (`instacart_orders.csv`, `products.csv`, `aisles.csv`, `departments.csv` y `order_products.csv`) con `pd.read_csv()` usando los parámetros adecuados para leer los datos correctamente. Verifica la información para cada DataFrame creado."
   ]
  },
  {
   "cell_type": "code",
   "execution_count": 36,
   "id": "e1c5b152",
   "metadata": {},
   "outputs": [
    {
     "name": "stdout",
     "output_type": "stream",
     "text": [
      "Orders DataFrame:\n",
      "<class 'pandas.core.frame.DataFrame'>\n",
      "RangeIndex: 478967 entries, 0 to 478966\n",
      "Data columns (total 6 columns):\n",
      " #   Column                  Non-Null Count   Dtype  \n",
      "---  ------                  --------------   -----  \n",
      " 0   order_id                478967 non-null  int64  \n",
      " 1   user_id                 478967 non-null  int64  \n",
      " 2   order_number            478967 non-null  int64  \n",
      " 3   order_dow               478967 non-null  int64  \n",
      " 4   order_hour_of_day       478967 non-null  int64  \n",
      " 5   days_since_prior_order  450148 non-null  float64\n",
      "dtypes: float64(1), int64(5)\n",
      "memory usage: 21.9 MB\n"
     ]
    },
    {
     "data": {
      "text/html": [
       "<div>\n",
       "<style scoped>\n",
       "    .dataframe tbody tr th:only-of-type {\n",
       "        vertical-align: middle;\n",
       "    }\n",
       "\n",
       "    .dataframe tbody tr th {\n",
       "        vertical-align: top;\n",
       "    }\n",
       "\n",
       "    .dataframe thead th {\n",
       "        text-align: right;\n",
       "    }\n",
       "</style>\n",
       "<table border=\"1\" class=\"dataframe\">\n",
       "  <thead>\n",
       "    <tr style=\"text-align: right;\">\n",
       "      <th></th>\n",
       "      <th>order_id</th>\n",
       "      <th>user_id</th>\n",
       "      <th>order_number</th>\n",
       "      <th>order_dow</th>\n",
       "      <th>order_hour_of_day</th>\n",
       "      <th>days_since_prior_order</th>\n",
       "    </tr>\n",
       "  </thead>\n",
       "  <tbody>\n",
       "    <tr>\n",
       "      <th>0</th>\n",
       "      <td>1515936</td>\n",
       "      <td>183418</td>\n",
       "      <td>11</td>\n",
       "      <td>6</td>\n",
       "      <td>13</td>\n",
       "      <td>30.0</td>\n",
       "    </tr>\n",
       "    <tr>\n",
       "      <th>1</th>\n",
       "      <td>1690866</td>\n",
       "      <td>163593</td>\n",
       "      <td>5</td>\n",
       "      <td>5</td>\n",
       "      <td>12</td>\n",
       "      <td>9.0</td>\n",
       "    </tr>\n",
       "    <tr>\n",
       "      <th>2</th>\n",
       "      <td>1454967</td>\n",
       "      <td>39980</td>\n",
       "      <td>4</td>\n",
       "      <td>5</td>\n",
       "      <td>19</td>\n",
       "      <td>2.0</td>\n",
       "    </tr>\n",
       "    <tr>\n",
       "      <th>3</th>\n",
       "      <td>1768857</td>\n",
       "      <td>82516</td>\n",
       "      <td>56</td>\n",
       "      <td>0</td>\n",
       "      <td>20</td>\n",
       "      <td>10.0</td>\n",
       "    </tr>\n",
       "    <tr>\n",
       "      <th>4</th>\n",
       "      <td>3007858</td>\n",
       "      <td>196724</td>\n",
       "      <td>2</td>\n",
       "      <td>4</td>\n",
       "      <td>12</td>\n",
       "      <td>17.0</td>\n",
       "    </tr>\n",
       "  </tbody>\n",
       "</table>\n",
       "</div>"
      ],
      "text/plain": [
       "   order_id  user_id  order_number  order_dow  order_hour_of_day  \\\n",
       "0   1515936   183418            11          6                 13   \n",
       "1   1690866   163593             5          5                 12   \n",
       "2   1454967    39980             4          5                 19   \n",
       "3   1768857    82516            56          0                 20   \n",
       "4   3007858   196724             2          4                 12   \n",
       "\n",
       "   days_since_prior_order  \n",
       "0                    30.0  \n",
       "1                     9.0  \n",
       "2                     2.0  \n",
       "3                    10.0  \n",
       "4                    17.0  "
      ]
     },
     "execution_count": 36,
     "metadata": {},
     "output_type": "execute_result"
    }
   ],
   "source": [
    "# importar librerías\n",
    "import pandas as pd\n",
    "import matplotlib.pyplot as plt\n",
    "\n",
    "# leer conjuntos de datos en los DataFrames\n",
    "orders = pd.read_csv('instacart_orders.csv', sep=';')\n",
    "products = pd.read_csv('products.csv', sep=';')\n",
    "aisles = pd.read_csv('aisles.csv', sep=';')\n",
    "departments = pd.read_csv('departments.csv', sep=';')\n",
    "order_products = pd.read_csv('order_products.csv', sep=';')\n",
    "\n",
    "# mostrar información del DataFrame\n",
    "print(\"Orders DataFrame:\")\n",
    "orders.info()\n",
    "orders.head()\n",
    "\n"
   ]
  },
  {
   "cell_type": "code",
   "execution_count": 37,
   "id": "d67983c0",
   "metadata": {},
   "outputs": [
    {
     "name": "stdout",
     "output_type": "stream",
     "text": [
      "\n",
      "Products DataFrame:\n",
      "<class 'pandas.core.frame.DataFrame'>\n",
      "RangeIndex: 49694 entries, 0 to 49693\n",
      "Data columns (total 4 columns):\n",
      " #   Column         Non-Null Count  Dtype \n",
      "---  ------         --------------  ----- \n",
      " 0   product_id     49694 non-null  int64 \n",
      " 1   product_name   48436 non-null  object\n",
      " 2   aisle_id       49694 non-null  int64 \n",
      " 3   department_id  49694 non-null  int64 \n",
      "dtypes: int64(3), object(1)\n",
      "memory usage: 1.5+ MB\n"
     ]
    },
    {
     "data": {
      "text/html": [
       "<div>\n",
       "<style scoped>\n",
       "    .dataframe tbody tr th:only-of-type {\n",
       "        vertical-align: middle;\n",
       "    }\n",
       "\n",
       "    .dataframe tbody tr th {\n",
       "        vertical-align: top;\n",
       "    }\n",
       "\n",
       "    .dataframe thead th {\n",
       "        text-align: right;\n",
       "    }\n",
       "</style>\n",
       "<table border=\"1\" class=\"dataframe\">\n",
       "  <thead>\n",
       "    <tr style=\"text-align: right;\">\n",
       "      <th></th>\n",
       "      <th>product_id</th>\n",
       "      <th>product_name</th>\n",
       "      <th>aisle_id</th>\n",
       "      <th>department_id</th>\n",
       "    </tr>\n",
       "  </thead>\n",
       "  <tbody>\n",
       "    <tr>\n",
       "      <th>0</th>\n",
       "      <td>1</td>\n",
       "      <td>Chocolate Sandwich Cookies</td>\n",
       "      <td>61</td>\n",
       "      <td>19</td>\n",
       "    </tr>\n",
       "    <tr>\n",
       "      <th>1</th>\n",
       "      <td>2</td>\n",
       "      <td>All-Seasons Salt</td>\n",
       "      <td>104</td>\n",
       "      <td>13</td>\n",
       "    </tr>\n",
       "    <tr>\n",
       "      <th>2</th>\n",
       "      <td>3</td>\n",
       "      <td>Robust Golden Unsweetened Oolong Tea</td>\n",
       "      <td>94</td>\n",
       "      <td>7</td>\n",
       "    </tr>\n",
       "    <tr>\n",
       "      <th>3</th>\n",
       "      <td>4</td>\n",
       "      <td>Smart Ones Classic Favorites Mini Rigatoni Wit...</td>\n",
       "      <td>38</td>\n",
       "      <td>1</td>\n",
       "    </tr>\n",
       "    <tr>\n",
       "      <th>4</th>\n",
       "      <td>5</td>\n",
       "      <td>Green Chile Anytime Sauce</td>\n",
       "      <td>5</td>\n",
       "      <td>13</td>\n",
       "    </tr>\n",
       "  </tbody>\n",
       "</table>\n",
       "</div>"
      ],
      "text/plain": [
       "   product_id                                       product_name  aisle_id  \\\n",
       "0           1                         Chocolate Sandwich Cookies        61   \n",
       "1           2                                   All-Seasons Salt       104   \n",
       "2           3               Robust Golden Unsweetened Oolong Tea        94   \n",
       "3           4  Smart Ones Classic Favorites Mini Rigatoni Wit...        38   \n",
       "4           5                          Green Chile Anytime Sauce         5   \n",
       "\n",
       "   department_id  \n",
       "0             19  \n",
       "1             13  \n",
       "2              7  \n",
       "3              1  \n",
       "4             13  "
      ]
     },
     "execution_count": 37,
     "metadata": {},
     "output_type": "execute_result"
    }
   ],
   "source": [
    "# mostrar información del DataFrame\n",
    "print(\"\\nProducts DataFrame:\")\n",
    "products.info()\n",
    "products.head()"
   ]
  },
  {
   "cell_type": "code",
   "execution_count": 38,
   "id": "127fe6ad",
   "metadata": {},
   "outputs": [
    {
     "name": "stdout",
     "output_type": "stream",
     "text": [
      "\n",
      "Aisles DataFrame:\n",
      "<class 'pandas.core.frame.DataFrame'>\n",
      "RangeIndex: 134 entries, 0 to 133\n",
      "Data columns (total 2 columns):\n",
      " #   Column    Non-Null Count  Dtype \n",
      "---  ------    --------------  ----- \n",
      " 0   aisle_id  134 non-null    int64 \n",
      " 1   aisle     134 non-null    object\n",
      "dtypes: int64(1), object(1)\n",
      "memory usage: 2.2+ KB\n"
     ]
    },
    {
     "data": {
      "text/html": [
       "<div>\n",
       "<style scoped>\n",
       "    .dataframe tbody tr th:only-of-type {\n",
       "        vertical-align: middle;\n",
       "    }\n",
       "\n",
       "    .dataframe tbody tr th {\n",
       "        vertical-align: top;\n",
       "    }\n",
       "\n",
       "    .dataframe thead th {\n",
       "        text-align: right;\n",
       "    }\n",
       "</style>\n",
       "<table border=\"1\" class=\"dataframe\">\n",
       "  <thead>\n",
       "    <tr style=\"text-align: right;\">\n",
       "      <th></th>\n",
       "      <th>aisle_id</th>\n",
       "      <th>aisle</th>\n",
       "    </tr>\n",
       "  </thead>\n",
       "  <tbody>\n",
       "    <tr>\n",
       "      <th>0</th>\n",
       "      <td>1</td>\n",
       "      <td>prepared soups salads</td>\n",
       "    </tr>\n",
       "    <tr>\n",
       "      <th>1</th>\n",
       "      <td>2</td>\n",
       "      <td>specialty cheeses</td>\n",
       "    </tr>\n",
       "    <tr>\n",
       "      <th>2</th>\n",
       "      <td>3</td>\n",
       "      <td>energy granola bars</td>\n",
       "    </tr>\n",
       "    <tr>\n",
       "      <th>3</th>\n",
       "      <td>4</td>\n",
       "      <td>instant foods</td>\n",
       "    </tr>\n",
       "    <tr>\n",
       "      <th>4</th>\n",
       "      <td>5</td>\n",
       "      <td>marinades meat preparation</td>\n",
       "    </tr>\n",
       "  </tbody>\n",
       "</table>\n",
       "</div>"
      ],
      "text/plain": [
       "   aisle_id                       aisle\n",
       "0         1       prepared soups salads\n",
       "1         2           specialty cheeses\n",
       "2         3         energy granola bars\n",
       "3         4               instant foods\n",
       "4         5  marinades meat preparation"
      ]
     },
     "execution_count": 38,
     "metadata": {},
     "output_type": "execute_result"
    }
   ],
   "source": [
    "# mostrar información del DataFrame\n",
    "print(\"\\nAisles DataFrame:\")\n",
    "aisles.info()\n",
    "aisles.head()"
   ]
  },
  {
   "cell_type": "code",
   "execution_count": 39,
   "id": "b93126f5",
   "metadata": {},
   "outputs": [
    {
     "name": "stdout",
     "output_type": "stream",
     "text": [
      "\n",
      "Departments DataFrame:\n",
      "<class 'pandas.core.frame.DataFrame'>\n",
      "RangeIndex: 21 entries, 0 to 20\n",
      "Data columns (total 2 columns):\n",
      " #   Column         Non-Null Count  Dtype \n",
      "---  ------         --------------  ----- \n",
      " 0   department_id  21 non-null     int64 \n",
      " 1   department     21 non-null     object\n",
      "dtypes: int64(1), object(1)\n",
      "memory usage: 468.0+ bytes\n"
     ]
    },
    {
     "data": {
      "text/html": [
       "<div>\n",
       "<style scoped>\n",
       "    .dataframe tbody tr th:only-of-type {\n",
       "        vertical-align: middle;\n",
       "    }\n",
       "\n",
       "    .dataframe tbody tr th {\n",
       "        vertical-align: top;\n",
       "    }\n",
       "\n",
       "    .dataframe thead th {\n",
       "        text-align: right;\n",
       "    }\n",
       "</style>\n",
       "<table border=\"1\" class=\"dataframe\">\n",
       "  <thead>\n",
       "    <tr style=\"text-align: right;\">\n",
       "      <th></th>\n",
       "      <th>department_id</th>\n",
       "      <th>department</th>\n",
       "    </tr>\n",
       "  </thead>\n",
       "  <tbody>\n",
       "    <tr>\n",
       "      <th>0</th>\n",
       "      <td>1</td>\n",
       "      <td>frozen</td>\n",
       "    </tr>\n",
       "    <tr>\n",
       "      <th>1</th>\n",
       "      <td>2</td>\n",
       "      <td>other</td>\n",
       "    </tr>\n",
       "    <tr>\n",
       "      <th>2</th>\n",
       "      <td>3</td>\n",
       "      <td>bakery</td>\n",
       "    </tr>\n",
       "    <tr>\n",
       "      <th>3</th>\n",
       "      <td>4</td>\n",
       "      <td>produce</td>\n",
       "    </tr>\n",
       "    <tr>\n",
       "      <th>4</th>\n",
       "      <td>5</td>\n",
       "      <td>alcohol</td>\n",
       "    </tr>\n",
       "  </tbody>\n",
       "</table>\n",
       "</div>"
      ],
      "text/plain": [
       "   department_id department\n",
       "0              1     frozen\n",
       "1              2      other\n",
       "2              3     bakery\n",
       "3              4    produce\n",
       "4              5    alcohol"
      ]
     },
     "execution_count": 39,
     "metadata": {},
     "output_type": "execute_result"
    }
   ],
   "source": [
    "# mostrar información del DataFrame\n",
    "print(\"\\nDepartments DataFrame:\")\n",
    "departments.info()\n",
    "departments.head()"
   ]
  },
  {
   "cell_type": "code",
   "execution_count": 40,
   "id": "13f1bb5b",
   "metadata": {},
   "outputs": [
    {
     "name": "stdout",
     "output_type": "stream",
     "text": [
      "\n",
      "Order_products DataFrame:\n",
      "<class 'pandas.core.frame.DataFrame'>\n",
      "RangeIndex: 4545007 entries, 0 to 4545006\n",
      "Data columns (total 4 columns):\n",
      " #   Column             Dtype  \n",
      "---  ------             -----  \n",
      " 0   order_id           int64  \n",
      " 1   product_id         int64  \n",
      " 2   add_to_cart_order  float64\n",
      " 3   reordered          int64  \n",
      "dtypes: float64(1), int64(3)\n",
      "memory usage: 138.7 MB\n"
     ]
    },
    {
     "data": {
      "text/html": [
       "<div>\n",
       "<style scoped>\n",
       "    .dataframe tbody tr th:only-of-type {\n",
       "        vertical-align: middle;\n",
       "    }\n",
       "\n",
       "    .dataframe tbody tr th {\n",
       "        vertical-align: top;\n",
       "    }\n",
       "\n",
       "    .dataframe thead th {\n",
       "        text-align: right;\n",
       "    }\n",
       "</style>\n",
       "<table border=\"1\" class=\"dataframe\">\n",
       "  <thead>\n",
       "    <tr style=\"text-align: right;\">\n",
       "      <th></th>\n",
       "      <th>order_id</th>\n",
       "      <th>product_id</th>\n",
       "      <th>add_to_cart_order</th>\n",
       "      <th>reordered</th>\n",
       "    </tr>\n",
       "  </thead>\n",
       "  <tbody>\n",
       "    <tr>\n",
       "      <th>0</th>\n",
       "      <td>2141543</td>\n",
       "      <td>11440</td>\n",
       "      <td>17.0</td>\n",
       "      <td>0</td>\n",
       "    </tr>\n",
       "    <tr>\n",
       "      <th>1</th>\n",
       "      <td>567889</td>\n",
       "      <td>1560</td>\n",
       "      <td>1.0</td>\n",
       "      <td>1</td>\n",
       "    </tr>\n",
       "    <tr>\n",
       "      <th>2</th>\n",
       "      <td>2261212</td>\n",
       "      <td>26683</td>\n",
       "      <td>1.0</td>\n",
       "      <td>1</td>\n",
       "    </tr>\n",
       "    <tr>\n",
       "      <th>3</th>\n",
       "      <td>491251</td>\n",
       "      <td>8670</td>\n",
       "      <td>35.0</td>\n",
       "      <td>1</td>\n",
       "    </tr>\n",
       "    <tr>\n",
       "      <th>4</th>\n",
       "      <td>2571142</td>\n",
       "      <td>1940</td>\n",
       "      <td>5.0</td>\n",
       "      <td>1</td>\n",
       "    </tr>\n",
       "  </tbody>\n",
       "</table>\n",
       "</div>"
      ],
      "text/plain": [
       "   order_id  product_id  add_to_cart_order  reordered\n",
       "0   2141543       11440               17.0          0\n",
       "1    567889        1560                1.0          1\n",
       "2   2261212       26683                1.0          1\n",
       "3    491251        8670               35.0          1\n",
       "4   2571142        1940                5.0          1"
      ]
     },
     "execution_count": 40,
     "metadata": {},
     "output_type": "execute_result"
    }
   ],
   "source": [
    "# mostrar información del DataFrame\n",
    "print(\"\\nOrder_products DataFrame:\")\n",
    "order_products.info()\n",
    "order_products.head()"
   ]
  },
  {
   "cell_type": "markdown",
   "id": "e6136586",
   "metadata": {},
   "source": [
    "# Paso 2. Preprocesamiento de los datos\n",
    "\n",
    "Preprocesa los datos de la siguiente manera:\n",
    "\n",
    "- Verifica y corrige los tipos de datos (por ejemplo, asegúrate de que las columnas de ID sean números enteros).\n",
    "- Identifica y completa los valores ausentes.\n",
    "- Identifica y elimina los valores duplicados.\n",
    "\n",
    "Asegúrate de explicar qué tipos de valores ausentes y duplicados encontraste, cómo los completaste o eliminaste y por qué usaste esos métodos. ¿Por qué crees que estos valores ausentes y duplicados pueden haber estado presentes en el conjunto de datos?\n",
    "\n",
    "Encontre valores ausentes y duplicados y los corregi usando la media para columnas numericas y para columnas categoricas use la media y al final aplique drop_duplicates"
   ]
  },
  {
   "cell_type": "markdown",
   "id": "9bebbac6",
   "metadata": {},
   "source": [
    "## Encuentra y elimina los valores duplicados (y describe cómo tomaste tus decisiones).\n",
    "\n",
    "### `orders` data frame"
   ]
  },
  {
   "cell_type": "code",
   "execution_count": 41,
   "id": "6c3a6402",
   "metadata": {},
   "outputs": [
    {
     "name": "stdout",
     "output_type": "stream",
     "text": [
      "Hay 15 pedidos duplicados en el conjunto de datos.\n",
      "        order_id  user_id  order_number  order_dow  order_hour_of_day  \\\n",
      "145574    794638    50898            24          3                  2   \n",
      "223105   2160484   107525            16          3                  2   \n",
      "230807   1918001   188546            14          3                  2   \n",
      "266232   1782114   106752             1          3                  2   \n",
      "273805   1112182   202304            84          3                  2   \n",
      "284038   2845099    31189            11          3                  2   \n",
      "311713   1021560    53767             3          3                  2   \n",
      "321100    408114    68324             4          3                  2   \n",
      "323900   1919531   191501            32          3                  2   \n",
      "345917   2232988    82565             1          3                  2   \n",
      "371905    391768    57671            19          3                  2   \n",
      "394347    467134    63189            21          3                  2   \n",
      "411408   1286742   183220            48          3                  2   \n",
      "415163   2282673    86751            49          3                  2   \n",
      "441599   2125197    14050            48          3                  2   \n",
      "\n",
      "        days_since_prior_order  \n",
      "145574                     2.0  \n",
      "223105                    30.0  \n",
      "230807                    16.0  \n",
      "266232                     NaN  \n",
      "273805                     6.0  \n",
      "284038                     7.0  \n",
      "311713                     9.0  \n",
      "321100                    18.0  \n",
      "323900                     7.0  \n",
      "345917                     NaN  \n",
      "371905                    10.0  \n",
      "394347                     2.0  \n",
      "411408                     4.0  \n",
      "415163                     2.0  \n",
      "441599                     3.0  \n"
     ]
    }
   ],
   "source": [
    "# Verificar si hay filas duplicadas en el DataFrame\n",
    "duplicados = orders.duplicated()\n",
    "\n",
    "# Contar cuántos pedidos duplicados hay\n",
    "cantidad_duplicados = duplicados.sum()\n",
    "\n",
    "# Obtener las filas duplicadas\n",
    "filas_duplicadas = orders[duplicados]\n",
    "\n",
    "# Mostrar la cantidad de pedidos duplicados\n",
    "print(f\"Hay {cantidad_duplicados} pedidos duplicados en el conjunto de datos.\")\n",
    "\n",
    "# Mostrar las filas duplicadas\n",
    "print(filas_duplicadas)"
   ]
  },
  {
   "cell_type": "markdown",
   "id": "38ea5712",
   "metadata": {},
   "source": [
    "### ¿Tienes líneas duplicadas? Si, ¿qué tienen en común? Se hicieron el mismo dia y comparten días transcurridos desde que este cliente hizo su pedido anterior que es igual a 0"
   ]
  },
  {
   "cell_type": "code",
   "execution_count": 42,
   "id": "863cc92b",
   "metadata": {},
   "outputs": [
    {
     "name": "stdout",
     "output_type": "stream",
     "text": [
      "        order_id  user_id  order_number  order_dow  order_hour_of_day  \\\n",
      "4838     2766110   162084            41          3                  2   \n",
      "5156     2190225   138285            18          3                  2   \n",
      "15506     553049    58599            13          3                  2   \n",
      "18420     382357   120200            19          3                  2   \n",
      "24691     690242    77357             2          3                  2   \n",
      "...          ...      ...           ...        ...                ...   \n",
      "457013   3384021    14881             6          3                  2   \n",
      "458816    910166   164782            18          3                  2   \n",
      "459635   1680532   106435             6          3                  2   \n",
      "468324    222962    54979            59          3                  2   \n",
      "477526   2592344    46860            38          3                  2   \n",
      "\n",
      "        days_since_prior_order  \n",
      "4838                      16.0  \n",
      "5156                      11.0  \n",
      "15506                      7.0  \n",
      "18420                     11.0  \n",
      "24691                      9.0  \n",
      "...                        ...  \n",
      "457013                    30.0  \n",
      "458816                     4.0  \n",
      "459635                    21.0  \n",
      "468324                     3.0  \n",
      "477526                     3.0  \n",
      "\n",
      "[121 rows x 6 columns]\n"
     ]
    }
   ],
   "source": [
    "# Basándote en tus hallazgos,\n",
    "# Verifica todos los pedidos que se hicieron el miércoles a las 2:00 a.m.\n",
    "\n",
    "# Filtrar los pedidos que se hicieron el miércoles (3) a las 2:00 a.m. (2)\n",
    "miércoles_2am_orders = orders[(orders['order_dow'] == 3) & (orders['order_hour_of_day'] == 2)]\n",
    "\n",
    "# Mostrar los resultados\n",
    "print(miércoles_2am_orders)"
   ]
  },
  {
   "cell_type": "markdown",
   "id": "573735fb",
   "metadata": {},
   "source": [
    "¿Qué sugiere este resultado?\n",
    "\n",
    "Estructura de los Datos: La salida muestra que cada fila representa un pedido, con información sobre el ID del pedido, el ID del usuario, el número de pedido, el día de la semana, la hora del día y los días desde el último pedido. Esto puede ser útil para análisis posteriores, como entender patrones de compra o la frecuencia de pedidos de los usuarios.\n",
    "\n",
    "Análisis Potencial: Con estos datos, podrías realizar análisis adicionales, como:\n",
    "\n",
    "Examinar el comportamiento de compra de los usuarios en diferentes días y horas.\n",
    "Analizar la relación entre el tiempo desde el último pedido y la probabilidad de realizar un nuevo pedido.\n",
    "Identificar tendencias en las compras a lo largo del tiempo."
   ]
  },
  {
   "cell_type": "code",
   "execution_count": 43,
   "id": "e514bd54",
   "metadata": {},
   "outputs": [
    {
     "name": "stdout",
     "output_type": "stream",
     "text": [
      "Antes de eliminar duplicados:\n",
      "        order_id  user_id  order_number  order_dow  order_hour_of_day  \\\n",
      "4838     2766110   162084            41          3                  2   \n",
      "5156     2190225   138285            18          3                  2   \n",
      "15506     553049    58599            13          3                  2   \n",
      "18420     382357   120200            19          3                  2   \n",
      "24691     690242    77357             2          3                  2   \n",
      "...          ...      ...           ...        ...                ...   \n",
      "457013   3384021    14881             6          3                  2   \n",
      "458816    910166   164782            18          3                  2   \n",
      "459635   1680532   106435             6          3                  2   \n",
      "468324    222962    54979            59          3                  2   \n",
      "477526   2592344    46860            38          3                  2   \n",
      "\n",
      "        days_since_prior_order  \n",
      "4838                      16.0  \n",
      "5156                      11.0  \n",
      "15506                      7.0  \n",
      "18420                     11.0  \n",
      "24691                      9.0  \n",
      "...                        ...  \n",
      "457013                    30.0  \n",
      "458816                     4.0  \n",
      "459635                    21.0  \n",
      "468324                     3.0  \n",
      "477526                     3.0  \n",
      "\n",
      "[121 rows x 6 columns]\n",
      "Después de eliminar duplicados:\n",
      "        order_id  user_id  order_number  order_dow  order_hour_of_day  \\\n",
      "4838     2766110   162084            41          3                  2   \n",
      "5156     2190225   138285            18          3                  2   \n",
      "15506     553049    58599            13          3                  2   \n",
      "18420     382357   120200            19          3                  2   \n",
      "24691     690242    77357             2          3                  2   \n",
      "...          ...      ...           ...        ...                ...   \n",
      "457013   3384021    14881             6          3                  2   \n",
      "458816    910166   164782            18          3                  2   \n",
      "459635   1680532   106435             6          3                  2   \n",
      "468324    222962    54979            59          3                  2   \n",
      "477526   2592344    46860            38          3                  2   \n",
      "\n",
      "        days_since_prior_order  \n",
      "4838                      16.0  \n",
      "5156                      11.0  \n",
      "15506                      7.0  \n",
      "18420                     11.0  \n",
      "24691                      9.0  \n",
      "...                        ...  \n",
      "457013                    30.0  \n",
      "458816                     4.0  \n",
      "459635                    21.0  \n",
      "468324                     3.0  \n",
      "477526                     3.0  \n",
      "\n",
      "[106 rows x 6 columns]\n"
     ]
    }
   ],
   "source": [
    "# Elimina los pedidos duplicados\n",
    "\n",
    "# Mostrar los resultados antes de eliminar duplicados\n",
    "print(\"Antes de eliminar duplicados:\")\n",
    "print(miércoles_2am_orders)\n",
    "\n",
    "# Eliminar los pedidos duplicados\n",
    "miércoles_2am_orders = miércoles_2am_orders.drop_duplicates()\n",
    "\n",
    "# Mostrar los resultados después de eliminar duplicados\n",
    "print(\"Después de eliminar duplicados:\")\n",
    "print(miércoles_2am_orders)\n"
   ]
  },
  {
   "cell_type": "code",
   "execution_count": 44,
   "id": "95dc81ad",
   "metadata": {},
   "outputs": [
    {
     "name": "stdout",
     "output_type": "stream",
     "text": [
      "Número de filas duplicadas restantes: 0\n"
     ]
    }
   ],
   "source": [
    "# Vuelve a verificar si hay filas duplicadas\n",
    "\n",
    "duplicados = miércoles_2am_orders.duplicated().sum()\n",
    "print(f\"Número de filas duplicadas restantes: {duplicados}\")"
   ]
  },
  {
   "cell_type": "code",
   "execution_count": 45,
   "id": "fe743ad0",
   "metadata": {},
   "outputs": [
    {
     "name": "stdout",
     "output_type": "stream",
     "text": [
      "IDs de pedidos duplicados:\n",
      "Empty DataFrame\n",
      "Columns: [order_id, user_id, order_number, order_dow, order_hour_of_day, days_since_prior_order]\n",
      "Index: []\n"
     ]
    }
   ],
   "source": [
    "# Vuelve a verificar únicamente si hay IDs duplicados de pedidos\n",
    "duplicados = miércoles_2am_orders[miércoles_2am_orders.duplicated(subset='order_id', keep=False)]\n",
    "print(\"IDs de pedidos duplicados:\")\n",
    "print(duplicados)\n"
   ]
  },
  {
   "cell_type": "markdown",
   "id": "df6f5bea",
   "metadata": {},
   "source": [
    "### `products` data frame"
   ]
  },
  {
   "cell_type": "code",
   "execution_count": 46,
   "id": "87418435",
   "metadata": {},
   "outputs": [
    {
     "name": "stdout",
     "output_type": "stream",
     "text": [
      "       product_id                                       product_name  \\\n",
      "0               1                         Chocolate Sandwich Cookies   \n",
      "1               2                                   All-Seasons Salt   \n",
      "2               3               Robust Golden Unsweetened Oolong Tea   \n",
      "3               4  Smart Ones Classic Favorites Mini Rigatoni Wit...   \n",
      "4               5                          Green Chile Anytime Sauce   \n",
      "...           ...                                                ...   \n",
      "49689       49690                      HIGH PERFORMANCE ENERGY DRINK   \n",
      "49690       49691                      ORIGINAL PANCAKE & WAFFLE MIX   \n",
      "49691       49692    ORGANIC INSTANT OATMEAL LIGHT MAPLE BROWN SUGAR   \n",
      "49692       49693                             SPRING WATER BODY WASH   \n",
      "49693       49694                            BURRITO- STEAK & CHEESE   \n",
      "\n",
      "       aisle_id  department_id  \n",
      "0            61             19  \n",
      "1           104             13  \n",
      "2            94              7  \n",
      "3            38              1  \n",
      "4             5             13  \n",
      "...         ...            ...  \n",
      "49689        64              7  \n",
      "49690       130             14  \n",
      "49691       130             14  \n",
      "49692       127             11  \n",
      "49693        38              1  \n",
      "\n",
      "[49694 rows x 4 columns]\n"
     ]
    }
   ],
   "source": [
    "# Verificar duplicados en los IDs de departamentos\n",
    "duplicados_departamentos = products['department_id'].duplicated(keep=False)\n",
    "\n",
    "# Mostrar los departamentos duplicados\n",
    "departamentos_duplicados = products[duplicados_departamentos]\n",
    "\n",
    "print(departamentos_duplicados)"
   ]
  },
  {
   "cell_type": "code",
   "execution_count": 47,
   "id": "bcffab67",
   "metadata": {},
   "outputs": [
    {
     "name": "stdout",
     "output_type": "stream",
     "text": [
      "Número de filas duplicadas: 0\n",
      "Empty DataFrame\n",
      "Columns: [product_id, product_name, aisle_id, department_id]\n",
      "Index: []\n"
     ]
    }
   ],
   "source": [
    "# Verifica si hay filas duplicadas\n",
    "duplicados = products.duplicated()\n",
    "\n",
    "# Muestra el número de filas duplicadas\n",
    "numero_duplicados = duplicados.sum()\n",
    "print(f\"Número de filas duplicadas: {numero_duplicados}\")\n",
    "\n",
    "# Si quieres ver las filas duplicadas\n",
    "filas_duplicadas = products[duplicados]\n",
    "print(filas_duplicadas)"
   ]
  },
  {
   "cell_type": "code",
   "execution_count": 48,
   "id": "44fa2b3c",
   "metadata": {},
   "outputs": [
    {
     "name": "stdout",
     "output_type": "stream",
     "text": [
      "       product_id                                     product_name  aisle_id  \\\n",
      "37             38                                              NaN       100   \n",
      "41             42                                  Biotin 1000 mcg        47   \n",
      "71             72                                              NaN       100   \n",
      "109           110                                              NaN       100   \n",
      "185           186       Fresh Scent Dishwasher Detergent with Dawn        74   \n",
      "...           ...                                              ...       ...   \n",
      "49689       49690                    HIGH PERFORMANCE ENERGY DRINK        64   \n",
      "49690       49691                    ORIGINAL PANCAKE & WAFFLE MIX       130   \n",
      "49691       49692  ORGANIC INSTANT OATMEAL LIGHT MAPLE BROWN SUGAR       130   \n",
      "49692       49693                           SPRING WATER BODY WASH       127   \n",
      "49693       49694                          BURRITO- STEAK & CHEESE        38   \n",
      "\n",
      "       department_id  \n",
      "37                21  \n",
      "41                11  \n",
      "71                21  \n",
      "109               21  \n",
      "185               17  \n",
      "...              ...  \n",
      "49689              7  \n",
      "49690             14  \n",
      "49691             14  \n",
      "49692             11  \n",
      "49693              1  \n",
      "\n",
      "[1465 rows x 4 columns]\n"
     ]
    }
   ],
   "source": [
    "# Convertir los nombres de productos a mayúsculas y verificar duplicados\n",
    "duplicados = products['product_name'].str.upper().duplicated(keep=False)\n",
    "\n",
    "# Mostrar los productos duplicados\n",
    "productos_duplicados = products[duplicados]\n",
    "\n",
    "print(productos_duplicados)"
   ]
  },
  {
   "cell_type": "code",
   "execution_count": 49,
   "id": "dbe9b151",
   "metadata": {},
   "outputs": [
    {
     "name": "stdout",
     "output_type": "stream",
     "text": [
      "Empty DataFrame\n",
      "Columns: [product_id, product_name, aisle_id, department_id]\n",
      "Index: []\n"
     ]
    }
   ],
   "source": [
    "# Filtrar los productos que no son faltantes\n",
    "productos_no_faltantes = products[products['product_name'].notna()]\n",
    "\n",
    "# Verificar duplicados en los nombres de productos\n",
    "duplicados = productos_no_faltantes['product_name'].duplicated(keep=False)\n",
    "\n",
    "# Mostrar los productos duplicados\n",
    "productos_duplicados = productos_no_faltantes[duplicados]\n",
    "\n",
    "print(productos_duplicados)\n"
   ]
  },
  {
   "cell_type": "markdown",
   "id": "a6fb42ea",
   "metadata": {},
   "source": [
    "### `departments` data frame"
   ]
  },
  {
   "cell_type": "code",
   "execution_count": 50,
   "id": "f19f9563",
   "metadata": {},
   "outputs": [
    {
     "name": "stdout",
     "output_type": "stream",
     "text": [
      "Empty DataFrame\n",
      "Columns: [department_id, department]\n",
      "Index: []\n"
     ]
    }
   ],
   "source": [
    "# Verificar filas duplicadas\n",
    "duplicados = departments.duplicated(keep=False)\n",
    "\n",
    "# Mostrar filas duplicadas\n",
    "filas_duplicadas = departments[duplicados]\n",
    "\n",
    "print(filas_duplicadas)"
   ]
  },
  {
   "cell_type": "code",
   "execution_count": 51,
   "id": "ba8f4905",
   "metadata": {},
   "outputs": [
    {
     "name": "stdout",
     "output_type": "stream",
     "text": [
      "Empty DataFrame\n",
      "Columns: [department_id, department]\n",
      "Index: []\n"
     ]
    }
   ],
   "source": [
    "# Verificar IDs duplicados en la columna 'product_id'\n",
    "duplicados_productos = departments['department_id'].duplicated(keep=False)\n",
    "\n",
    "# Mostrar los productos duplicados\n",
    "productos_duplicados = departments[duplicados_productos]\n",
    "\n",
    "print(productos_duplicados)\n"
   ]
  },
  {
   "cell_type": "markdown",
   "id": "1a331488",
   "metadata": {},
   "source": [
    "### `aisles` data frame"
   ]
  },
  {
   "cell_type": "code",
   "execution_count": 52,
   "id": "3f4461ec",
   "metadata": {},
   "outputs": [
    {
     "name": "stdout",
     "output_type": "stream",
     "text": [
      "Empty DataFrame\n",
      "Columns: [aisle_id, aisle]\n",
      "Index: []\n"
     ]
    }
   ],
   "source": [
    "# Verificar filas duplicadas\n",
    "duplicados = aisles.duplicated(keep=False)\n",
    "\n",
    "# Mostrar filas duplicadas\n",
    "filas_duplicadas = aisles[duplicados]\n",
    "\n",
    "print(filas_duplicadas)"
   ]
  },
  {
   "cell_type": "code",
   "execution_count": 53,
   "id": "02b9043c",
   "metadata": {},
   "outputs": [
    {
     "name": "stdout",
     "output_type": "stream",
     "text": [
      "Empty DataFrame\n",
      "Columns: [aisle_id, aisle]\n",
      "Index: []\n"
     ]
    }
   ],
   "source": [
    "# Verificar duplicados únicamente en la columna aisle_id\n",
    "duplicados = aisles.duplicated(subset=['aisle_id'], keep=False)\n",
    "\n",
    "# Mostrar filas con IDs duplicadas\n",
    "filas_duplicadas = aisles[duplicados]\n",
    "\n",
    "print(filas_duplicadas)"
   ]
  },
  {
   "cell_type": "markdown",
   "id": "29c7981d",
   "metadata": {},
   "source": [
    "### `order_products` data frame"
   ]
  },
  {
   "cell_type": "code",
   "execution_count": 54,
   "id": "6d485826",
   "metadata": {},
   "outputs": [
    {
     "name": "stdout",
     "output_type": "stream",
     "text": [
      "Empty DataFrame\n",
      "Columns: [order_id, product_id, add_to_cart_order, reordered]\n",
      "Index: []\n"
     ]
    }
   ],
   "source": [
    "# Verificar filas duplicadas\n",
    "duplicados = order_products.duplicated(keep=False)\n",
    "\n",
    "# Mostrar filas duplicadas\n",
    "filas_duplicadas = order_products[duplicados]\n",
    "\n",
    "print(filas_duplicadas)"
   ]
  },
  {
   "cell_type": "code",
   "execution_count": 55,
   "id": "4227aec8",
   "metadata": {},
   "outputs": [
    {
     "name": "stdout",
     "output_type": "stream",
     "text": [
      "Empty DataFrame\n",
      "Columns: [order_id, product_id, add_to_cart_order, reordered]\n",
      "Index: []\n"
     ]
    }
   ],
   "source": [
    "# Vuelve a verificar si hay cualquier otro duplicado engañoso\n",
    "\n",
    "# Verificar duplicados en columnas específicas\n",
    "# Por ejemplo, si quieres verificar duplicados en 'order_id' y 'product_id'\n",
    "duplicados_eng = order_products.duplicated(subset=['order_id', 'product_id'], keep=False)\n",
    "\n",
    "# Mostrar filas que son duplicados engañosos\n",
    "filas_duplicadas_eng = order_products[duplicados_eng]\n",
    "\n",
    "print(filas_duplicadas_eng)"
   ]
  },
  {
   "cell_type": "markdown",
   "id": "2f38d4b2",
   "metadata": {},
   "source": [
    "## Encuentra y elimina los valores ausentes\n",
    "\n",
    "Al trabajar con valores duplicados, pudimos observar que también nos falta investigar valores ausentes:\n",
    "\n",
    "* La columna `'product_name'` de la tabla products.\n",
    "* La columna `'days_since_prior_order'` de la tabla orders.\n",
    "* La columna `'add_to_cart_order'` de la tabla order_productos."
   ]
  },
  {
   "cell_type": "markdown",
   "id": "08c774fb",
   "metadata": {},
   "source": [
    "### `products` data frame"
   ]
  },
  {
   "cell_type": "code",
   "execution_count": 56,
   "id": "f8e781dc",
   "metadata": {},
   "outputs": [
    {
     "name": "stdout",
     "output_type": "stream",
     "text": [
      "Cantidad de valores ausentes en 'product_name': 1258\n"
     ]
    }
   ],
   "source": [
    "# Contar los valores ausentes en la columna 'product_name'\n",
    "valores_ausentes = products['product_name'].isnull().sum()\n",
    "\n",
    "print(f\"Cantidad de valores ausentes en 'product_name': {valores_ausentes}\")"
   ]
  },
  {
   "cell_type": "code",
   "execution_count": 57,
   "id": "813cbd96",
   "metadata": {},
   "outputs": [
    {
     "name": "stdout",
     "output_type": "stream",
     "text": [
      "True\n"
     ]
    }
   ],
   "source": [
    "#  ¿Todos los nombres de productos ausentes están relacionados con el pasillo con ID 100? \n",
    "\n",
    "# Filtrar los productos con nombres ausentes\n",
    "missing_products = products[products['product_name'].isnull()]\n",
    "\n",
    "# Comprobar si todos los productos ausentes están en el pasillo con ID 100\n",
    "all_missing_in_aisle_100 = missing_products['aisle_id'].eq(100).all()\n",
    "\n",
    "# Imprimir el resultado\n",
    "print(all_missing_in_aisle_100)"
   ]
  },
  {
   "cell_type": "code",
   "execution_count": 58,
   "id": "97c8b3b7",
   "metadata": {},
   "outputs": [
    {
     "name": "stdout",
     "output_type": "stream",
     "text": [
      "True\n"
     ]
    }
   ],
   "source": [
    "# ¿Todos los nombres de productos ausentes están relacionados con el departamento con ID 21?\n",
    "\n",
    "# Filtrar los productos con nombres ausentes\n",
    "missing_products = products[products['product_name'].isnull()]\n",
    "\n",
    "# Comprobar si todos los productos ausentes están en el departamento con ID 21\n",
    "all_missing_in_department_21 = missing_products['department_id'].eq(21).all()\n",
    "\n",
    "# Imprimir el resultado\n",
    "print(all_missing_in_department_21)"
   ]
  },
  {
   "cell_type": "code",
   "execution_count": 59,
   "id": "04125079",
   "metadata": {},
   "outputs": [
    {
     "name": "stdout",
     "output_type": "stream",
     "text": [
      "Datos del pasillo con ID 100:\n",
      "    aisle_id    aisle\n",
      "99       100  missing\n",
      "\n",
      "Datos del departamento con ID 21:\n",
      "    department_id department\n",
      "20             21    missing\n"
     ]
    }
   ],
   "source": [
    "# Usa las tablas department y aisle para revisar los datos del pasillo con ID 100 y el departamento con ID 21.\n",
    "\n",
    "# Filtrar el pasillo con ID 100\n",
    "aisle_100 = aisles[aisles['aisle_id'] == 100]\n",
    "\n",
    "# Filtrar el departamento con ID 21\n",
    "department_21 = departments[departments['department_id'] == 21]\n",
    "\n",
    "# Imprimir los resultados\n",
    "print(\"Datos del pasillo con ID 100:\")\n",
    "print(aisle_100)\n",
    "\n",
    "print(\"\\nDatos del departamento con ID 21:\")\n",
    "print(department_21)"
   ]
  },
  {
   "cell_type": "code",
   "execution_count": 60,
   "id": "10457ccc",
   "metadata": {},
   "outputs": [
    {
     "name": "stdout",
     "output_type": "stream",
     "text": [
      "       product_id                                       product_name  \\\n",
      "0               1                         Chocolate Sandwich Cookies   \n",
      "1               2                                   All-Seasons Salt   \n",
      "2               3               Robust Golden Unsweetened Oolong Tea   \n",
      "3               4  Smart Ones Classic Favorites Mini Rigatoni Wit...   \n",
      "4               5                          Green Chile Anytime Sauce   \n",
      "...           ...                                                ...   \n",
      "49689       49690                      HIGH PERFORMANCE ENERGY DRINK   \n",
      "49690       49691                      ORIGINAL PANCAKE & WAFFLE MIX   \n",
      "49691       49692    ORGANIC INSTANT OATMEAL LIGHT MAPLE BROWN SUGAR   \n",
      "49692       49693                             SPRING WATER BODY WASH   \n",
      "49693       49694                            BURRITO- STEAK & CHEESE   \n",
      "\n",
      "       aisle_id  department_id  \n",
      "0            61             19  \n",
      "1           104             13  \n",
      "2            94              7  \n",
      "3            38              1  \n",
      "4             5             13  \n",
      "...         ...            ...  \n",
      "49689        64              7  \n",
      "49690       130             14  \n",
      "49691       130             14  \n",
      "49692       127             11  \n",
      "49693        38              1  \n",
      "\n",
      "[49694 rows x 4 columns]\n"
     ]
    }
   ],
   "source": [
    "# Completa los nombres de productos ausentes con 'Unknown'\n",
    "\n",
    "# Completar los nombres de productos ausentes con 'Unknown'\n",
    "products['product_name'] = products['product_name'].fillna('Unknown')\n",
    "\n",
    "# Verificar los cambios\n",
    "print(products)\n"
   ]
  },
  {
   "cell_type": "markdown",
   "id": "6ecbae2d",
   "metadata": {},
   "source": [
    "### Se escribio el codigo para reemplazar productos ausentes usando la funcion \"fillna\""
   ]
  },
  {
   "cell_type": "markdown",
   "id": "be6dbd4d",
   "metadata": {},
   "source": [
    "### `orders` data frame"
   ]
  },
  {
   "cell_type": "code",
   "execution_count": 61,
   "id": "b0d963d8",
   "metadata": {},
   "outputs": [
    {
     "name": "stdout",
     "output_type": "stream",
     "text": [
      "order_id                      0\n",
      "user_id                       0\n",
      "order_number                  0\n",
      "order_dow                     0\n",
      "order_hour_of_day             0\n",
      "days_since_prior_order    28819\n",
      "dtype: int64\n"
     ]
    }
   ],
   "source": [
    "# Encuentra los valores ausentes\n",
    "\n",
    "# Encontrar los valores ausentes\n",
    "valores_ausentes = orders.isna().sum()\n",
    "\n",
    "# Imprimir el resumen de valores ausentes\n",
    "print(valores_ausentes)"
   ]
  },
  {
   "cell_type": "code",
   "execution_count": 62,
   "id": "6cb55546",
   "metadata": {},
   "outputs": [
    {
     "name": "stdout",
     "output_type": "stream",
     "text": [
      "order_id                  0\n",
      "user_id                   0\n",
      "order_number              0\n",
      "order_dow                 0\n",
      "order_hour_of_day         0\n",
      "days_since_prior_order    0\n",
      "dtype: int64\n"
     ]
    }
   ],
   "source": [
    "# ¿Hay algún valor ausente que no sea el primer pedido del cliente?\n",
    "\n",
    "# Identificar el primer pedido de cada cliente\n",
    "primer_pedido = orders.groupby('user_id')['order_number'].min().reset_index()\n",
    "\n",
    "# Filtrar el DataFrame para excluir el primer pedido de cada cliente\n",
    "sin_primer_pedido = orders[~orders['order_number'].isin(primer_pedido['order_number'])]\n",
    "\n",
    "# Comprobar si hay valores ausentes en el DataFrame filtrado\n",
    "valores_ausentes = sin_primer_pedido.isna().sum()\n",
    "\n",
    "# Imprimir el resumen de valores ausentes\n",
    "print(valores_ausentes)"
   ]
  },
  {
   "cell_type": "markdown",
   "id": "918adc23",
   "metadata": {},
   "source": [
    "### `order_products` data frame"
   ]
  },
  {
   "cell_type": "code",
   "execution_count": 63,
   "id": "91d00982",
   "metadata": {},
   "outputs": [
    {
     "name": "stdout",
     "output_type": "stream",
     "text": [
      "order_id               0\n",
      "product_id             0\n",
      "add_to_cart_order    836\n",
      "reordered              0\n",
      "dtype: int64\n"
     ]
    }
   ],
   "source": [
    "# Encuentra los valores ausentes\n",
    "\n",
    "# Encuentra los valores ausentes en cada columna\n",
    "valores_ausentes = order_products.isnull().sum()\n",
    "\n",
    "# Muestra los resultados\n",
    "print(valores_ausentes)\n"
   ]
  },
  {
   "cell_type": "code",
   "execution_count": 64,
   "id": "e5882545",
   "metadata": {},
   "outputs": [
    {
     "name": "stdout",
     "output_type": "stream",
     "text": [
      "Valor mínimo: 1.0\n",
      "Valor máximo: 64.0\n"
     ]
    }
   ],
   "source": [
    "# ¿Cuáles son los valores mínimos y máximos en esta columna?\n",
    "\n",
    "# Encuentra el valor mínimo y máximo en la columna 'add_to_cart_order'\n",
    "valor_minimo = order_products['add_to_cart_order'].min()\n",
    "valor_maximo = order_products['add_to_cart_order'].max()\n",
    "\n",
    "print(f'Valor mínimo: {valor_minimo}')\n",
    "print(f'Valor máximo: {valor_maximo}')\n"
   ]
  },
  {
   "cell_type": "code",
   "execution_count": 65,
   "id": "3498fc7f",
   "metadata": {},
   "outputs": [
    {
     "name": "stdout",
     "output_type": "stream",
     "text": [
      "[2449164, 1968313, 2926893, 1717990, 1959075, 844733, 61355, 936852, 264710, 1717990, 1564093, 129627, 264710, 293169, 2849370, 1386261, 3308010, 903110, 2136777, 3347453, 1888628, 165801, 2449164, 2094761, 3347453, 1038146, 2136777, 2997021, 844733, 844733, 2136777, 813364, 165801, 2256933, 171934, 264710, 2449164, 2409109, 3347453, 813364, 2926893, 936852, 1730767, 1169835, 733526, 844733, 293169, 61355, 903110, 1968313, 733526, 2136777, 2926893, 404157, 1386261, 171934, 3125735, 747668, 3308010, 1169835, 1800005, 1961723, 936852, 2849370, 3308010, 61355, 871281, 1717990, 813364, 388234, 61355, 3125735, 1959075, 61355, 3125735, 1648217, 171934, 3125735, 61355, 1477139, 1959075, 1717990, 1717990, 61355, 1717990, 171934, 1038146, 3308010, 3347453, 102236, 936852, 171934, 1730767, 2926893, 1021563, 1832957, 1959075, 2256933, 1968313, 2721963, 293169, 102236, 3125735, 1959075, 264710, 678116, 1220886, 1386261, 171934, 1959075, 61355, 3308010, 61355, 102236, 388234, 171934, 3308010, 1961723, 2721963, 3308010, 1564093, 264710, 404157, 1673227, 813364, 2094761, 844733, 1386261, 1959075, 3125735, 61355, 102236, 3308010, 1386261, 936852, 2999801, 1038146, 1888628, 813364, 1800005, 1968313, 3308010, 2449164, 388234, 3125735, 102236, 903110, 1832957, 102236, 3308010, 2926893, 388234, 1800005, 2094761, 2721963, 844733, 2136777, 2926893, 813364, 2136777, 1673227, 1633337, 1021563, 102236, 1800005, 1477139, 2470674, 1220886, 2470674, 1648217, 264710, 1832957, 2721963, 2849370, 2625444, 871281, 1717990, 1220886, 1677118, 1730767, 1730767, 678116, 102236, 2136777, 61355, 2136777, 903110, 844733, 2849370, 1832957, 1730767, 2479011, 3383594, 61355, 1832957, 1021563, 1021563, 1959075, 1832957, 813364, 61355, 61355, 2926893, 1959075, 1648217, 2136777, 264710, 1800005, 2094761, 2926893, 1959075, 264710, 61355, 3308010, 2256933, 936852, 3308010, 1038146, 1183255, 2256933, 1832957, 1386261, 1713430, 1730767, 2136777, 3308010, 1717990, 171934, 1968313, 1717990, 2136777, 1648217, 1968313, 2652650, 733526, 1673227, 2849370, 61355, 3308010, 1169835, 3308010, 171934, 2999801, 1717990, 1386261, 936852, 1968313, 1713430, 1800005, 2136777, 264710, 264710, 2926893, 165801, 1598369, 2997021, 1730767, 61355, 1916118, 1730767, 3308010, 2479011, 2449164, 61355, 3125735, 2094761, 1888628, 3125735, 264710, 171934, 1800005, 1038146, 1959075, 102236, 3308010, 1386261, 1800005, 2470674, 2926893, 2470674, 102236, 3308010, 1717990, 903110, 2997021, 129627, 3383594, 3308010, 1386261, 854647, 102236, 1038146, 3308010, 936852, 264710, 264710, 1800005, 61355, 1220886, 2136777, 293169, 1800005, 1888628, 813364, 2136777, 61355, 1730767, 1021563, 2721963, 1730767, 1564093, 3308010, 2849370, 3308010, 1302315, 1888628, 61355, 1959075, 61355, 2136777, 733526, 3308010, 1730767, 1183255, 264710, 1730767, 678116, 2721963, 2136777, 3308010, 2721963, 2409109, 871281, 171934, 678116, 2849370, 813364, 3125735, 1730767, 61355, 2999801, 1648217, 936852, 3125735, 61355, 2849370, 1220886, 1959075, 2256933, 171934, 2926893, 2926893, 404157, 2136777, 3308010, 1021563, 404157, 171934, 61355, 2094761, 1832957, 293169, 813364, 293169, 3125735, 1021563, 1800005, 3308010, 936852, 264710, 171934, 888470, 1673227, 871281, 1800005, 3308010, 1730767, 180546, 2621907, 1730767, 936852, 1959075, 1169835, 1730767, 2926893, 854647, 2449164, 3308010, 2470674, 1183255, 61355, 1386261, 903110, 2094761, 903110, 264710, 1648217, 293169, 2479011, 1730767, 1730767, 2926893, 61355, 3125735, 1959075, 2409109, 2926893, 1021563, 1386261, 3308010, 2926893, 1800005, 61355, 2449164, 102236, 3308010, 1308785, 1800005, 2926893, 61355, 2136777, 1717990, 3308010, 1730767, 871281, 1673227, 102236, 2136777, 1717990, 813364, 1800005, 1959075, 813364, 165801, 2136777, 2729254, 1673227, 1961723, 61355, 1183255, 2136777, 1302315, 1386261, 2849370, 171934, 2136777, 3308010, 733526, 1959075, 9310, 813364, 2170451, 1800005, 404157, 871281, 3125735, 2721963, 404157, 129627, 678116, 2926893, 264710, 2256933, 102236, 102236, 1021563, 264710, 2926893, 936852, 102236, 1968313, 936852, 293169, 2136777, 2136777, 61355, 1183255, 1730767, 1800005, 2479011, 1386261, 1800005, 1673227, 3308010, 2926893, 2926893, 61355, 1832957, 1717990, 813364, 2999801, 264710, 3308010, 3347453, 3308010, 936852, 813364, 404157, 171934, 903110, 871281, 102236, 61355, 813364, 102236, 3308010, 1800005, 1832957, 2479011, 171934, 171934, 844733, 3308010, 171934, 1800005, 404157, 1673227, 3383594, 3308010, 2136777, 102236, 1717990, 2094761, 102236, 1959075, 171934, 2136777, 1386261, 2136777, 2449164, 171934, 3308010, 1220886, 2136777, 1959075, 2136777, 171934, 936852, 3308010, 2470674, 871281, 2721963, 102236, 61355, 3125735, 3308010, 1386261, 1717990, 293169, 61355, 1386261, 2721963, 2136777, 1888628, 264710, 1564093, 2136777, 1730767, 2849370, 2721963, 293169, 264710, 2721963, 3125735, 1959075, 404157, 171934, 61355, 1959075, 871281, 61355, 1183255, 1673227, 2849370, 1477139, 1730767, 903110, 844733, 3308010, 1673227, 61355, 171934, 2926893, 2926893, 1959075, 2479011, 3347453, 2721963, 2625444, 171934, 813364, 102236, 61355, 844733, 2721963, 1302315, 813364, 61355, 2926893, 1968313, 1968313, 264710, 1717990, 1730767, 2136777, 2721963, 2136777, 2721963, 171934, 171934, 2979697, 1730767, 1888628, 1625713, 2136777, 1800005, 2094761, 1961723, 1564093, 1959075, 1916118, 61355, 2997021, 293169, 3308010, 1529171, 61355, 2256933, 1959075, 2449164, 1673227, 2479011, 1888628, 1800005, 2470674, 1386261, 3125735, 2721963, 2926893, 1800005, 1386261, 2136777, 61355, 171934, 3308010, 61355, 936852, 61355, 936852, 293169, 1386261, 171934, 1800005, 871281, 3125735, 61355, 1959075, 1968313, 1717990, 3308010, 844733, 129627, 844733, 264710, 165801, 1386261, 2136777, 2721963, 1730767, 3125735, 2136777, 1183255, 171934, 936852, 854647, 1386261, 2926893, 1961723, 61355, 1730767, 1633337, 61355, 1959075, 102236, 404157, 1968313, 1386261, 2136777, 2999801, 1529171, 2721963, 61355, 3383594, 1730767, 936852, 2926893, 102236, 1959075, 102236, 1713430, 3383594, 102236, 1959075, 678116, 2449164, 844733, 61355, 3308010, 61355, 2136777, 264710, 171934, 813364, 3308010, 1730767, 61355, 102236, 61355, 1717990, 3308010, 1968313, 129627, 936852, 61355, 61355, 165801, 2409109, 2926893, 61355, 1961723, 1832957, 1961723, 1183255, 61355, 2999801, 1220886, 3125735, 171934, 388234, 102236, 102236, 61355, 2721963, 1800005, 1968313, 2136777, 61355, 1220886, 61355, 936852, 1673227, 936852, 1673227, 1625713, 171934, 2136777, 1800005, 1730767, 264710, 102236, 61355, 903110, 2136777, 1959075, 3125735, 171934, 1169835, 3308010, 61355, 1959075, 2721963, 813364, 1477139, 1888628, 1730767, 1959075, 2479011, 3308010, 2721963, 1717990, 2409109, 171934, 171934, 1183255, 1800005, 171934, 2136777, 388234, 264710, 61355, 1730767, 1717990, 1916118, 264710, 3125735, 1959075, 813364, 3347453, 293169, 171934, 1386261, 1183255, 1717990, 1308785, 2625444, 171934, 102236, 1386261, 1968313, 1386261, 404157, 1959075, 1832957, 1961723, 936852, 1386261, 2449164, 171934, 1959075, 2449164, 180546, 1183255, 1386261, 1968313, 2136777, 3308010, 2479011, 2979697, 1888628, 1832957, 1961723, 1800005, 1633337, 404157, 1673227, 1832957]\n"
     ]
    }
   ],
   "source": [
    "# Guarda todas las IDs de pedidos que tengan un valor ausente en 'add_to_cart_order'\n",
    "\n",
    "# Filtrar las filas donde 'add_to_cart_order' es NaN y guardar las IDs de pedidos\n",
    "ids_con_valor_ausente = order_products[order_products['add_to_cart_order'].isna()]['order_id']\n",
    "\n",
    "# Si deseas convertirlo a una lista, puedes hacerlo así:\n",
    "lista_ids_con_valor_ausente = ids_con_valor_ausente.tolist()\n",
    "\n",
    "# Imprimir la lista de IDs\n",
    "print(lista_ids_con_valor_ausente)"
   ]
  },
  {
   "cell_type": "code",
   "execution_count": 66,
   "id": "93f0863a",
   "metadata": {},
   "outputs": [
    {
     "name": "stdout",
     "output_type": "stream",
     "text": [
      "El número mínimo de productos en pedidos con valores ausentes es: 65\n"
     ]
    }
   ],
   "source": [
    "# Filtrar los pedidos que tienen valores ausentes en 'add_to_cart_order'\n",
    "pedidos_con_na = order_products[order_products['add_to_cart_order'].isna()]\n",
    "\n",
    "# Obtener la lista de IDs de pedidos con valores ausentes\n",
    "lista_ids_con_valor_ausente = pedidos_con_na['order_id'].unique()\n",
    "\n",
    "# Filtrar todos los productos de los pedidos que tienen al menos un nulo\n",
    "pedidos_con_ausentes = order_products[order_products['order_id'].isin(lista_ids_con_valor_ausente)]\n",
    "\n",
    "# Agrupar por ID de pedido y contar el número de 'product_id'\n",
    "conteo_productos = pedidos_con_ausentes.groupby('order_id')['product_id'].count()\n",
    "\n",
    "# Revisar el valor mínimo del conteo\n",
    "min_productos = conteo_productos.min()\n",
    "\n",
    "# Imprimir el resultado\n",
    "print(f'El número mínimo de productos en pedidos con valores ausentes es: {min_productos}')"
   ]
  },
  {
   "cell_type": "code",
   "execution_count": 67,
   "id": "11bcab48",
   "metadata": {},
   "outputs": [
    {
     "name": "stdout",
     "output_type": "stream",
     "text": [
      "0    17\n",
      "1     1\n",
      "2     1\n",
      "3    35\n",
      "4     5\n",
      "Name: add_to_cart_order, dtype: int32\n"
     ]
    }
   ],
   "source": [
    "# Remplaza los valores ausentes en la columna 'add_to_cart' con 999 y convierte la columna al tipo entero.\n",
    "\n",
    "# Reemplazar los valores ausentes con 999 y convertir la columna al tipo entero\n",
    "order_products['add_to_cart_order'] = order_products['add_to_cart_order'].fillna(999).astype(int)\n",
    "\n",
    "# Imprimir el resultado para verificar\n",
    "print(order_products['add_to_cart_order'].head())"
   ]
  },
  {
   "cell_type": "markdown",
   "id": "4d49a58b",
   "metadata": {},
   "source": [
    "# Análisis de los datos\n",
    "\n",
    "Una vez los datos estén procesados y listos, haz el siguiente análisis:\n",
    "\n",
    "Verifica que los valores en las columnas 'order_hour_of_day' y 'order_dow' en la tabla orders sean razonables (es decir, 'order_hour_of_day' oscile entre 0 y 23 y 'order_dow' oscile entre 0 y 6).\n",
    "Crea un gráfico que muestre el número de personas que hacen pedidos dependiendo de la hora del día.\n",
    "Crea un gráfico que muestre qué día de la semana la gente hace sus compras.\n",
    "Crea un gráfico que muestre el tiempo que la gente espera hasta hacer su siguiente pedido, y comenta sobre los valores mínimos y máximos.\n"
   ]
  },
  {
   "cell_type": "markdown",
   "id": "2eaf8636",
   "metadata": {},
   "source": [
    "### Verifica que los valores sean sensibles"
   ]
  },
  {
   "cell_type": "code",
   "execution_count": 68,
   "id": "635f8e1b",
   "metadata": {},
   "outputs": [
    {
     "name": "stdout",
     "output_type": "stream",
     "text": [
      "Valores de 'order_hour_of_day' son razonables: True\n",
      "Valores de 'order_dow' son razonables: True\n"
     ]
    },
    {
     "data": {
      "image/png": "[encoded data removed]",
      "text/plain": [
       "<Figure size 1000x500 with 1 Axes>"
      ]
     },
     "metadata": {},
     "output_type": "display_data"
    },
    {
     "data": {
      "image/png": "[encoded data removed]",
      "text/plain": [
       "<Figure size 1000x500 with 1 Axes>"
      ]
     },
     "metadata": {},
     "output_type": "display_data"
    },
    {
     "data": {
      "image/png": "[encoded data removed]",
      "text/plain": [
       "<Figure size 1000x500 with 1 Axes>"
      ]
     },
     "metadata": {},
     "output_type": "display_data"
    },
    {
     "name": "stdout",
     "output_type": "stream",
     "text": [
      "Tiempo mínimo entre pedidos: 1.0\n",
      "Tiempo máximo entre pedidos: 1.0\n"
     ]
    }
   ],
   "source": [
    "# Verificar valores razonables en 'order_hour_of_day' y 'order_dow'\n",
    "hour_valid = orders['order_hour_of_day'].between(0, 23).all()\n",
    "dow_valid = orders['order_dow'].between(0, 6).all()\n",
    "\n",
    "print(f\"Valores de 'order_hour_of_day' son razonables: {hour_valid}\")\n",
    "print(f\"Valores de 'order_dow' son razonables: {dow_valid}\")\n",
    "\n",
    "# Gráfico del número de pedidos por hora del día\n",
    "plt.figure(figsize=(10, 5))\n",
    "orders['order_hour_of_day'].value_counts().sort_index().plot(kind='bar')\n",
    "plt.title('Número de pedidos por hora del día')\n",
    "plt.xlabel('Hora del día')\n",
    "plt.ylabel('Número de pedidos')\n",
    "plt.xticks(rotation=0)\n",
    "plt.show()\n",
    "\n",
    "# Gráfico del número de pedidos por día de la semana\n",
    "plt.figure(figsize=(10, 5))\n",
    "orders['order_dow'].value_counts().sort_index().plot(kind='bar')\n",
    "plt.title('Número de pedidos por día de la semana')\n",
    "plt.xlabel('Día de la semana (0=Domingo, 6=Sábado)')\n",
    "plt.ylabel('Número de pedidos')\n",
    "plt.xticks(rotation=0)\n",
    "plt.show()\n",
    "\n",
    "# Calcular el tiempo entre pedidos\n",
    "orders['order_number'] = orders.groupby('user_id').cumcount() + 1\n",
    "orders['prev_order_time'] = orders.groupby('user_id')['order_number'].shift(1)\n",
    "orders['time_between_orders'] = orders['order_number'] - orders['prev_order_time']\n",
    "time_between_orders = orders['time_between_orders'].dropna()\n",
    "\n",
    "# Gráfico del tiempo que la gente espera hasta hacer su siguiente pedido\n",
    "plt.figure(figsize=(10, 5))\n",
    "time_between_orders.value_counts().sort_index().plot(kind='bar')\n",
    "plt.title('Tiempo entre pedidos')\n",
    "plt.xlabel('Número de pedidos entre compras')\n",
    "plt.ylabel('Número de usuarios')\n",
    "plt.xticks(rotation=0)\n",
    "plt.show()\n",
    "\n",
    "# Comentarios sobre los valores mínimos y máximos\n",
    "min_time = time_between_orders.min()\n",
    "max_time = time_between_orders.max()\n",
    "print(f\"Tiempo mínimo entre pedidos: {min_time}\")\n",
    "print(f\"Tiempo máximo entre pedidos: {max_time}\") "
   ]
  },
  {
   "cell_type": "code",
   "execution_count": 69,
   "id": "93df2ece",
   "metadata": {},
   "outputs": [
    {
     "name": "stdout",
     "output_type": "stream",
     "text": [
      "Valores únicos en 'order_dow': [6 5 0 4 3 1 2]\n",
      "\n",
      "\n",
      "Valores únicos en 'order_hour_of_day': [13 12 19 20 11  8 18 15 16  9 22 10  0 14 17  1  7  6  2 21  3 23  5  4]\n",
      "\n",
      "\n",
      "Valores únicos en 'days_since_prior_order': [30.  9.  2. 10. 17. 15. 22.  4.  8.  3. 12. 11.  7.  1.  5.  6. 14. nan\n",
      " 20. 16. 24. 23. 27. 13.  0. 28. 21. 25. 19. 18. 29. 26.]\n"
     ]
    }
   ],
   "source": [
    "# Verificar rangos de valores\n",
    "# Verificar que 'order_dow' esté entre 0 y 6\n",
    "dow_unicos = orders['order_dow'].unique()\n",
    "print(f\"Valores únicos en 'order_dow': {dow_unicos}\")\n",
    "if not all(0 <= x <= 6 for x in dow_unicos):\n",
    "    print(\"Alerta: 'order_dow' contiene valores fuera del rango 0-6.\")\n",
    "print(\"\\n\")\n",
    "\n",
    "# Verificar que 'order_hour_of_day' esté entre 0 y 23\n",
    "hora_unicos = orders['order_hour_of_day'].unique()\n",
    "print(f\"Valores únicos en 'order_hour_of_day': {hora_unicos}\")\n",
    "if not all(0 <= x <= 23 for x in hora_unicos):\n",
    "    print(\"Alerta: 'order_hour_of_day' contiene valores fuera del rango 0-23.\")\n",
    "print(\"\\n\")\n",
    "\n",
    "# 5. Verificar que 'days_since_prior_order' no tenga valores negativos\n",
    "dias_unicos = orders['days_since_prior_order'].unique()\n",
    "print(f\"Valores únicos en 'days_since_prior_order': {dias_unicos}\")\n",
    "if any(x < 0 for x in dias_unicos):\n",
    "    print(\"Alerta: 'days_since_prior_order' contiene valores negativos.\")"
   ]
  },
  {
   "cell_type": "markdown",
   "id": "bf403229",
   "metadata": {},
   "source": [
    "### Para cada hora del día, ¿cuántas personas hacen órdenes?"
   ]
  },
  {
   "cell_type": "code",
   "execution_count": 70,
   "id": "f6c8e8fc",
   "metadata": {},
   "outputs": [
    {
     "name": "stdout",
     "output_type": "stream",
     "text": [
      "    order_hour_of_day  unique_users\n",
      "0                   0          2991\n",
      "1                   1          1671\n",
      "2                   2           958\n",
      "3                   3           744\n",
      "4                   4           735\n",
      "5                   5          1281\n",
      "6                   6          3757\n",
      "7                   7         10993\n",
      "8                   8         20268\n",
      "9                   9         28112\n",
      "10                 10         32195\n",
      "11                 11         32660\n",
      "12                 12         31754\n",
      "13                 13         32433\n",
      "14                 14         32797\n",
      "15                 15         32894\n",
      "16                 16         31579\n",
      "17                 17         26825\n",
      "18                 18         21795\n",
      "19                 19         17026\n",
      "20                 20         12891\n",
      "21                 21          9806\n",
      "22                 22          7670\n",
      "23                 23          5167\n"
     ]
    }
   ],
   "source": [
    "# Agrupar por 'order_hour_of_day' y contar el número de usuarios únicos\n",
    "ordenes_por_hora = orders.groupby('order_hour_of_day')['user_id'].nunique()\n",
    "\n",
    "# Convertir a DataFrame para una mejor visualización\n",
    "ordenes_por_hora = ordenes_por_hora.reset_index()\n",
    "ordenes_por_hora.columns = ['order_hour_of_day', 'unique_users']\n",
    "\n",
    "print(ordenes_por_hora)\n"
   ]
  },
  {
   "cell_type": "markdown",
   "id": "538e8216",
   "metadata": {},
   "source": [
    "### ¿Qué día de la semana compran víveres las personas?"
   ]
  },
  {
   "cell_type": "code",
   "execution_count": 71,
   "id": "92167f60",
   "metadata": {},
   "outputs": [
    {
     "name": "stdout",
     "output_type": "stream",
     "text": [
      "order_dow\n",
      "0    84090\n",
      "1    82185\n",
      "2    65833\n",
      "3    60912\n",
      "4    59810\n",
      "5    63488\n",
      "6    62649\n",
      "Name: count, dtype: int64\n"
     ]
    }
   ],
   "source": [
    "# Contar las órdenes por día de la semana\n",
    "compras_por_dia = orders['order_dow'].value_counts().sort_index()\n",
    "\n",
    "# Mostrar el resultado\n",
    "print(compras_por_dia)\n"
   ]
  },
  {
   "cell_type": "markdown",
   "id": "ff3f7618",
   "metadata": {},
   "source": [
    "### ¿Cuánto tiempo esperan las personas hasta hacer otro pedido? Comenta sobre los valores mínimos y máximos."
   ]
  },
  {
   "cell_type": "code",
   "execution_count": 72,
   "id": "de8d9ee8",
   "metadata": {},
   "outputs": [
    {
     "name": "stdout",
     "output_type": "stream",
     "text": [
      "Tiempo mínimo de espera: 0.0 días\n",
      "Tiempo máximo de espera: 30.0 días\n"
     ]
    }
   ],
   "source": [
    "# Calcular el tiempo de espera entre pedidos\n",
    "tiempo_espera = orders['days_since_prior_order']\n",
    "\n",
    "# Obtener valores mínimos y máximos\n",
    "min_espera = tiempo_espera.min()\n",
    "max_espera = tiempo_espera.max()\n",
    "\n",
    "print(f\"Tiempo mínimo de espera: {min_espera} días\")\n",
    "print(f\"Tiempo máximo de espera: {max_espera} días\")"
   ]
  },
  {
   "cell_type": "markdown",
   "id": "b65c5964",
   "metadata": {},
   "source": [
    "### Intermedio\n",
    "\n",
    "1. ¿Existe alguna diferencia entre las distribuciones `'order_hour_of_day'` de los miércoles y los sábados? Traza gráficos de barra de `'order_hour_of_day'` para ambos días en la misma figura y describe las diferencias que observes.\n",
    "2. Grafica la distribución para el número de órdenes que hacen los clientes (es decir, cuántos clientes hicieron solo 1 pedido, cuántos hicieron 2, cuántos 3, y así sucesivamente...).\n",
    "3. ¿Cuáles son los 20 principales productos que se piden con más frecuencia (muestra su identificación y nombre)?\n",
    "\n",
    "### Diferencia entre miércoles y sábados para  `'order_hour_of_day'`. Traza gráficos de barra para los dos días y describe las diferencias que veas."
   ]
  },
  {
   "cell_type": "code",
   "execution_count": 74,
   "id": "e63eace6",
   "metadata": {},
   "outputs": [
    {
     "data": {
      "image/png": "[encoded data removed]",
      "text/plain": [
       "<Figure size 1200x600 with 1 Axes>"
      ]
     },
     "metadata": {},
     "output_type": "display_data"
    },
    {
     "data": {
      "image/png": "[encoded data removed]",
      "text/plain": [
       "<Figure size 1200x600 with 1 Axes>"
      ]
     },
     "metadata": {},
     "output_type": "display_data"
    },
    {
     "name": "stdout",
     "output_type": "stream",
     "text": [
      "       product_id              product_name  count\n",
      "5875         5876             Organic Lemon  12232\n",
      "8276         8277  Apple Honeycrisp Organic  11993\n",
      "13175       13176    Bag of Organic Bananas  53297\n",
      "16796       16797              Strawberries  20018\n",
      "21136       21137      Organic Strawberries  37039\n",
      "21902       21903      Organic Baby Spinach  33971\n",
      "22934       22935      Organic Yellow Onion  15898\n",
      "24851       24852                    Banana  66050\n",
      "24963       24964            Organic Garlic  15292\n",
      "26208       26209                     Limes  19690\n",
      "27844       27845        Organic Whole Milk  19600\n",
      "27965       27966       Organic Raspberries  19197\n",
      "28203       28204        Organic Fuji Apple  12544\n",
      "39274       39275       Organic Blueberries  13879\n",
      "40705       40706    Organic Grape Tomatoes  11781\n",
      "45006       45007          Organic Zucchini  14584\n",
      "47208       47209      Organic Hass Avocado  29773\n",
      "47625       47626               Large Lemon  21495\n",
      "47765       47766           Organic Avocado  24689\n",
      "49682       49683            Cucumber Kirby  13675\n"
     ]
    }
   ],
   "source": [
    "# 1. Comparar las distribuciones 'order_hour_of_day' de los miércoles y sábados\n",
    "wednesday_orders = orders[orders['order_dow'] == 3]  # 3 representa miércoles\n",
    "saturday_orders = orders[orders['order_dow'] == 6]   # 6 representa sábado\n",
    "\n",
    "# Contar los pedidos por hora\n",
    "wednesday_counts = wednesday_orders['order_hour_of_day'].value_counts().sort_index()\n",
    "saturday_counts = saturday_orders['order_hour_of_day'].value_counts().sort_index()\n",
    "\n",
    "# Graficar\n",
    "plt.figure(figsize=(12, 6))\n",
    "plt.bar(wednesday_counts.index - 0.2, wednesday_counts.values, width=0.4, label='Miércoles', color='blue')\n",
    "plt.bar(saturday_counts.index + 0.2, saturday_counts.values, width=0.4, label='Sábado', color='orange')\n",
    "plt.xlabel('Hora del día')\n",
    "plt.ylabel('Número de pedidos')\n",
    "plt.title('Distribución de pedidos por hora del día (Miércoles vs Sábado)')\n",
    "plt.xticks(range(24))\n",
    "plt.legend()\n",
    "plt.show()\n",
    "\n",
    "# 2. Distribución del número de órdenes por cliente\n",
    "orders_per_user = orders['user_id'].value_counts()\n",
    "\n",
    "# Graficar la distribución\n",
    "plt.figure(figsize=(12, 6))\n",
    "orders_per_user.value_counts().sort_index().plot(kind='bar')\n",
    "plt.xlabel('Número de pedidos')\n",
    "plt.ylabel('Número de clientes')\n",
    "plt.title('Distribución del número de pedidos por cliente')\n",
    "plt.show()\n",
    "\n",
    "# 3. Los 20 principales productos más pedidos\n",
    "# Cargar el archivo de detalles de pedidos\n",
    "order_products = pd.read_csv('order_products.csv', sep=';') \n",
    "\n",
    "# Contar los productos más pedidos\n",
    "top_products = order_products['product_id'].value_counts().head(20)\n",
    "\n",
    "# Unir con el DataFrame de productos para obtener los nombres\n",
    "top_product_details = products[products['product_id'].isin(top_products.index)].copy() \n",
    "\n",
    "# Agregar la cuenta de pedidos a los detalles de los productos\n",
    "top_product_details.loc[:, 'count'] = top_product_details['product_id'].map(top_products)\n",
    "\n",
    "# Mostrar los 20 productos más pedidos\n",
    "print(top_product_details[['product_id', 'product_name', 'count']])"
   ]
  },
  {
   "cell_type": "markdown",
   "id": "cdebfd4f",
   "metadata": {},
   "source": [
    "### ¿Cuál es la distribución para el número de pedidos por cliente?"
   ]
  },
  {
   "cell_type": "code",
   "execution_count": 75,
   "id": "3fa08fa4",
   "metadata": {},
   "outputs": [
    {
     "data": {
      "image/png": "[encoded data removed]",
      "text/plain": [
       "<Figure size 1200x600 with 1 Axes>"
      ]
     },
     "metadata": {},
     "output_type": "display_data"
    }
   ],
   "source": [
    "# Contar el número de pedidos por cliente\n",
    "orders_per_user = orders['user_id'].value_counts()\n",
    "\n",
    "# Graficar la distribución\n",
    "plt.figure(figsize=(12, 6))\n",
    "orders_per_user.value_counts().sort_index().plot(kind='bar')\n",
    "plt.xlabel('Número de pedidos')\n",
    "plt.ylabel('Número de clientes')\n",
    "plt.title('Distribución del número de pedidos por cliente')\n",
    "plt.xticks(rotation=0)\n",
    "plt.show()"
   ]
  },
  {
   "cell_type": "markdown",
   "id": "cc55c7fd",
   "metadata": {},
   "source": [
    "### ¿Cuáles son los 20 productos más populares (muestra su ID y nombre)?"
   ]
  },
  {
   "cell_type": "code",
   "execution_count": 76,
   "id": "871ce798",
   "metadata": {},
   "outputs": [
    {
     "name": "stdout",
     "output_type": "stream",
     "text": [
      "       product_id              product_name  count\n",
      "5875         5876             Organic Lemon  12232\n",
      "8276         8277  Apple Honeycrisp Organic  11993\n",
      "13175       13176    Bag of Organic Bananas  53297\n",
      "16796       16797              Strawberries  20018\n",
      "21136       21137      Organic Strawberries  37039\n",
      "21902       21903      Organic Baby Spinach  33971\n",
      "22934       22935      Organic Yellow Onion  15898\n",
      "24851       24852                    Banana  66050\n",
      "24963       24964            Organic Garlic  15292\n",
      "26208       26209                     Limes  19690\n",
      "27844       27845        Organic Whole Milk  19600\n",
      "27965       27966       Organic Raspberries  19197\n",
      "28203       28204        Organic Fuji Apple  12544\n",
      "39274       39275       Organic Blueberries  13879\n",
      "40705       40706    Organic Grape Tomatoes  11781\n",
      "45006       45007          Organic Zucchini  14584\n",
      "47208       47209      Organic Hass Avocado  29773\n",
      "47625       47626               Large Lemon  21495\n",
      "47765       47766           Organic Avocado  24689\n",
      "49682       49683            Cucumber Kirby  13675\n"
     ]
    }
   ],
   "source": [
    "# Contar los productos más pedidos\n",
    "top_products = order_products['product_id'].value_counts().head(20)\n",
    "\n",
    "# Unir con el DataFrame de productos para obtener los nombres\n",
    "top_product_details = products[products['product_id'].isin(top_products.index)].copy() \n",
    "\n",
    "# Agregar la cuenta de pedidos a los detalles de los productos\n",
    "top_product_details.loc[:, 'count'] = top_product_details['product_id'].map(top_products)\n",
    "\n",
    "# Mostrar los 20 productos más pedidos\n",
    "print(top_product_details[['product_id', 'product_name', 'count']])"
   ]
  },
  {
   "cell_type": "markdown",
   "id": "4fdff919",
   "metadata": {},
   "source": [
    "### Difícil\n",
    "\n",
    "1. ¿Cuántos artículos suelen comprar las personas en un pedido? ¿Cómo es la distribución?\n",
    "2. ¿Cuáles son los 20 principales artículos que vuelven a pedirse con mayor frecuencia (muestra sus nombres e IDs de los productos)?\n",
    "3. Para cada producto, ¿cuál es la tasa de repetición del pedido (número de repeticiones de pedido/total de pedidos?\n",
    "4. Para cada cliente, ¿qué proporción de los productos que pidió ya los había pedido? Calcula la tasa de repetición de pedido para cada usuario en lugar de para cada producto.\n",
    "5. ¿Cuáles son los 20 principales artículos que la gente pone primero en sus carritos (muestra las IDs de los productos, sus nombres, y el número de veces en que fueron el primer artículo en añadirse al carrito)?\n",
    "\n",
    "\n",
    "### ¿Cuántos artículos compran normalmente las personas en un pedido? ¿Cómo es la distribución?"
   ]
  },
  {
   "cell_type": "code",
   "execution_count": 78,
   "id": "2c487d21",
   "metadata": {},
   "outputs": [
    {
     "data": {
      "image/png": "[encoded data removed]",
      "text/plain": [
       "<Figure size 1400x700 with 1 Axes>"
      ]
     },
     "metadata": {},
     "output_type": "display_data"
    }
   ],
   "source": [
    "# Contar el número de artículos por pedido\n",
    "items_per_order = order_products.groupby('order_id').size()\n",
    "\n",
    "# Graficar la distribución\n",
    "plt.figure(figsize=(14, 7))  # Aumentar el tamaño de la figura\n",
    "items_per_order.value_counts().sort_index().plot(kind='bar')\n",
    "plt.xlabel('Número de artículos por pedido', fontsize=12)  # Aumentar tamaño de fuente\n",
    "plt.ylabel('Número de pedidos', fontsize=12)  # Aumentar tamaño de fuente\n",
    "plt.title('Distribución del número de artículos por pedido', fontsize=14)  # Aumentar tamaño de fuente\n",
    "plt.xticks(rotation=90, fontsize=10)  # Rotar etiquetas y aumentar tamaño de fuente\n",
    "plt.tight_layout()  # Ajustar el layout para evitar superposiciones\n",
    "plt.show()"
   ]
  },
  {
   "cell_type": "markdown",
   "id": "12fb7706",
   "metadata": {},
   "source": [
    "### ¿Cuáles son los 20 principales artículos que vuelven a pedirse con mayor frecuencia (muestra sus nombres e IDs de los productos)?"
   ]
  },
  {
   "cell_type": "code",
   "execution_count": 79,
   "id": "938d15f1",
   "metadata": {},
   "outputs": [
    {
     "name": "stdout",
     "output_type": "stream",
     "text": [
      "       product_id              product_name  count\n",
      "5875         5876             Organic Lemon  12232\n",
      "8276         8277  Apple Honeycrisp Organic  11993\n",
      "13175       13176    Bag of Organic Bananas  53297\n",
      "16796       16797              Strawberries  20018\n",
      "21136       21137      Organic Strawberries  37039\n",
      "21902       21903      Organic Baby Spinach  33971\n",
      "22934       22935      Organic Yellow Onion  15898\n",
      "24851       24852                    Banana  66050\n",
      "24963       24964            Organic Garlic  15292\n",
      "26208       26209                     Limes  19690\n",
      "27844       27845        Organic Whole Milk  19600\n",
      "27965       27966       Organic Raspberries  19197\n",
      "28203       28204        Organic Fuji Apple  12544\n",
      "39274       39275       Organic Blueberries  13879\n",
      "40705       40706    Organic Grape Tomatoes  11781\n",
      "45006       45007          Organic Zucchini  14584\n",
      "47208       47209      Organic Hass Avocado  29773\n",
      "47625       47626               Large Lemon  21495\n",
      "47765       47766           Organic Avocado  24689\n",
      "49682       49683            Cucumber Kirby  13675\n"
     ]
    }
   ],
   "source": [
    "# Contar los productos más pedidos\n",
    "top_products = order_products['product_id'].value_counts().head(20)\n",
    "\n",
    "# Unir con el DataFrame de productos para obtener los nombres\n",
    "top_product_details = products[products['product_id'].isin(top_products.index)].copy()\n",
    "top_product_details['count'] = top_product_details['product_id'].map(top_products)\n",
    "\n",
    "# Mostrar los 20 productos más pedidos\n",
    "print(top_product_details[['product_id', 'product_name', 'count']])"
   ]
  },
  {
   "cell_type": "markdown",
   "id": "53d82d26",
   "metadata": {},
   "source": [
    "### Para cada producto, ¿cuál es la proporción de las veces que se pide y que se vuelve a pedir?"
   ]
  },
  {
   "cell_type": "code",
   "execution_count": 80,
   "id": "449e2ced",
   "metadata": {},
   "outputs": [
    {
     "name": "stdout",
     "output_type": "stream",
     "text": [
      "product_id\n",
      "1        0.565836\n",
      "2        0.000000\n",
      "3        0.738095\n",
      "4        0.510204\n",
      "7        0.500000\n",
      "           ...   \n",
      "49690    0.800000\n",
      "49691    0.430556\n",
      "49692    0.416667\n",
      "49693    0.440000\n",
      "49694    0.333333\n",
      "Name: reordered, Length: 45573, dtype: float64\n"
     ]
    }
   ],
   "source": [
    "# Unir las tablas usando order_id\n",
    "merged_data = pd.merge(order_products, orders, on='order_id')\n",
    "\n",
    "# Agrupar por product_id y calcular la media de la columna reordered\n",
    "repetition_rate = merged_data.groupby('product_id')['reordered'].mean()\n",
    "\n",
    "# Mostrar la tasa de repetición\n",
    "print(repetition_rate)"
   ]
  },
  {
   "cell_type": "markdown",
   "id": "f39af908",
   "metadata": {},
   "source": [
    "### Para cada cliente, ¿qué proporción de sus productos ya los había pedido?"
   ]
  },
  {
   "cell_type": "code",
   "execution_count": 81,
   "id": "8c1cc7ae",
   "metadata": {},
   "outputs": [
    {
     "name": "stdout",
     "output_type": "stream",
     "text": [
      "        user_id  total_products  proportion_reordered\n",
      "0             2              26              0.038462\n",
      "1             4               2              0.000000\n",
      "2             5              12              0.666667\n",
      "3             6               4              0.000000\n",
      "4             7              14              0.928571\n",
      "...         ...             ...                   ...\n",
      "149621   206203              27              0.222222\n",
      "149622   206206              21              0.714286\n",
      "149623   206207              46              0.891304\n",
      "149624   206208             125              0.696000\n",
      "149625   206209              25              0.320000\n",
      "\n",
      "[149626 rows x 3 columns]\n"
     ]
    }
   ],
   "source": [
    "# Unir los DataFrames para tener acceso a los productos y los pedidos de cada usuario\n",
    "merged_data = orders.merge(order_products, on='order_id')\n",
    "\n",
    "# Contar el total de productos pedidos por cada cliente\n",
    "total_products_per_user = merged_data.groupby('user_id')['product_id'].count().reset_index(name='total_products')\n",
    "\n",
    "# Calcular la proporción de productos que se vuelven a pedir\n",
    "# Agrupar por user_id y calcular la media de la columna 'reordered'\n",
    "reordered_per_user = merged_data.groupby('user_id')['reordered'].mean().reset_index(name='proportion_reordered')\n",
    "\n",
    "# Unir los dos DataFrames para tener el total de productos y la proporción de productos repetidos\n",
    "user_product_counts = total_products_per_user.merge(reordered_per_user, on='user_id', how='left').fillna(0)\n",
    "\n",
    "# Mostrar el resultado\n",
    "print(user_product_counts[['user_id', 'total_products', 'proportion_reordered']])"
   ]
  },
  {
   "cell_type": "markdown",
   "id": "56e579f9",
   "metadata": {},
   "source": [
    "### ¿Cuáles son los 20 principales artículos que las personas ponen primero en sus carritos?"
   ]
  },
  {
   "cell_type": "code",
   "execution_count": 82,
   "id": "bd4a34a4",
   "metadata": {},
   "outputs": [
    {
     "name": "stdout",
     "output_type": "stream",
     "text": [
      "       product_id                 product_name  count\n",
      "195           196                         Soda   1733\n",
      "5784         5785  Organic Reduced Fat 2% Milk   1310\n",
      "12340       12341                Hass Avocados   1340\n",
      "13175       13176       Bag of Organic Bananas  11026\n",
      "16796       16797                 Strawberries   2308\n",
      "19659       19660                 Spring Water   2336\n",
      "21136       21137         Organic Strawberries   3946\n",
      "21902       21903         Organic Baby Spinach   3336\n",
      "22934       22935         Organic Yellow Onion   1246\n",
      "24851       24852                       Banana  15562\n",
      "26208       26209                        Limes   1370\n",
      "27085       27086                  Half & Half   1309\n",
      "27844       27845           Organic Whole Milk   4363\n",
      "27965       27966          Organic Raspberries   2024\n",
      "38688       38689     Organic Reduced Fat Milk   1397\n",
      "44631       44632   Sparkling Water Grapefruit   1914\n",
      "47208       47209         Organic Hass Avocado   3390\n",
      "47625       47626                  Large Lemon   1737\n",
      "47765       47766              Organic Avocado   3044\n",
      "49234       49235          Organic Half & Half   1797\n"
     ]
    }
   ],
   "source": [
    "# Ordenar el DataFrame por order_id y add_to_cart_order de forma ascendente\n",
    "order_products_sorted = order_products.sort_values(by=['order_id', 'add_to_cart_order'])\n",
    "\n",
    "# Obtener el primer producto añadido a cada carrito\n",
    "first_products = order_products_sorted.groupby('order_id').first().reset_index()\n",
    "\n",
    "# Contar cuántas veces fue el primer producto añadido\n",
    "first_product_counts = first_products['product_id'].value_counts().head(20)\n",
    "\n",
    "# Unir con el DataFrame de productos para obtener los nombres\n",
    "first_product_details = products[products['product_id'].isin(first_product_counts.index)].copy()\n",
    "first_product_details['count'] = first_product_details['product_id'].map(first_product_counts)\n",
    "\n",
    "# Mostrar los 20 principales artículos que fueron el primer artículo en añadirse al carrito\n",
    "print(first_product_details[['product_id', 'product_name', 'count']])"
   ]
  },
  {
   "cell_type": "markdown",
   "id": "52f98c6a",
   "metadata": {},
   "source": [
    "### Conclusion general del proyecto:\n",
    "\n",
    "### A través del análisis de los datos de pedidos, hemos logrado calcular la proporción de productos que cada cliente había pedido anteriormente, lo que nos proporciona una visión valiosa sobre su comportamiento de compra. Este tipo de análisis es crucial para las empresas, ya que les permite entender mejor las preferencias de sus clientes y ajustar su oferta en consecuencia.\n",
    "\n",
    "### Además, al identificar patrones en los pedidos, se pueden desarrollar estrategias de marketing más efectivas y mejorar la gestión del inventario. Sin embargo, siempre hay espacio para mejorar; por ejemplo, podríamos considerar incluir variables adicionales que nos ayuden a profundizar aún más en el análisis.\n",
    "\n",
    "### Personalmente, este ejercicio me ha permitido fortalecer mis habilidades en programación y análisis de datos, y me ha recordado la importancia de interpretar correctamente los resultados. Invito a otros a explorar sus propios conjuntos de datos y a descubrir las historias que pueden contar."
   ]
  }
 ],
 "metadata": {
  "kernelspec": {
   "display_name": "base",
   "language": "python",
   "name": "python3"
  },
  "language_info": {
   "codemirror_mode": {
    "name": "ipython",
    "version": 3
   },
   "file_extension": ".py",
   "mimetype": "text/x-python",
   "name": "python",
   "nbconvert_exporter": "python",
   "pygments_lexer": "ipython3",
   "version": "3.12.7"
  }
 },
 "nbformat": 4,
 "nbformat_minor": 5
}
