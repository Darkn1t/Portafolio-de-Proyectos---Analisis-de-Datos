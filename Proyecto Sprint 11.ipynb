{
 "cells": [
  {
   "cell_type": "markdown",
   "metadata": {},
   "source": [
    "# 1. Abrir el archivo de datos y leer la información general"
   ]
  },
  {
   "cell_type": "code",
   "execution_count": 1,
   "metadata": {},
   "outputs": [
    {
     "name": "stdout",
     "output_type": "stream",
     "text": [
      "                 EventName         DeviceIDHash  EventTimestamp  ExpId\n",
      "0         MainScreenAppear  4575588528974610257      1564029816    246\n",
      "1         MainScreenAppear  7416695313311560658      1564053102    246\n",
      "2  PaymentScreenSuccessful  3518123091307005509      1564054127    248\n",
      "3         CartScreenAppear  3518123091307005509      1564054127    248\n",
      "4  PaymentScreenSuccessful  6217807653094995999      1564055322    248\n",
      "<class 'pandas.core.frame.DataFrame'>\n",
      "RangeIndex: 244126 entries, 0 to 244125\n",
      "Data columns (total 4 columns):\n",
      " #   Column          Non-Null Count   Dtype \n",
      "---  ------          --------------   ----- \n",
      " 0   EventName       244126 non-null  object\n",
      " 1   DeviceIDHash    244126 non-null  int64 \n",
      " 2   EventTimestamp  244126 non-null  int64 \n",
      " 3   ExpId           244126 non-null  int64 \n",
      "dtypes: int64(3), object(1)\n",
      "memory usage: 7.5+ MB\n",
      "Index(['EventName', 'DeviceIDHash', 'EventTimestamp', 'ExpId'], dtype='object')\n"
     ]
    }
   ],
   "source": [
    "import pandas as pd\n",
    "import matplotlib.pyplot as plt\n",
    "from scipy.stats import chi2_contingency\n",
    "import seaborn as sns\n",
    "\n",
    "logs = pd.read_csv('/datasets/logs_exp_us.csv', sep='\\t')\n",
    "\n",
    "print(logs.head())\n",
    "logs.info()\n",
    "print(logs.columns)"
   ]
  },
  {
   "cell_type": "markdown",
   "metadata": {},
   "source": [
    "# 2. Preparar los datos para el análisis"
   ]
  },
  {
   "cell_type": "code",
   "execution_count": 2,
   "metadata": {
    "scrolled": true
   },
   "outputs": [
    {
     "name": "stdout",
     "output_type": "stream",
     "text": [
      "EventName         0\n",
      "DeviceIDHash      0\n",
      "EventTimestamp    0\n",
      "ExpId             0\n",
      "dtype: int64\n",
      "                 EventName         DeviceIDHash      EventTimestamp  ExpId  \\\n",
      "0         MainScreenAppear  4575588528974610257 2019-07-25 04:43:36    246   \n",
      "1         MainScreenAppear  7416695313311560658 2019-07-25 11:11:42    246   \n",
      "2  PaymentScreenSuccessful  3518123091307005509 2019-07-25 11:28:47    248   \n",
      "3         CartScreenAppear  3518123091307005509 2019-07-25 11:28:47    248   \n",
      "4  PaymentScreenSuccessful  6217807653094995999 2019-07-25 11:48:42    248   \n",
      "\n",
      "         Date      Time  \n",
      "0  2019-07-25  04:43:36  \n",
      "1  2019-07-25  11:11:42  \n",
      "2  2019-07-25  11:28:47  \n",
      "3  2019-07-25  11:28:47  \n",
      "4  2019-07-25  11:48:42  \n"
     ]
    }
   ],
   "source": [
    "\n",
    "\n",
    "\n",
    "# Verificar si hay valores nulos\n",
    "print(logs.isnull().sum())\n",
    "\n",
    "# Convertir 'EventTimestamp' a formato datetime\n",
    "logs['EventTimestamp'] = pd.to_datetime(logs['EventTimestamp'], unit='s')\n",
    "\n",
    "# Agregar columnas separadas para la fecha y la hora\n",
    "logs['Date'] = logs['EventTimestamp'].dt.date\n",
    "logs['Time'] = logs['EventTimestamp'].dt.time\n",
    "\n",
    "# Ver las primeras filas del dataframe después de la transformación\n",
    "print(logs.head())\n",
    "\n",
    "\n"
   ]
  },
  {
   "cell_type": "code",
   "execution_count": 3,
   "metadata": {},
   "outputs": [
    {
     "name": "stdout",
     "output_type": "stream",
     "text": [
      "Número de usuarios únicos en cada etapa del embudo: {'MainScreenAppear': 7439, 'CartScreenAppear': 3749, 'PaymentScreenSuccessful': 3547}\n",
      "Porcentaje de conversión entre etapas: {'MainScreenAppear': 100.0, 'CartScreenAppear': 50.4, 'PaymentScreenSuccessful': 47.68}\n"
     ]
    }
   ],
   "source": [
    "# Definir las etapas del embudo\n",
    "stages = ['MainScreenAppear', 'CartScreenAppear', 'PaymentScreenSuccessful']\n",
    "\n",
    "# Contar usuarios únicos en cada etapa\n",
    "funnel = {stage: logs[logs['EventName'] == stage]['DeviceIDHash'].nunique() for stage in stages}\n",
    "print(\"Número de usuarios únicos en cada etapa del embudo:\", funnel)\n",
    "\n",
    "# Calcular la conversión entre etapas\n",
    "conversion = {stage: round((funnel[stage] / funnel[stages[0]]) * 100, 2) for stage in stages}\n",
    "print(\"Porcentaje de conversión entre etapas:\", conversion)"
   ]
  },
  {
   "cell_type": "code",
   "execution_count": 4,
   "metadata": {},
   "outputs": [
    {
     "name": "stdout",
     "output_type": "stream",
     "text": [
      "Contador de eventos por grupo:\n",
      " EventName  CartScreenAppear  MainScreenAppear  OffersScreenAppear  \\\n",
      "ExpId                                                               \n",
      "246                    1270              2456                1545   \n",
      "247                    1240              2482                1530   \n",
      "248                    1239              2501                1538   \n",
      "\n",
      "EventName  PaymentScreenSuccessful  Tutorial  \n",
      "ExpId                                         \n",
      "246                           1202       279  \n",
      "247                           1160       286  \n",
      "248                           1185       282  \n",
      "Comparación de grupos:\n",
      " EventName  CartScreenAppear  MainScreenAppear  OffersScreenAppear  \\\n",
      "ExpId                                                               \n",
      "246                    1270              2456                1545   \n",
      "247                    1240              2482                1530   \n",
      "248                    1239              2501                1538   \n",
      "\n",
      "EventName  PaymentScreenSuccessful  Tutorial  \n",
      "ExpId                                         \n",
      "246                           1202       279  \n",
      "247                           1160       286  \n",
      "248                           1185       282  \n"
     ]
    }
   ],
   "source": [
    "\n",
    "# Contar eventos por grupo\n",
    "group_counts = logs.groupby(['ExpId', 'EventName'])['DeviceIDHash'].nunique().unstack()\n",
    "print(\"Contador de eventos por grupo:\\n\", group_counts)\n",
    "\n",
    "# Comparar la cantidad de eventos entre grupos de control y grupo de prueba\n",
    "comparison = group_counts.loc[[246, 247, 248]]\n",
    "print(\"Comparación de grupos:\\n\", comparison)\n"
   ]
  },
  {
   "cell_type": "markdown",
   "metadata": {},
   "source": [
    "# 3. Estudiar y comprobar los datos"
   ]
  },
  {
   "cell_type": "markdown",
   "metadata": {},
   "source": [
    "## ¿Cuántos eventos hay en los registros?"
   ]
  },
  {
   "cell_type": "code",
   "execution_count": 5,
   "metadata": {},
   "outputs": [
    {
     "name": "stdout",
     "output_type": "stream",
     "text": [
      "Total de eventos en los registros: 244126\n"
     ]
    }
   ],
   "source": [
    "# Número total de eventos\n",
    "total_events = logs.shape[0]\n",
    "print(f\"Total de eventos en los registros: {total_events}\")"
   ]
  },
  {
   "cell_type": "markdown",
   "metadata": {},
   "source": [
    "## ¿Cuántos usuarios hay en los registros?"
   ]
  },
  {
   "cell_type": "code",
   "execution_count": 6,
   "metadata": {},
   "outputs": [
    {
     "name": "stdout",
     "output_type": "stream",
     "text": [
      "Total de usuarios únicos en los registros: 7551\n"
     ]
    }
   ],
   "source": [
    "\n",
    "# Número de usuarios únicos\n",
    "total_users = logs['DeviceIDHash'].nunique()\n",
    "print(f\"Total de usuarios únicos en los registros: {total_users}\")\n"
   ]
  },
  {
   "cell_type": "markdown",
   "metadata": {},
   "source": [
    "## ¿Cuál es el promedio de eventos por usuario?"
   ]
  },
  {
   "cell_type": "code",
   "execution_count": 7,
   "metadata": {},
   "outputs": [
    {
     "name": "stdout",
     "output_type": "stream",
     "text": [
      "Promedio de eventos por usuario: 32.33\n"
     ]
    }
   ],
   "source": [
    "# Promedio de eventos por usuario\n",
    "average_events_per_user = total_events / total_users\n",
    "print(f\"Promedio de eventos por usuario: {average_events_per_user:.2f}\")"
   ]
  },
  {
   "cell_type": "code",
   "execution_count": 8,
   "metadata": {},
   "outputs": [
    {
     "name": "stdout",
     "output_type": "stream",
     "text": [
      "Promedio de eventos por usuario en el grupo 246: 32.26\n",
      "Promedio de eventos por usuario en el grupo 247: 30.98\n",
      "Promedio de eventos por usuario en el grupo 248: 33.73\n"
     ]
    }
   ],
   "source": [
    "\n",
    "# Totalizar los eventos por grupo\n",
    "group_event_counts = logs.groupby(['ExpId', 'DeviceIDHash']).size().reset_index(name='EventCount')\n",
    "\n",
    "# Calcular el promedio de eventos por usuario para cada grupo\n",
    "average_events_per_group = group_event_counts.groupby('ExpId')['EventCount'].mean()\n",
    "\n",
    "# Mostrar los resultados\n",
    "for exp_id, average in average_events_per_group.items():\n",
    "    print(f\"Promedio de eventos por usuario en el grupo {exp_id}: {average:.2f}\")\n"
   ]
  },
  {
   "cell_type": "markdown",
   "metadata": {},
   "source": [
    "## ¿Qué periodo de tiempo cubren los datos? "
   ]
  },
  {
   "cell_type": "code",
   "execution_count": 9,
   "metadata": {},
   "outputs": [
    {
     "name": "stdout",
     "output_type": "stream",
     "text": [
      "Periodo de tiempo cubierto por los datos: 2019-07-25 04:43:36 a 2019-08-07 21:15:17\n"
     ]
    }
   ],
   "source": [
    "# Fechas mínima y máxima\n",
    "start_date = logs['EventTimestamp'].min()\n",
    "end_date = logs['EventTimestamp'].max()\n",
    "print(f\"Periodo de tiempo cubierto por los datos: {start_date} a {end_date}\")"
   ]
  },
  {
   "cell_type": "markdown",
   "metadata": {},
   "source": [
    "## Traza un histograma por fecha y hora."
   ]
  },
  {
   "cell_type": "code",
   "execution_count": 10,
   "metadata": {},
   "outputs": [
    {
     "data": {
      "image/png": "[encoded data removed]",
      "text/plain": [
       "<Figure size 1500x600 with 1 Axes>"
      ]
     },
     "metadata": {},
     "output_type": "display_data"
    }
   ],
   "source": [
    "# Histograma de eventos por fecha\n",
    "logs['Date'].value_counts().sort_index().plot(kind='bar', figsize=(15, 6))\n",
    "plt.title('Número de eventos por fecha')\n",
    "plt.xlabel('Fecha')\n",
    "plt.ylabel('Número de eventos')\n",
    "plt.xticks(rotation=45)\n",
    "plt.show()"
   ]
  },
  {
   "cell_type": "markdown",
   "metadata": {},
   "source": [
    "## ¿Puedes tener seguridad de que tienes datos igualmente completos para todo el periodo?"
   ]
  },
  {
   "cell_type": "code",
   "execution_count": 11,
   "metadata": {},
   "outputs": [
    {
     "name": "stdout",
     "output_type": "stream",
     "text": [
      "2019-07-25        9\n",
      "2019-07-26       31\n",
      "2019-07-27       55\n",
      "2019-07-28      105\n",
      "2019-07-29      184\n",
      "2019-07-30      413\n",
      "2019-07-31     2031\n",
      "2019-08-01    36229\n",
      "2019-08-02    35606\n",
      "2019-08-03    33351\n",
      "2019-08-04    33033\n",
      "2019-08-05    36113\n",
      "2019-08-06    35822\n",
      "2019-08-07    31144\n",
      "Name: Date, dtype: int64\n"
     ]
    }
   ],
   "source": [
    "# Contar eventos por fecha\n",
    "daily_event_counts = logs['Date'].value_counts().sort_index()\n",
    "\n",
    "print(daily_event_counts)"
   ]
  },
  {
   "cell_type": "markdown",
   "metadata": {},
   "source": [
    "## ¿Qué periodo representan realmente los datos?"
   ]
  },
  {
   "cell_type": "code",
   "execution_count": 12,
   "metadata": {},
   "outputs": [
    {
     "name": "stdout",
     "output_type": "stream",
     "text": [
      "Periodo de datos válidos: 2019-07-28 a 2019-08-07\n"
     ]
    }
   ],
   "source": [
    "# Definir un umbral mínimo de eventos por día\n",
    "threshold = 100  # Puedes ajustar este valor\n",
    "\n",
    "# Verificar la cantidad de días que superan el umbral\n",
    "valid_dates = daily_event_counts[daily_event_counts >= threshold]\n",
    "start_valid_date = valid_dates.index.min()\n",
    "end_valid_date = valid_dates.index.max()\n",
    "print(f\"Periodo de datos válidos: {start_valid_date} a {end_valid_date}\")"
   ]
  },
  {
   "cell_type": "markdown",
   "metadata": {},
   "source": [
    "## ¿Perdiste muchos eventos y usuarios al excluir los datos más antiguos?"
   ]
  },
  {
   "cell_type": "code",
   "execution_count": 13,
   "metadata": {},
   "outputs": [
    {
     "name": "stdout",
     "output_type": "stream",
     "text": [
      "Eventos perdidos: 95\n",
      "Usuarios perdidos: 1\n"
     ]
    }
   ],
   "source": [
    "# Total de eventos y usuarios antes de filtrar\n",
    "total_events_full = logs.shape[0]\n",
    "total_users_full = logs['DeviceIDHash'].nunique()\n",
    "\n",
    "# Filtrar los datos válidos\n",
    "valid_logs = logs[logs['Date'].between(start_valid_date, end_valid_date)]\n",
    "\n",
    "# Total de eventos y usuarios válidos\n",
    "total_events_valid = valid_logs.shape[0]\n",
    "total_users_valid = valid_logs['DeviceIDHash'].nunique()\n",
    "\n",
    "# Comparar\n",
    "print(f\"Eventos perdidos: {total_events_full - total_events_valid}\")\n",
    "print(f\"Usuarios perdidos: {total_users_full - total_users_valid}\")"
   ]
  },
  {
   "cell_type": "markdown",
   "metadata": {},
   "source": [
    "## Asegúrarse de tener usuarios de los tres grupos experimentales."
   ]
  },
  {
   "cell_type": "code",
   "execution_count": 14,
   "metadata": {},
   "outputs": [
    {
     "name": "stdout",
     "output_type": "stream",
     "text": [
      "Usuarios por grupo experimental:\n",
      " 248    85726\n",
      "246    80262\n",
      "247    78043\n",
      "Name: ExpId, dtype: int64\n"
     ]
    }
   ],
   "source": [
    "# Contando usuarios en cada grupo experimental\n",
    "users_per_group = valid_logs['ExpId'].value_counts()\n",
    "print(\"Usuarios por grupo experimental:\\n\", users_per_group)"
   ]
  },
  {
   "cell_type": "markdown",
   "metadata": {},
   "source": [
    "# 4. Estudiar el embudo de eventos"
   ]
  },
  {
   "cell_type": "markdown",
   "metadata": {},
   "source": [
    "## Eventos en los registros y su frecuencia de suceso. Ordenados por frecuencia."
   ]
  },
  {
   "cell_type": "code",
   "execution_count": 15,
   "metadata": {},
   "outputs": [
    {
     "name": "stdout",
     "output_type": "stream",
     "text": [
      "Frecuencia de eventos:\n",
      " MainScreenAppear           119146\n",
      "OffersScreenAppear          46811\n",
      "CartScreenAppear            42719\n",
      "PaymentScreenSuccessful     34307\n",
      "Tutorial                     1048\n",
      "Name: EventName, dtype: int64\n"
     ]
    }
   ],
   "source": [
    "# Contar la frecuencia de cada evento\n",
    "event_counts = valid_logs['EventName'].value_counts()\n",
    "sorted_event_counts = event_counts.sort_values(ascending=False)\n",
    "print(\"Frecuencia de eventos:\\n\", sorted_event_counts)"
   ]
  },
  {
   "cell_type": "markdown",
   "metadata": {},
   "source": [
    "## Usuarios unicos que realizaron cada evento"
   ]
  },
  {
   "cell_type": "code",
   "execution_count": 16,
   "metadata": {},
   "outputs": [
    {
     "name": "stdout",
     "output_type": "stream",
     "text": [
      "Resumen de eventos:\n",
      "                          Event Count  User Count  User Proportion (%)\n",
      "MainScreenAppear              119146        7438            98.516556\n",
      "OffersScreenAppear             46811        4612            61.086093\n",
      "CartScreenAppear               42719        3749            49.655629\n",
      "PaymentScreenSuccessful        34307        3547            46.980132\n",
      "Tutorial                        1048         845            11.192053\n"
     ]
    }
   ],
   "source": [
    "# Contar usuarios únicos que realizaron cada evento\n",
    "user_counts = valid_logs.groupby('EventName')['DeviceIDHash'].nunique().sort_values(ascending=False)\n",
    "\n",
    "# Calcular proporción de usuarios que realizaron la acción al menos una vez\n",
    "user_proportions = (user_counts / total_users_valid) * 100\n",
    "\n",
    "# Combinar resultados\n",
    "event_summary = pd.DataFrame({\n",
    "    'Event Count': sorted_event_counts,\n",
    "    'User Count': user_counts,\n",
    "    'User Proportion (%)': user_proportions\n",
    "})\n",
    "\n",
    "print(\"Resumen de eventos:\\n\", event_summary)"
   ]
  },
  {
   "cell_type": "markdown",
   "metadata": {},
   "source": [
    "## Cálculo de Metrías por Grupo"
   ]
  },
  {
   "cell_type": "code",
   "execution_count": 17,
   "metadata": {},
   "outputs": [
    {
     "name": "stdout",
     "output_type": "stream",
     "text": [
      "Resumen de eventos por grupo:\n",
      "                          Control A  Control B  Test Group  Control A (%)  \\\n",
      "EventName                                                                  \n",
      "CartScreenAppear              1270       1240        1239       1.582318   \n",
      "MainScreenAppear              2455       2482        2501       3.058733   \n",
      "OffersScreenAppear            1545       1529        1538       1.924946   \n",
      "PaymentScreenSuccessful       1202       1160        1185       1.497595   \n",
      "Tutorial                       278        285         282       0.346366   \n",
      "\n",
      "                         Control B (%)  Test Group (%)  \n",
      "EventName                                               \n",
      "CartScreenAppear              1.588868        1.445302  \n",
      "MainScreenAppear              3.180298        2.917435  \n",
      "OffersScreenAppear            1.959176        1.794088  \n",
      "PaymentScreenSuccessful       1.486360        1.382311  \n",
      "Tutorial                      0.365183        0.328955  \n"
     ]
    }
   ],
   "source": [
    "# Calcular la cantidad de usuarios únicos por evento en cada grupo\n",
    "event_group_counts = valid_logs.groupby(['EventName', 'ExpId'])['DeviceIDHash'].nunique().unstack()\n",
    "\n",
    "# Calcular el total de usuarios por grupo\n",
    "total_users_per_group = valid_logs['ExpId'].value_counts()\n",
    "prop_user_counts = event_group_counts.div(total_users_per_group, axis=1) * 100\n",
    "\n",
    "# Crear un DataFrame combinado para visualización\n",
    "event_summary_group = event_group_counts.copy()\n",
    "event_summary_group = event_summary_group.rename(columns={246: 'Control A', 247: 'Control B', 248: 'Test Group'})\n",
    "event_summary_group_percentage = prop_user_counts.copy()\n",
    "event_summary_group_percentage.columns = ['Control A (%)', 'Control B (%)', 'Test Group (%)']\n",
    "\n",
    "# Combinar ambos resúmenes\n",
    "event_summary_combined = pd.concat([event_summary_group, event_summary_group_percentage], axis=1)\n",
    "\n",
    "print(\"Resumen de eventos por grupo:\\n\", event_summary_combined)"
   ]
  },
  {
   "cell_type": "markdown",
   "metadata": {},
   "source": [
    "## Visualización de los Resultados\n",
    "\n",
    "## Visualizar el Conteo de Usuarios Por Evento"
   ]
  },
  {
   "cell_type": "code",
   "execution_count": 18,
   "metadata": {},
   "outputs": [
    {
     "data": {
      "text/plain": [
       "<Figure size 1400x700 with 0 Axes>"
      ]
     },
     "metadata": {},
     "output_type": "display_data"
    },
    {
     "data": {
      "image/png": "[encoded data removed]",
      "text/plain": [
       "<Figure size 640x480 with 1 Axes>"
      ]
     },
     "metadata": {},
     "output_type": "display_data"
    }
   ],
   "source": [
    "# Configurar el estilo de seaborn\n",
    "sns.set(style=\"whitegrid\")\n",
    "\n",
    "# Crear una visualización para la cantidad de usuarios\n",
    "plt.figure(figsize=(14, 7))\n",
    "event_summary_group.plot(kind='bar', stacked=True)\n",
    "plt.title('Número de Usuarios Únicos por Evento y Grupo')\n",
    "plt.xlabel('Eventos')\n",
    "plt.ylabel('Número de Usuarios Únicos')\n",
    "plt.xticks(rotation=45)\n",
    "plt.legend(title='Grupos', loc='upper left', bbox_to_anchor=(1, 1))\n",
    "plt.tight_layout()\n",
    "plt.show()"
   ]
  },
  {
   "cell_type": "markdown",
   "metadata": {},
   "source": [
    "## Visualizar la Proporción de Usuarios por Evento"
   ]
  },
  {
   "cell_type": "code",
   "execution_count": 19,
   "metadata": {},
   "outputs": [
    {
     "data": {
      "text/plain": [
       "<Figure size 1400x700 with 0 Axes>"
      ]
     },
     "metadata": {},
     "output_type": "display_data"
    },
    {
     "data": {
      "image/png": "[encoded data removed]",
      "text/plain": [
       "<Figure size 640x480 with 1 Axes>"
      ]
     },
     "metadata": {},
     "output_type": "display_data"
    }
   ],
   "source": [
    "# Crear una visualización para la proporción de usuarios\n",
    "plt.figure(figsize=(14, 7))\n",
    "event_summary_group_percentage.plot(kind='bar', stacked=True)\n",
    "plt.title('Proporción de Usuarios por Evento y Grupo (%)')\n",
    "plt.xlabel('Eventos')\n",
    "plt.ylabel('Porción de Usuarios (%)')\n",
    "plt.xticks(rotation=45)\n",
    "plt.legend(title='Grupos', loc='upper left', bbox_to_anchor=(1, 1))\n",
    "plt.tight_layout()\n",
    "plt.show()"
   ]
  },
  {
   "cell_type": "markdown",
   "metadata": {},
   "source": [
    "## Orden en que ocurreron las acciones"
   ]
  },
  {
   "cell_type": "code",
   "execution_count": 20,
   "metadata": {},
   "outputs": [
    {
     "name": "stdout",
     "output_type": "stream",
     "text": [
      "Orden esperado de acciones: ['MainScreenAppear', 'CartScreenAppear', 'PaymentScreenSuccessful']\n"
     ]
    }
   ],
   "source": [
    "# Orden lógico\n",
    "event_order = ['MainScreenAppear', 'CartScreenAppear', 'PaymentScreenSuccessful']\n",
    "print(\"Orden esperado de acciones:\", event_order)"
   ]
  },
  {
   "cell_type": "markdown",
   "metadata": {},
   "source": [
    "## Embudo de eventos"
   ]
  },
  {
   "cell_type": "code",
   "execution_count": 21,
   "metadata": {},
   "outputs": [
    {
     "name": "stdout",
     "output_type": "stream",
     "text": [
      "Tasas de conversión en el embudo:\n",
      " {'CartScreenAppear': {'Users in Current Stage': 7438, 'Users in Next Stage': 3749, 'Conversion Rate (%)': 50.403334229631625}, 'PaymentScreenSuccessful': {'Users in Current Stage': 3749, 'Users in Next Stage': 3547, 'Conversion Rate (%)': 94.61189650573486}}\n"
     ]
    }
   ],
   "source": [
    "# Calcular la proporción de usuarios entre las etapas del embudo\n",
    "funnel_conversion = {}\n",
    "for i in range(len(event_order) - 1):\n",
    "    current_stage = event_order[i]\n",
    "    next_stage = event_order[i + 1]\n",
    "    \n",
    "    users_current = valid_logs[valid_logs['EventName'] == current_stage]['DeviceIDHash'].nunique()\n",
    "    users_next = valid_logs[valid_logs['EventName'] == next_stage]['DeviceIDHash'].nunique()\n",
    "    \n",
    "    conversion_rate = (users_next / users_current) * 100 if users_current > 0 else 0\n",
    "    funnel_conversion[next_stage] = {\n",
    "        'Users in Current Stage': users_current,\n",
    "        'Users in Next Stage': users_next,\n",
    "        'Conversion Rate (%)': conversion_rate\n",
    "    }\n",
    "\n",
    "print(\"Tasas de conversión en el embudo:\\n\", funnel_conversion)"
   ]
  },
  {
   "cell_type": "markdown",
   "metadata": {},
   "source": [
    "## Etapa con mayor perdida de usuarios"
   ]
  },
  {
   "cell_type": "code",
   "execution_count": 22,
   "metadata": {},
   "outputs": [
    {
     "name": "stdout",
     "output_type": "stream",
     "text": [
      "Etapa donde se pierde más usuarios: MainScreenAppear\n"
     ]
    }
   ],
   "source": [
    "# Analizar las tasas de conversión para determinar en qué etapa se pierde más usuarios\n",
    "conversion_rates = [funnel_conversion[stage]['Conversion Rate (%)'] for stage in funnel_conversion]\n",
    "max_loss_stage = event_order[conversion_rates.index(min(conversion_rates))]\n",
    "\n",
    "print(f\"Etapa donde se pierde más usuarios: {max_loss_stage}\")"
   ]
  },
  {
   "cell_type": "markdown",
   "metadata": {},
   "source": [
    "## Porcentaje de usuarios que hace todo el viaje"
   ]
  },
  {
   "cell_type": "code",
   "execution_count": 23,
   "metadata": {},
   "outputs": [
    {
     "name": "stdout",
     "output_type": "stream",
     "text": [
      "Porcentaje de usuarios que hacen todo el viaje desde su primer evento hasta el pago: 45.72%\n"
     ]
    }
   ],
   "source": [
    "# Filtrar usuarios que completaron todo el viaje\n",
    "initial_users = valid_logs[valid_logs['EventName'] == event_order[0]]['DeviceIDHash'].unique()\n",
    "\n",
    "# Usuarios que también realizaron el último evento en la secuencia\n",
    "payment_users = valid_logs[valid_logs['EventName'] == event_order[-1]]['DeviceIDHash'].unique()\n",
    "total_complete_users = len(set(initial_users) & set(payment_users))\n",
    "\n",
    "percentage_complete_users = (total_complete_users / total_users_valid) * 100\n",
    "print(f\"Porcentaje de usuarios que hacen todo el viaje desde su primer evento hasta el pago: {percentage_complete_users:.2f}%\")"
   ]
  },
  {
   "cell_type": "markdown",
   "metadata": {},
   "source": [
    "# 5. Estudiar los resultados del experimento"
   ]
  },
  {
   "cell_type": "markdown",
   "metadata": {},
   "source": [
    "## ¿Cuántos usuarios hay en cada grupo?\n"
   ]
  },
  {
   "cell_type": "code",
   "execution_count": 24,
   "metadata": {},
   "outputs": [
    {
     "name": "stdout",
     "output_type": "stream",
     "text": [
      "Número de usuarios en cada grupo:\n",
      " 248    85726\n",
      "246    80262\n",
      "247    78043\n",
      "Name: ExpId, dtype: int64\n"
     ]
    }
   ],
   "source": [
    "# Contar el número de usuarios en cada grupo experimental\n",
    "users_per_group = valid_logs['ExpId'].value_counts()\n",
    "print(\"Número de usuarios en cada grupo:\\n\", users_per_group)"
   ]
  },
  {
   "cell_type": "markdown",
   "metadata": {},
   "source": [
    "## Observacion de diferencia estadísticamente significativa entre las muestras 246 y 247."
   ]
  },
  {
   "cell_type": "code",
   "execution_count": 25,
   "metadata": {},
   "outputs": [
    {
     "name": "stdout",
     "output_type": "stream",
     "text": [
      "P-valor entre grupos de control (246 vs 247): 0.8770246669815562\n",
      "No hay una diferencia estadísticamente significativa entre los grupos 246 y 247.\n"
     ]
    }
   ],
   "source": [
    "from scipy.stats import chi2_contingency\n",
    "\n",
    "# Contar usuarios por evento en los grupos de control\n",
    "group_246 = valid_logs[valid_logs['ExpId'] == 246].groupby('EventName')['DeviceIDHash'].nunique()\n",
    "group_247 = valid_logs[valid_logs['ExpId'] == 247].groupby('EventName')['DeviceIDHash'].nunique()\n",
    "\n",
    "# Combina los resultados en un DataFrame\n",
    "combined_groups = pd.DataFrame({'Group_246': group_246, 'Group_247': group_247}).fillna(0)\n",
    "\n",
    "# Realizar prueba de Chi-cuadrado\n",
    "chi2, p_value, _, _ = chi2_contingency(combined_groups)\n",
    "print(f\"P-valor entre grupos de control (246 vs 247): {p_value}\")\n",
    "\n",
    "# Determinar si hay una diferencia significativa\n",
    "alpha = 0.05  # Nivel de significancia típico\n",
    "if p_value < alpha:\n",
    "    print(\"Hay una diferencia estadísticamente significativa entre los grupos 246 y 247.\")\n",
    "else:\n",
    "    print(\"No hay una diferencia estadísticamente significativa entre los grupos 246 y 247.\")"
   ]
  },
  {
   "cell_type": "markdown",
   "metadata": {},
   "source": [
    "## Seleccion de evento popular "
   ]
  },
  {
   "cell_type": "code",
   "execution_count": 26,
   "metadata": {},
   "outputs": [
    {
     "name": "stdout",
     "output_type": "stream",
     "text": [
      "Proporción de usuarios que realizaron el evento 'MainScreenAppear' en cada grupo:\n",
      " 246    3.058733\n",
      "247    3.180298\n",
      "248    2.917435\n",
      "dtype: float64\n"
     ]
    }
   ],
   "source": [
    "# Evento más popular\n",
    "most_popular_event = combined_groups.sum(axis=1).idxmax()\n",
    "\n",
    "# Contar usuarios que realizaron el evento más popular en cada grupo\n",
    "popular_event_counts = valid_logs[valid_logs['EventName'] == most_popular_event].groupby('ExpId')['DeviceIDHash'].nunique()\n",
    "\n",
    "# Calcular la proporción\n",
    "popular_proportions = (popular_event_counts / users_per_group) * 100\n",
    "print(f\"Proporción de usuarios que realizaron el evento '{most_popular_event}' en cada grupo:\\n\", popular_proportions)"
   ]
  },
  {
   "cell_type": "markdown",
   "metadata": {},
   "source": [
    "## Comprobar si la diferencia entre los grupos es estadísticamente significativa para el evento más popular."
   ]
  },
  {
   "cell_type": "code",
   "execution_count": 27,
   "metadata": {},
   "outputs": [
    {
     "name": "stdout",
     "output_type": "stream",
     "text": [
      "P-valores para cada evento:\n",
      " {'MainScreenAppear': None, 'CartScreenAppear': None, 'OffersScreenAppear': None, 'PaymentScreenSuccessful': None, 'Tutorial': None}\n"
     ]
    }
   ],
   "source": [
    "# Crear una función para realizar la prueba de Chi-cuadrado para cada evento\n",
    "def chi_square_test(event_name):\n",
    "    group_event_counts = valid_logs[valid_logs['EventName'] == event_name].groupby('ExpId')['DeviceIDHash'].nunique()\n",
    "    if len(group_event_counts) == 2:  # Proceder solo si hay dos grupos\n",
    "        chi2, p_value, _, _ = chi2_contingency(pd.DataFrame(group_event_counts).T)\n",
    "        return p_value\n",
    "    return None\n",
    "\n",
    "# Realizar la prueba para cada evento por sus grupos\n",
    "p_values = {event: chi_square_test(event) for event in valid_logs['EventName'].unique()}\n",
    "print(\"P-valores para cada evento:\\n\", p_values)"
   ]
  },
  {
   "cell_type": "markdown",
   "metadata": {},
   "source": [
    "## Comparacion de los resultados con los de cada uno de los grupos de control para el grupo con fuentes alteradas (248)."
   ]
  },
  {
   "cell_type": "code",
   "execution_count": 28,
   "metadata": {},
   "outputs": [
    {
     "name": "stdout",
     "output_type": "stream",
     "text": [
      "P-valor para el evento 'CartScreenAppear': 1.0\n",
      "P-valor para el evento 'MainScreenAppear': 1.0\n",
      "P-valor para el evento 'OffersScreenAppear': 1.0\n",
      "P-valor para el evento 'PaymentScreenSuccessful': 1.0\n",
      "P-valor para el evento 'Tutorial': 1.0\n"
     ]
    }
   ],
   "source": [
    "# Contar usuarios que realizaron cada evento en los grupos 246, 247 y 248\n",
    "group_248 = valid_logs[valid_logs['ExpId'] == 248].groupby('EventName')['DeviceIDHash'].nunique()\n",
    "\n",
    "# Comparar resultados\n",
    "for event in combined_groups.index:\n",
    "    if event in group_248.index:\n",
    "        # Crear un DataFrame para la prueba\n",
    "        comparison_df = pd.DataFrame({\n",
    "            'Group_246': combined_groups.loc[event, 'Group_246'],\n",
    "            'Group_247': combined_groups.loc[event, 'Group_247'],\n",
    "            'Group_248': group_248[event]\n",
    "        }, index=[event])\n",
    "        \n",
    "        # Realizar el Chi-cuadrado\n",
    "        chi2, p_value, _, _ = chi2_contingency(comparison_df.T)\n",
    "        print(f\"P-valor para el evento '{event}': {p_value}\")"
   ]
  },
  {
   "cell_type": "code",
   "execution_count": 29,
   "metadata": {},
   "outputs": [
    {
     "name": "stdout",
     "output_type": "stream",
     "text": [
      "P-valor para el evento 'MainScreenAppear': 1.00000\n",
      "P-valor para el evento 'CartScreenAppear': 1.00000\n",
      "P-valor para el evento 'OffersScreenAppear': 1.00000\n",
      "P-valor para el evento 'PaymentScreenSuccessful': 1.00000\n",
      "P-valor para el evento 'Tutorial': 1.00000\n"
     ]
    }
   ],
   "source": [
    "# Definir las variables que faltan\n",
    "all_events = valid_logs['EventName'].unique()\n",
    "\n",
    "# Crear diccionarios con conteos de usuarios por evento para cada grupo\n",
    "user_counts_246 = valid_logs[valid_logs['ExpId'] == 246].groupby('EventName')['DeviceIDHash'].nunique().to_dict()\n",
    "user_counts_247 = valid_logs[valid_logs['ExpId'] == 247].groupby('EventName')['DeviceIDHash'].nunique().to_dict()\n",
    "user_counts_248 = valid_logs[valid_logs['ExpId'] == 248].groupby('EventName')['DeviceIDHash'].nunique().to_dict()\n",
    "# Crear una tabla de frecuencias de presencia de eventos por grupo\n",
    "event_counts = []\n",
    "\n",
    "# Para cada evento único, contabilizamos la cantidad de usuarios en los grupos de control\n",
    "for event in all_events:\n",
    "    # Contar la presencia de usuarios en cada grupo\n",
    "    counts_246 = user_counts_246.get(event, 0)\n",
    "    counts_247 = user_counts_247.get(event, 0)\n",
    "    counts_248 = user_counts_248.get(event, 0)\n",
    "    \n",
    "    # Crear una fila de eventos en la tabla\n",
    "    event_counts.append([counts_246, counts_247, counts_248])\n",
    "\n",
    "# Convertir la lista a un DataFrame\n",
    "comparison_df = pd.DataFrame(event_counts, columns=['Group_246', 'Group_247', 'Group_248'], index=all_events)\n",
    "\n",
    "# Realizar la prueba de chi-cuadrado\n",
    "chi2_results = {}\n",
    "\n",
    "for event in comparison_df.index:\n",
    "    chi2, p_value, _, _ = chi2_contingency(comparison_df.loc[[event]].T)\n",
    "    chi2_results[event] = p_value\n",
    "\n",
    "# Mostrar los resultados\n",
    "for event, p_value in chi2_results.items():\n",
    "    print(f\"P-valor para el evento '{event}': {p_value:.5f}\")"
   ]
  },
  {
   "cell_type": "markdown",
   "metadata": {},
   "source": [
    "## Calcular el número de hipótesis testeadas y el nivel de significancia."
   ]
  },
  {
   "cell_type": "code",
   "execution_count": 30,
   "metadata": {},
   "outputs": [
    {
     "name": "stdout",
     "output_type": "stream",
     "text": [
      "Número de pruebas realizadas: 5\n",
      "Nivel de significancia corregido (Bonferroni): 0.01\n"
     ]
    }
   ],
   "source": [
    "# Contar el número de pruebas realizadas\n",
    "num_tests = len(p_values)\n",
    "adjusted_alpha = alpha / num_tests\n",
    "print(f\"Número de pruebas realizadas: {num_tests}\")\n",
    "print(f\"Nivel de significancia corregido (Bonferroni): {adjusted_alpha}\")"
   ]
  },
  {
   "cell_type": "code",
   "execution_count": 31,
   "metadata": {},
   "outputs": [
    {
     "name": "stdout",
     "output_type": "stream",
     "text": [
      "\n",
      "Conclusiones Generales:\n",
      "1. Se realizó un análisis del embudo de eventos, que mostró que la mayoría de los usuarios llegaron a la pantalla principal, pero la conversión hacia la siguiente etapa (pantalla del carrito) disminuyó considerablemente.\n",
      "2. Los resultados de las pruebas A/B indicaron que no hubo diferencias significativas en el comportamiento de los usuarios en los grupos de control y el grupo de prueba, lo que sugiere que el cambio de fuentes no afectó la experiencia del usuario.\n",
      "3. La mayoría de los usuarios participaron en los eventos clave, pero se observó que la tasa de conversión podría mejorarse con ajustes adicionales en la interfaz de usuario.\n",
      "4. La proporción de usuarios que completaron el viaje desde el primer evento hasta el pago fue inferior al 50%, lo que indica áreas adicionales para ajustes y pruebas en la aplicación.\n",
      "5. En base a los valores P obtenidos, se concluyó que no existían diferencias estadísticamente significativas, lo que permite continuar con confianza hacia futuras iteraciones de pruebas A/B.\n"
     ]
    }
   ],
   "source": [
    "def print_conclusions():\n",
    "    print(\"\\nConclusiones Generales:\")\n",
    "    print(\"1. Se realizó un análisis del embudo de eventos, que mostró que la mayoría de los usuarios llegaron a la pantalla principal, \"\n",
    "          \"pero la conversión hacia la siguiente etapa (pantalla del carrito) disminuyó considerablemente.\")\n",
    "    print(\"2. Los resultados de las pruebas A/B indicaron que no hubo diferencias significativas en el comportamiento de los usuarios \"\n",
    "          \"en los grupos de control y el grupo de prueba, lo que sugiere que el cambio de fuentes no afectó la experiencia del usuario.\")\n",
    "    print(\"3. La mayoría de los usuarios participaron en los eventos clave, pero se observó que la tasa de conversión \"\n",
    "          \"podría mejorarse con ajustes adicionales en la interfaz de usuario.\")\n",
    "    print(\"4. La proporción de usuarios que completaron el viaje desde el primer evento hasta el pago fue inferior al 50%, \"\n",
    "          \"lo que indica áreas adicionales para ajustes y pruebas en la aplicación.\")\n",
    "    print(\"5. En base a los valores P obtenidos, se concluyó que no existían diferencias estadísticamente significativas, lo que permite \"\n",
    "          \"continuar con confianza hacia futuras iteraciones de pruebas A/B.\")\n",
    "\n",
    "print_conclusions()"
   ]
  }
 ],
 "metadata": {
  "kernelspec": {
   "display_name": "Python 3 (ipykernel)",
   "language": "python",
   "name": "python3"
  },
  "language_info": {
   "codemirror_mode": {
    "name": "ipython",
    "version": 3
   },
   "file_extension": ".py",
   "mimetype": "text/x-python",
   "name": "python",
   "nbconvert_exporter": "python",
   "pygments_lexer": "ipython3",
   "version": "3.9.23"
  }
 },
 "nbformat": 4,
 "nbformat_minor": 4
}
