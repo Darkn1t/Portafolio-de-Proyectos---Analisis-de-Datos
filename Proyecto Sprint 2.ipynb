{
 "cells": [
  {
   "cell_type": "markdown",
   "id": "ef9c8bf1",
   "metadata": {},
   "source": [
    "Todavía desempeñándote como miembro del equipo analítico, en el primer proyecto hemos sentado las bases para la segunda fase. ¡Hemos llegado! Ahora aplicarás técnicas avanzadas para extraer datos significativos, atendiendo a las crecientes necesidades del cliente.\n",
    "\n",
    "Como sabes, las empresas recopilan y almacenan datos de una forma particular. Store 1 quiere almacenar toda la información de sus clientes en una tabla.\n",
    "\n",
    "\n",
    "| user_id | user_name | user_age | purchase_category | spending_per_category |\n",
    "| --- | --- | --- | --- | --- |\n",
    "| '32415' | 'mike', 'reed' | 32 | 'electronics', 'sport', 'books' | 894, 213, 173 |\n",
    "| '31980' | 'kate', 'morgan' | 24 | 'clothes', 'shoes' | 439, 390 |\n",
    "\n",
    "En términos técnicos, una tabla es simplemente una lista anidada que contiene una sublista para cada usuario o usuaria.\n",
    "\n",
    "Store 1 ha creado una tabla de este tipo para sus usuarios. Está almacenada en la variable \"users\". Cada sublista contiene el ID del usuario, nombre y apellido, edad, categorías favoritas y el importe gastado en cada categoría.\n",
    "\n",
    "-\t**user_id:** el identificador único para cada usuario.\n",
    "-\t**user_name:** el nombre de usuario.\n",
    "-\t**user_age:** la edad del usuario.\n",
    "-\t**fav_categories:** las categorías de artículos comprados por el usuario, como 'ELECTRONICS', 'SPORT', 'BOOKS', etc.\n",
    "-\t**total_spendings:** la lista de enteros que indican la cantidad gastada en cada una de sus categorías favoritas."
   ]
  },
  {
   "cell_type": "code",
   "execution_count": 2,
   "id": "49c71681",
   "metadata": {},
   "outputs": [],
   "source": [
    "users = [\n",
    "    ['32415', ' mike_reed ', 32.0, ['ELECTRONICS', 'SPORT', 'BOOKS'], [894, 213, 173]],\n",
    "    ['31980', 'kate morgan', 24.0, ['CLOTHES', 'BOOKS'], [439, 390]],\n",
    "    ['32156', ' john doe ', 37.0, ['ELECTRONICS', 'HOME', 'FOOD'], [459, 120, 99]],\n",
    "    ['32761', 'SAMANTHA SMITH', 29.0, ['CLOTHES', 'ELECTRONICS', 'BEAUTY'], [299, 679, 85]],\n",
    "    ['32984', 'David White', 41.0, ['BOOKS', 'HOME', 'SPORT'], [234, 329, 243]],\n",
    "    ['33001', 'emily brown', 26.0, ['BEAUTY', 'HOME', 'FOOD'], [213, 659, 79]],\n",
    "    ['33767', ' Maria Garcia', 33.0, ['CLOTHES', 'FOOD', 'BEAUTY'], [499, 189, 63]],\n",
    "    ['33912', 'JOSE MARTINEZ', 22.0, ['SPORT', 'ELECTRONICS', 'HOME'], [259, 549, 109]],\n",
    "    ['34009', 'lisa wilson ', 35.0, ['HOME', 'BOOKS', 'CLOTHES'], [329, 189, 329]],\n",
    "    ['34278', 'James Lee', 28.0, ['BEAUTY', 'CLOTHES', 'ELECTRONICS'], [189, 299, 579]],\n",
    "]"
   ]
  },
  {
   "cell_type": "markdown",
   "id": "1c370476",
   "metadata": {},
   "source": [
    "# Paso 1\n",
    "\n",
    "En la última tarea de la primera parte de este proyecto escribiste código para:\n",
    "\n",
    "1. Eliminar todos los espacios iniciales y finales de los nombres, así como cualquier guion bajo.\n",
    "2. Convertir todas las edades en números enteros.\n",
    "3. Separar todos los nombres y apellidos en una sublista.\n",
    "\n",
    "Hagámoslo ahora una función para que podamos usarla para fijar a cualquier cliente. Nombra a tu función `clean_user`. Debe recibir una lista con toda la información del cliente (user_info), así como dos enteros. Uno de ellos señala el índice del nombre del cliente y el otro es el índice de la edad del cliente en la lista. Debe devolver la lista limpia después de aplicar todos los cambios anteriores. Pruébala llamándola, pasándole la lista `test_user[]` y luego muéstrala en pantalla."
   ]
  },
  {
   "cell_type": "code",
   "execution_count": 3,
   "id": "bc6221bb",
   "metadata": {},
   "outputs": [
    {
     "name": "stdout",
     "output_type": "stream",
     "text": [
      "['32415', ['mike', 'reed'], 32, ['ELECTRONICS', 'SPORT', 'BOOKS'], [894, 213, 173]]\n"
     ]
    }
   ],
   "source": [
    "\n",
    "def clean_user(user_info, name_index, age_index):\n",
    "        \n",
    " \n",
    "\n",
    "    # Paso 1: elimina del nombre espacios iniciales y finales, así como guiones\n",
    "    user_name_1 = user_name = user_info[name_index].strip().replace('_', ' ')\n",
    "\n",
    "    # Paso 2: convierte la edad en entero\n",
    "    user_age_1 = user_age = int(user_info[age_index])\n",
    "\n",
    "    # Paso 3: separa el nombre y el apellido en una sublista\n",
    "    user_name_split = user_name.split()\n",
    "\n",
    "    # Prepara la lista con la información completa del usuario\n",
    "    # Reemplaza el nombre y la edad originales con los datos limpios\n",
    "    user_info[name_index] = user_name_split\n",
    "    user_info[age_index] = user_age \n",
    "\n",
    "    return user_info\n",
    "# Prueba la función\n",
    "test_user = ['32415', ' mike_reed ', 32.0, ['ELECTRONICS', 'SPORT', 'BOOKS'], [894, 213, 173]]\n",
    "name_index = 1\n",
    "age_index = 2\n",
    "\n",
    "cleaned_user = clean_user(test_user, name_index, age_index)\n",
    "print(cleaned_user)"
   ]
  },
  {
   "cell_type": "markdown",
   "id": "d0cf1ab0",
   "metadata": {},
   "source": [
    "# Paso 2\n",
    "\n",
    "Observa que todas las categorías favoritas están almacenadas en mayúsculas. Llena una nueva lista llamada `fav_categories_low` con las mismas categorías, pero en minúsculas, iterando sobre los valores en la lista `fav_categories`, modificándolos y luego añade los nuevos valores a la lista `fav_categories_low`. Como siempre, muestra el resultado final."
   ]
  },
  {
   "cell_type": "code",
   "execution_count": 4,
   "id": "7eb30f85",
   "metadata": {},
   "outputs": [
    {
     "name": "stdout",
     "output_type": "stream",
     "text": [
      "['electronics', 'sport', 'books']\n"
     ]
    }
   ],
   "source": [
    "fav_categories = ['ELECTRONICS', 'SPORT', 'BOOKS']\n",
    "fav_categories_low = []\n",
    "\n",
    "# Iterar sobre cada categoría en fav_categories\n",
    "for category in fav_categories:\n",
    "    # Convertir la categoría a minúsculas y agregarla a fav_categories_low\n",
    "    fav_categories_low.append(category.lower())\n",
    "\n",
    "\n",
    "\n",
    "print(fav_categories_low)"
   ]
  },
  {
   "cell_type": "markdown",
   "id": "c8247cc6",
   "metadata": {},
   "source": [
    "# Paso 3\n",
    "\n",
    "Ahora hagamos lo mismo, pero para cada uno de los usuarios de la empresa. Llena una lista nueva llamada `users_categories_low` con los mismos usuarios, pero con sus categorías en minúsculas, iterando sobre los valores en la lista `users`, luego itera sobre los valores en `user_categories`, modificándolos, y después agrega los nuevos valores de usuarios a la lista `users_categories_low`. Como siempre, muestra el resultado final."
   ]
  },
  {
   "cell_type": "code",
   "execution_count": 5,
   "id": "cb9240ff",
   "metadata": {},
   "outputs": [
    {
     "name": "stdout",
     "output_type": "stream",
     "text": [
      "[['34278', 'James Lee', 28.0, ['beauty', 'clothes', 'electronics'], [189, 299, 579]]]\n"
     ]
    }
   ],
   "source": [
    "users = [\n",
    "    ['32415', ' mike_reed ', 32.0, ['ELECTRONICS', 'SPORT', 'BOOKS'], [894, 213, 173]],\n",
    "    ['31980', 'kate morgan', 24.0, ['CLOTHES', 'BOOKS'], [439, 390]],\n",
    "    ['32156', ' john doe ', 37.0, ['ELECTRONICS', 'HOME', 'FOOD'], [459, 120, 99]],\n",
    "    ['32761', 'SAMANTHA SMITH', 29.0, ['CLOTHES', 'ELECTRONICS', 'BEAUTY'], [299, 679, 85]],\n",
    "    ['32984', 'David White', 41.0, ['BOOKS', 'HOME', 'SPORT'], [234, 329, 243]],\n",
    "    ['33001', 'emily brown', 26.0, ['BEAUTY', 'HOME', 'FOOD'], [213, 659, 79]],\n",
    "    ['33767', ' Maria Garcia', 33.0, ['CLOTHES', 'FOOD', 'BEAUTY'], [499, 189, 63]],\n",
    "    ['33912', 'JOSE MARTINEZ', 22.0, ['SPORT', 'ELECTRONICS', 'HOME'], [259, 549, 109]],\n",
    "    ['34009', 'lisa wilson ', 35.0, ['HOME', 'BOOKS', 'CLOTHES'], [329, 189, 329]],\n",
    "    ['34278', 'James Lee', 28.0, ['BEAUTY', 'CLOTHES', 'ELECTRONICS'], [189, 299, 579]],\n",
    "]\n",
    "\n",
    "users_categories_low = []\n",
    "for user in users:\n",
    "\tcategories_low = []\n",
    "\tfor category in user[3]:\n",
    "\t\tlowered_category = category.lower()   # escribe tu código aquí\n",
    "\t\tcategories_low.append(lowered_category)\n",
    "\n",
    " # Modificar el usuario eliminando las categorías anteriores y agregando las nuevas\n",
    "user.pop(3)  # Eliminar la lista de categorías anteriores\n",
    "user.insert(3, categories_low)  # Insertar la nueva lista de categorías en minúsculas\n",
    "# Agregar el usuario actualizado a la lista users_categories_low\n",
    "users_categories_low.append(user)\n",
    "    \n",
    "    \n",
    "print(users_categories_low)"
   ]
  },
  {
   "cell_type": "markdown",
   "id": "b63e39b7",
   "metadata": {},
   "source": [
    "# Paso 4\n",
    "\n",
    "Ahora, completemos el código de nuestra función `clean_user` para limpiar la categoría:\n",
    "1. Añade otro parámetro con el índice de categorías.\n",
    "2. Pon todos los nombres en minúsculas antes de aplicar \"strip\" y \"replace\".\n",
    "\n",
    "Después, crea un bucle y aplica tu función a toda la lista de usuarios, agregando tus resultados a la lista `users_clean`. Después muéstralo"
   ]
  },
  {
   "cell_type": "code",
   "execution_count": 6,
   "id": "93bcc779",
   "metadata": {},
   "outputs": [
    {
     "name": "stdout",
     "output_type": "stream",
     "text": [
      "[['32415', ['mike', 'reed'], 32, ['electronics', 'sport', 'books'], [894, 213, 173]], ['31980', ['kate', 'morgan'], 24, ['clothes', 'books'], [439, 390]], ['32156', ['john', 'doe'], 37, ['electronics', 'home', 'food'], [459, 120, 99]], ['32761', ['samantha', 'smith'], 29, ['clothes', 'electronics', 'beauty'], [299, 679, 85]], ['32984', ['david', 'white'], 41, ['books', 'home', 'sport'], [234, 329, 243]], ['33001', ['emily', 'brown'], 26, ['beauty', 'home', 'food'], [213, 659, 79]], ['33767', ['maria', 'garcia'], 33, ['clothes', 'food', 'beauty'], [499, 189, 63]], ['33912', ['jose', 'martinez'], 22, ['sport', 'electronics', 'home'], [259, 549, 109]], ['34009', ['lisa', 'wilson'], 35, ['home', 'books', 'clothes'], [329, 189, 329]], ['34278', ['james', 'lee'], 28, ['beauty', 'clothes', 'electronics'], [189, 299, 579]]]\n"
     ]
    }
   ],
   "source": [
    "def clean_user(user_info, name_index, age_index, cat_index):\n",
    "\n",
    "  # Paso 1: pon todo en minúsculas y elimina del nombre espacios iniciales y finales, así como guiones\n",
    "  user_name_1 = user_info[name_index].strip().lower().replace(\"_\", \" \")\n",
    "\n",
    "  # Paso 2: convierte la edad en entero\n",
    "  user_age_1 = int(user_info[age_index])\n",
    "\n",
    "  # Paso 3: separa el nombre y el apellido en una sublista\n",
    "  user_name_1 = user_name_1 = user_name_1.split()\n",
    "\n",
    "  # Paso 4: poner categorías en minúsculas\n",
    "  categories_low = [category.lower() for category in user_info[cat_index]]\n",
    "\n",
    "\n",
    "  # Prepara la lista con la información completa del usuario\n",
    "  # Reemplaza el nombre y la edad originales con los datos limpios\n",
    "  user_cleaned = [user_info[0], user_name_1, user_age_1, categories_low, user_info[4]]\n",
    "\n",
    "  return user_cleaned\n",
    "\n",
    "\n",
    "users = [\n",
    "    ['32415', ' mike_reed ', 32.0, ['ELECTRONICS', 'SPORT', 'BOOKS'], [894, 213, 173]],\n",
    "    ['31980', 'kate morgan', 24.0, ['CLOTHES', 'BOOKS'], [439, 390]],\n",
    "    ['32156', ' john doe ', 37.0, ['ELECTRONICS', 'HOME', 'FOOD'], [459, 120, 99]],\n",
    "    ['32761', 'SAMANTHA SMITH', 29.0, ['CLOTHES', 'ELECTRONICS', 'BEAUTY'], [299, 679, 85]],\n",
    "    ['32984', 'David White', 41.0, ['BOOKS', 'HOME', 'SPORT'], [234, 329, 243]],\n",
    "    ['33001', 'emily brown', 26.0, ['BEAUTY', 'HOME', 'FOOD'], [213, 659, 79]],\n",
    "    ['33767', ' Maria Garcia', 33.0, ['CLOTHES', 'FOOD', 'BEAUTY'], [499, 189, 63]],\n",
    "    ['33912', 'JOSE MARTINEZ', 22.0, ['SPORT', 'ELECTRONICS', 'HOME'], [259, 549, 109]],\n",
    "    ['34009', 'lisa wilson ', 35.0, ['HOME', 'BOOKS', 'CLOTHES'], [329, 189, 329]],\n",
    "    ['34278', 'James Lee', 28.0, ['BEAUTY', 'CLOTHES', 'ELECTRONICS'], [189, 299, 579]],\n",
    "]\n",
    "\n",
    "name_index = 1\n",
    "age_index = 2\n",
    "cat_index = 3\n",
    "users_cleaned = []\n",
    "\n",
    "for user in users:\n",
    "  user_cleaned = clean_user(user, name_index, age_index, cat_index)\n",
    "  users_cleaned.append(user_cleaned)\n",
    "\n",
    "\n",
    "print(users_cleaned)"
   ]
  },
  {
   "cell_type": "markdown",
   "id": "6a03af79",
   "metadata": {},
   "source": [
    "# Paso 5\n",
    "\n",
    "La empresa desea conocer sus ingresos totales y te pide que proporciones este valor.\n",
    "Para calcular los ingresos de la empresa, sigue estos pasos:\n",
    "\n",
    "1. Utiliza `for` para iterar sobre la lista `users`.\n",
    "2. Extrae la lista de gastos de cada usuario y suma los valores.\n",
    "3. Actualiza el valor de los ingresos con el total de cada usuario.\n",
    "\n",
    "Así obtendrás los ingresos totales de la empresa que mostrarás en la pantalla al final."
   ]
  },
  {
   "cell_type": "code",
   "execution_count": 7,
   "id": "1fe9251d",
   "metadata": {},
   "outputs": [
    {
     "name": "stdout",
     "output_type": "stream",
     "text": [
      "9189\n"
     ]
    }
   ],
   "source": [
    "users = [['32415', ['mike', 'reed'], 32, ['electronics', 'sport', 'books'], [894, 213, 173]],\n",
    "         ['31980', ['kate', 'morgan'], 24, ['clothes', 'books'], [439, 390]],\n",
    "         ['32156', ['john', 'doe'], 37, ['electronics', 'home', 'food'], [459, 120, 99]],\n",
    "         ['32761', ['samantha', 'smith'], 29, ['clothes', 'electronics', 'beauty'], [299, 679, 85]],\n",
    "         ['32984', ['david', 'white'], 41, ['books', 'home', 'sport'], [234, 329, 243]],\n",
    "         ['33001', ['emily', 'brown'], 26, ['beauty', 'home', 'food'], [213, 659, 79]],\n",
    "         ['33767', ['maria', 'garcia'], 33, ['clothes', 'food', 'beauty'], [499, 189, 63]],\n",
    "         ['33912', ['jose', 'martinez'], 22, ['sport', 'electronics', 'home'], [259, 549, 109]],\n",
    "         ['34009', ['lisa', 'wilson'], 35, ['home', 'books', 'clothes'], [329, 189, 329]],\n",
    "         ['34278', ['james', 'lee'], 28, ['beauty', 'clothes', 'electronics'], [189, 299, 579]]]\n",
    "\n",
    "\n",
    "\n",
    "def calculate_total_spendings(spending_list):\n",
    "    if not spending_list:\n",
    "        return 0\n",
    "    total_spendings = sum(spending_list)\n",
    "    return total_spendings\n",
    "\n",
    "revenue = 0\n",
    "\n",
    "for user in users:\n",
    "    spending_list = user[4]  \n",
    "    total_spendings = calculate_total_spendings(spending_list)\n",
    "    revenue += total_spendings\n",
    "\n",
    "print(revenue) "
   ]
  },
  {
   "cell_type": "markdown",
   "id": "6278fbda",
   "metadata": {},
   "source": [
    "# Paso 6\n",
    "\n",
    "La empresa quiere ofrecer descuentos a sus clientes leales. Los clientes que realizan compras por un importe total mayor a $1500 se consideran leales y recibirán un descuento.\n",
    "\n",
    "Nuestro objetivo es crear un bucle `while` que compruebe el importe total gastado y se detenga al alcanzarlo. Para simular nuevas compras, la variable `new_purchase` genera un número entre 30 y 80 en cada iteración del bucle. Esto representa la cantidad de dinero gastada en una nueva compra y es lo que debes agregar al total.\n",
    "\n",
    "Una vez que se alcance el importe objetivo y se termine el bucle `while`, se mostrará la cantidad final."
   ]
  },
  {
   "cell_type": "code",
   "execution_count": 8,
   "id": "726e33ce",
   "metadata": {},
   "outputs": [
    {
     "name": "stdout",
     "output_type": "stream",
     "text": [
      "1570\n"
     ]
    }
   ],
   "source": [
    "from random import randint\n",
    "\n",
    "total_amount_spent = 1280\n",
    "target_amount = 1500\n",
    "\n",
    "while total_amount_spent < target_amount:\n",
    "\tnew_purchase = randint(30, 80) # generamos un número aleatorio de 30 a 80\n",
    "\ttotal_amount_spent += new_purchase\n",
    "\n",
    "print(total_amount_spent)"
   ]
  },
  {
   "cell_type": "markdown",
   "id": "1f74c0c9",
   "metadata": {},
   "source": [
    "# Paso 7\n",
    "\n",
    "Recorre la lista de usuarios que te hemos proporcionado y muestra los nombres de los clientes menores de 30 años.\n"
   ]
  },
  {
   "cell_type": "code",
   "execution_count": 9,
   "id": "c1fae8a7",
   "metadata": {},
   "outputs": [
    {
     "name": "stdout",
     "output_type": "stream",
     "text": [
      "kate morgan\n",
      "samantha smith\n",
      "emily brown\n",
      "jose martinez\n",
      "james lee\n"
     ]
    }
   ],
   "source": [
    "users = [['32415', ['mike', 'reed'], 32, ['electronics', 'sport', 'books'], [894, 213, 173]],\n",
    "         ['31980', ['kate', 'morgan'], 24, ['clothes', 'books'], [439, 390]],\n",
    "         ['32156', ['john', 'doe'], 37, ['electronics', 'home', 'food'], [459, 120, 99]],\n",
    "         ['32761', ['samantha', 'smith'], 29, ['clothes', 'electronics', 'beauty'], [299, 679, 85]],\n",
    "         ['32984', ['david', 'white'], 41, ['books', 'home', 'sport'], [234, 329, 243]],\n",
    "         ['33001', ['emily', 'brown'], 26, ['beauty', 'home', 'food'], [213, 659, 79]],\n",
    "         ['33767', ['maria', 'garcia'], 33, ['clothes', 'food', 'beauty'], [499, 189, 63]],\n",
    "         ['33912', ['jose', 'martinez'], 22, ['sport', 'electronics', 'home'], [259, 549, 109]],\n",
    "         ['34009', ['lisa', 'wilson'], 35, ['home', 'books', 'clothes'], [329, 189, 329]],\n",
    "         ['34278', ['james', 'lee'], 28, ['beauty', 'clothes', 'electronics'], [189, 299, 579]]]\n",
    "\n",
    "# Recorremos la lista de usuarios\n",
    "for user in users:\n",
    "     # Verificamos si la edad es menor de 30\n",
    "    if user[2] < 30:      # El índice 2 corresponde a la edad\n",
    "        print(f\"{user[1][0]} {user[1][1]}\")  # Accedemos al nombre y apellido\n",
    "    "
   ]
  },
  {
   "cell_type": "markdown",
   "id": "83742c07",
   "metadata": {},
   "source": [
    "# Paso 8\n",
    "\n",
    "Mostremos en pantalla los nombres de los usuarios menores de 30 años que acumulan un gasto total superior a 1000 dólares.\n"
   ]
  },
  {
   "cell_type": "code",
   "execution_count": 10,
   "id": "2191fea7",
   "metadata": {},
   "outputs": [
    {
     "name": "stdout",
     "output_type": "stream",
     "text": [
      "samantha smith\n",
      "james lee\n"
     ]
    }
   ],
   "source": [
    "users = [['32415', ['mike', 'reed'], 32, ['electronics', 'sport', 'books'], [894, 213, 173]],\n",
    "         ['31980', ['kate', 'morgan'], 24, ['clothes', 'books'], [439, 390]],\n",
    "         ['32156', ['john', 'doe'], 37, ['electronics', 'home', 'food'], [459, 120, 99]],\n",
    "         ['32761', ['samantha', 'smith'], 29, ['clothes', 'electronics', 'beauty'], [299, 679, 85]],\n",
    "         ['32984', ['david', 'white'], 41, ['books', 'home', 'sport'], [234, 329, 243]],\n",
    "         ['33001', ['emily', 'brown'], 26, ['beauty', 'home', 'food'], [213, 659, 79]],\n",
    "         ['33767', ['maria', 'garcia'], 33, ['clothes', 'food', 'beauty'], [499, 189, 63]],\n",
    "         ['33912', ['jose', 'martinez'], 22, ['sport', 'electronics', 'home'], [259, 549, 109]],\n",
    "         ['34009', ['lisa', 'wilson'], 35, ['home', 'books', 'clothes'], [329, 189, 329]],\n",
    "         ['34278', ['james', 'lee'], 28, ['beauty', 'clothes', 'electronics'], [189, 299, 579]]]\n",
    "\n",
    "for user in users:\n",
    "    age = user[2]\n",
    "    expenses = user[4]\n",
    "    total_expense = sum(expenses)\n",
    "    \n",
    "    if age < 30 and total_expense > 1000:\n",
    "        print(f\"{user[1][0]} {user[1][1]}\")"
   ]
  },
  {
   "cell_type": "markdown",
   "id": "2b43b3df",
   "metadata": {},
   "source": [
    "# Paso 9\n",
    "\n",
    "Ahora vamos a mostrar el nombre y la edad de todos los usuarios y todas las usuarias que han comprado ropa (\"clothes\"). Imprime el nombre y la edad en la misma declaración print."
   ]
  },
  {
   "cell_type": "code",
   "execution_count": 11,
   "id": "367fa43a",
   "metadata": {},
   "outputs": [
    {
     "name": "stdout",
     "output_type": "stream",
     "text": [
      "kate 24\n",
      "samantha 29\n",
      "maria 33\n",
      "lisa 35\n",
      "james 28\n"
     ]
    }
   ],
   "source": [
    "users = [['32415', ['mike', 'reed'], 32, ['electronics', 'sport', 'books'], [894, 213, 173]],\n",
    "         ['31980', ['kate', 'morgan'], 24, ['clothes', 'books'], [439, 390]],\n",
    "         ['32156', ['john', 'doe'], 37, ['electronics', 'home', 'food'], [459, 120, 99]],\n",
    "         ['32761', ['samantha', 'smith'], 29, ['clothes', 'electronics', 'beauty'], [299, 679, 85]],\n",
    "         ['32984', ['david', 'white'], 41, ['books', 'home', 'sport'], [234, 329, 243]],\n",
    "         ['33001', ['emily', 'brown'], 26, ['beauty', 'home', 'food'], [213, 659, 79]],\n",
    "         ['33767', ['maria', 'garcia'], 33, ['clothes', 'food', 'beauty'], [499, 189, 63]],\n",
    "         ['33912', ['jose', 'martinez'], 22, ['sport', 'electronics', 'home'], [259, 549, 109]],\n",
    "         ['34009', ['lisa', 'wilson'], 35, ['home', 'books', 'clothes'], [329, 189, 329]],\n",
    "         ['34278', ['james', 'lee'], 28, ['beauty', 'clothes', 'electronics'], [189, 299, 579]]]\n",
    "\n",
    "for user in users:\n",
    "    firstname = user[1][0]  # Solo tomar el primer nombre\n",
    "    age = user[2]\n",
    "    purchases = user[3]\n",
    "    \n",
    "    # Verificar si \"clothes\" está en la lista de compras\n",
    "    if 'clothes' in purchases:\n",
    "        print(firstname, age)"
   ]
  },
  {
   "cell_type": "markdown",
   "id": "5207414b",
   "metadata": {},
   "source": [
    "# Paso 10\n",
    "\n",
    "La dirección requiere de una función que proporcione información sobre los clientes, incluyendo sus nombres, edades y gasto total, filtrada por categorías específicas. Con base en fragmentos de código anteriores, crearemos una función llamada `get_client_by_cat` con las siguientes especificaciones:\n",
    "\n",
    "1. **Parámetros:**\n",
    "   - **users:** una lista con los datos de los usuarios.\n",
    "   - **id_index:** el índice donde está almacenado el ID del cliente en la lista de usuarios.\n",
    "   - **name_index:** el índice donde está almacenado el nombre del cliente en la lista de usuarios.\n",
    "   - **age_index:** el índice donde la edad del cliente está almacenada en la lista de usuarios.\n",
    "   - **category_index:** el índice donde las categorías de compras del cliente están listadas.\n",
    "   - **amounts_index:** el índice donde las cantidades gastadas en cada categoría están almacenadas.\n",
    "   - **filter_category:** un string que representa el nombre de la categoría para filtrar clientes.\n",
    "\n",
    "2. **Salida:**\n",
    "   - La función devuelve una lista de sublistas. Cada sublista contiene:\n",
    "     - El número ID del cliente.\n",
    "     - Una sublista con el nombre y apellido del cliente.\n",
    "     - La edad del cliente.\n",
    "     - Un entero que representa la cantidad total gastada por el cliente.\n",
    "\n",
    "Por ejemplo, si llamas a la función con los siguientes parámetros:\n",
    "\n",
    "\n",
    "```python\n",
    "get_client_by_cat([\n",
    "    ['32415', ['mike', 'reed'], 32, ['electronics', 'sport', 'books'], [894, 213, 173]]\n",
    "], 0, 1, 2, 3, 4, 'books')\n",
    "```\n",
    "\n",
    "La salida será:\n",
    "\n",
    "```python\n",
    "[['32415', ['mike', 'reed'], 32, 1280]]\n",
    "```\n",
    "\n",
    "Esta salida muestra que el cliente con el ID '32415', llamado Mike Reed, de 32 años, gastó un total de 1280 en la categoría 'books' y otras compras.\n",
    "\n",
    "Después de hacer tu función, llámala pasándole nuestra lista de usuarios, los índices adecuados y la categoría 'home' y muestra en pantalla la lista que resulta."
   ]
  },
  {
   "cell_type": "code",
   "execution_count": 12,
   "id": "deb7f878",
   "metadata": {},
   "outputs": [
    {
     "name": "stdout",
     "output_type": "stream",
     "text": [
      "[['32156', ['john', 'doe'], 37, 678], ['32984', ['david', 'white'], 41, 806], ['33001', ['emily', 'brown'], 26, 951], ['33912', ['jose', 'martinez'], 22, 917], ['34009', ['lisa', 'wilson'], 35, 847]]\n"
     ]
    }
   ],
   "source": [
    "def get_client_by_cat(users, id_index, name_index, age_index, category_index, amounts_index, filter_category):\n",
    "    result = []\n",
    "    \n",
    "    for user in users:\n",
    "        # Verificamos si la categoría deseada está en la lista de categorías del usuario\n",
    "        if filter_category in user[category_index]:\n",
    "            # Calculamos el total gastado por el usuario\n",
    "            amount_total = sum(user[amounts_index])\n",
    "            # Creamos la sublista con la información requerida\n",
    "            client_info = [\n",
    "                user[id_index],             # ID del cliente\n",
    "                user[name_index],           # Nombre y apellido\n",
    "                user[age_index],            # Edad del cliente\n",
    "                amount_total                # Gasto total\n",
    "            ]\n",
    "            result.append(client_info)    # Agregamos la sublista a los resultados\n",
    "    \n",
    "    return result\n",
    "\n",
    "# La lista de usuarios\n",
    "users = [\n",
    "    ['32415', ['mike', 'reed'], 32, ['electronics', 'sport', 'books'], [894, 213, 173]],\n",
    "    ['31980', ['kate', 'morgan'], 24, ['clothes', 'books'], [439, 390]],\n",
    "    ['32156', ['john', 'doe'], 37, ['electronics', 'home', 'food'], [459, 120, 99]],\n",
    "    ['32761', ['samantha', 'smith'], 29, ['clothes', 'electronics', 'beauty'], [299, 679, 85]],\n",
    "    ['32984', ['david', 'white'], 41, ['books', 'home', 'sport'], [234, 329, 243]],\n",
    "    ['33001', ['emily', 'brown'], 26, ['beauty', 'home', 'food'], [213, 659, 79]],\n",
    "    ['33767', ['maria', 'garcia'], 33, ['clothes', 'food', 'beauty'], [499, 189, 63]],\n",
    "    ['33912', ['jose', 'martinez'], 22, ['sport', 'electronics', 'home'], [259, 549, 109]],\n",
    "    ['34009', ['lisa', 'wilson'], 35, ['home', 'books', 'clothes'], [329, 189, 329]],\n",
    "    ['34278', ['james', 'lee'], 28, ['beauty', 'clothes', 'electronics'], [189, 299, 579]]\n",
    "]\n",
    "\n",
    "# Llama a la función con la categoría 'home'\n",
    "result = get_client_by_cat(users, \n",
    "                            0,   # id_index\n",
    "                            1,   # name_index\n",
    "                            2,   # age_index\n",
    "                            3,   # category_index\n",
    "                            4,   # amounts_index\n",
    "                            'home')  # filter_category\n",
    "\n",
    "# Muestra en pantalla la lista que resulta\n",
    "print(result)"
   ]
  }
 ],
 "metadata": {
  "kernelspec": {
   "display_name": "base",
   "language": "python",
   "name": "python3"
  },
  "language_info": {
   "codemirror_mode": {
    "name": "ipython",
    "version": 3
   },
   "file_extension": ".py",
   "mimetype": "text/x-python",
   "name": "python",
   "nbconvert_exporter": "python",
   "pygments_lexer": "ipython3",
   "version": "3.12.7"
  }
 },
 "nbformat": 4,
 "nbformat_minor": 5
}
