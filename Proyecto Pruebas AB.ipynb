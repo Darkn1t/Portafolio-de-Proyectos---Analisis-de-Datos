{
 "cells": [
  {
   "cell_type": "code",
   "execution_count": 1,
   "metadata": {},
   "outputs": [],
   "source": [
    "\n",
    "# Importar bibliotecas\n",
    "\n",
    "import pandas as pd\n",
    "import numpy as np\n",
    "import matplotlib.pyplot as plt\n",
    "import seaborn as sns\n",
    "from scipy import stats\n",
    "\n"
   ]
  },
  {
   "cell_type": "code",
   "execution_count": 2,
   "metadata": {},
   "outputs": [],
   "source": [
    "# Configurar la visualización\n",
    "\n",
    "\n",
    "%matplotlib inline\n",
    "sns.set(style=\"whitegrid\")\n"
   ]
  },
  {
   "cell_type": "code",
   "execution_count": 3,
   "metadata": {},
   "outputs": [],
   "source": [
    "\n",
    "# Cargar los datos\n",
    "marketing_events = pd.read_csv('/datasets/ab_project_marketing_events_us.csv')\n",
    "new_users = pd.read_csv('/datasets/final_ab_new_users_upd_us.csv')\n",
    "events = pd.read_csv('/datasets/final_ab_events_upd_us.csv')\n",
    "participants = pd.read_csv('/datasets/final_ab_participants_upd_us.csv')\n",
    "\n"
   ]
  },
  {
   "cell_type": "code",
   "execution_count": 4,
   "metadata": {},
   "outputs": [
    {
     "name": "stdout",
     "output_type": "stream",
     "text": [
      "Objetivo del estudio:\n",
      "\n",
      "El objetivo de la prueba A/B 'recommender_system_test' es verificar si un nuevo sistema de recomendaciones mejora la conversión \n",
      "de los usuarios en las etapas del embudo de ventas (product_page → product_cart → purchase) en comparación con el sistema anterior.\n",
      "Se espera que al menos un 10% de mejora se produzca en cada etapa durante los 14 días posteriores a la inscripción del usuario.\n",
      "\n"
     ]
    }
   ],
   "source": [
    "\n",
    "# Describir los objetivos del estudio\n",
    "\n",
    "print(\"Objetivo del estudio:\")\n",
    "print(\"\"\"\n",
    "El objetivo de la prueba A/B 'recommender_system_test' es verificar si un nuevo sistema de recomendaciones mejora la conversión \n",
    "de los usuarios en las etapas del embudo de ventas (product_page → product_cart → purchase) en comparación con el sistema anterior.\n",
    "Se espera que al menos un 10% de mejora se produzca en cada etapa durante los 14 días posteriores a la inscripción del usuario.\n",
    "\"\"\")\n",
    "\n"
   ]
  },
  {
   "cell_type": "code",
   "execution_count": 5,
   "metadata": {},
   "outputs": [],
   "source": [
    "# Filtrar eventos de marketing aplicables a la región \"UE\"\n",
    "marketing_events = marketing_events[marketing_events['regions'] == 'EU']\n",
    "\n",
    "# Filtrar las fechas de aplicación entre 2020-12-07 y 2021-01-01\n",
    "marketing_events['start_dt'] = pd.to_datetime(marketing_events['start_dt'])\n",
    "marketing_events['finish_dt'] = pd.to_datetime(marketing_events['finish_dt'])\n",
    "valid_dates_mask = (marketing_events['start_dt'] >= '2020-12-07') & (marketing_events['finish_dt'] <= '2021-01-01')\n",
    "marketing_events = marketing_events[valid_dates_mask]\n",
    "\n",
    "# Verificar que consideramos los primeros 14 días desde que se registraron los usuarios\n",
    "new_users['first_date'] = pd.to_datetime(new_users['first_date'])\n",
    "new_users['valid_until'] = new_users['first_date'] + pd.Timedelta(days=14)\n",
    "\n",
    "# Convertir las fechas de eventos\n",
    "events['event_dt'] = pd.to_datetime(events['event_dt'])\n",
    "\n",
    "# Filtrar eventos para asegurarnos de que están dentro de las dos semanas iniciales después del registro\n",
    "events = events[events['event_dt'] <= new_users['valid_until'].max()]\n"
   ]
  },
  {
   "cell_type": "code",
   "execution_count": 6,
   "metadata": {},
   "outputs": [
    {
     "name": "stdout",
     "output_type": "stream",
     "text": [
      "<class 'pandas.core.frame.DataFrame'>\n",
      "Int64Index: 0 entries\n",
      "Data columns (total 4 columns):\n",
      " #   Column     Non-Null Count  Dtype         \n",
      "---  ------     --------------  -----         \n",
      " 0   name       0 non-null      object        \n",
      " 1   regions    0 non-null      object        \n",
      " 2   start_dt   0 non-null      datetime64[ns]\n",
      " 3   finish_dt  0 non-null      datetime64[ns]\n",
      "dtypes: datetime64[ns](2), object(2)\n",
      "memory usage: 0.0+ bytes\n",
      "\n",
      "<class 'pandas.core.frame.DataFrame'>\n",
      "RangeIndex: 58703 entries, 0 to 58702\n",
      "Data columns (total 5 columns):\n",
      " #   Column       Non-Null Count  Dtype         \n",
      "---  ------       --------------  -----         \n",
      " 0   user_id      58703 non-null  object        \n",
      " 1   first_date   58703 non-null  datetime64[ns]\n",
      " 2   region       58703 non-null  object        \n",
      " 3   device       58703 non-null  object        \n",
      " 4   valid_until  58703 non-null  datetime64[ns]\n",
      "dtypes: datetime64[ns](2), object(3)\n",
      "memory usage: 2.2+ MB\n",
      "\n",
      "<class 'pandas.core.frame.DataFrame'>\n",
      "Int64Index: 423761 entries, 0 to 423760\n",
      "Data columns (total 4 columns):\n",
      " #   Column      Non-Null Count   Dtype         \n",
      "---  ------      --------------   -----         \n",
      " 0   user_id     423761 non-null  object        \n",
      " 1   event_dt    423761 non-null  datetime64[ns]\n",
      " 2   event_name  423761 non-null  object        \n",
      " 3   details     60314 non-null   float64       \n",
      "dtypes: datetime64[ns](1), float64(1), object(2)\n",
      "memory usage: 16.2+ MB\n",
      "\n",
      "<class 'pandas.core.frame.DataFrame'>\n",
      "RangeIndex: 14525 entries, 0 to 14524\n",
      "Data columns (total 3 columns):\n",
      " #   Column   Non-Null Count  Dtype \n",
      "---  ------   --------------  ----- \n",
      " 0   user_id  14525 non-null  object\n",
      " 1   group    14525 non-null  object\n",
      " 2   ab_test  14525 non-null  object\n",
      "dtypes: object(3)\n",
      "memory usage: 340.6+ KB\n"
     ]
    }
   ],
   "source": [
    "\n",
    "# Exploración de los datos\n",
    "\n",
    "marketing_events.info()\n",
    "print()\n",
    "new_users.info()\n",
    "print()\n",
    "events.info()\n",
    "print()\n",
    "participants.info()\n",
    "\n"
   ]
  },
  {
   "cell_type": "code",
   "execution_count": 7,
   "metadata": {},
   "outputs": [
    {
     "name": "stdout",
     "output_type": "stream",
     "text": [
      "Tipos de datos antes de la conversión:\n",
      "user_id                object\n",
      "first_date     datetime64[ns]\n",
      "region                 object\n",
      "device                 object\n",
      "valid_until    datetime64[ns]\n",
      "dtype: object\n",
      "user_id               object\n",
      "event_dt      datetime64[ns]\n",
      "event_name            object\n",
      "details              float64\n",
      "dtype: object\n"
     ]
    }
   ],
   "source": [
    "\n",
    "# Revisar tipos de datos\n",
    "\n",
    "print(\"Tipos de datos antes de la conversión:\")\n",
    "print(new_users.dtypes)\n",
    "print(events.dtypes)\n"
   ]
  },
  {
   "cell_type": "code",
   "execution_count": 8,
   "metadata": {},
   "outputs": [
    {
     "name": "stdout",
     "output_type": "stream",
     "text": [
      "\n",
      "Valores ausentes en cada dataframe:\n",
      "name         0.0\n",
      "regions      0.0\n",
      "start_dt     0.0\n",
      "finish_dt    0.0\n",
      "dtype: float64\n",
      "user_id        0\n",
      "first_date     0\n",
      "region         0\n",
      "device         0\n",
      "valid_until    0\n",
      "dtype: int64\n",
      "user_id            0\n",
      "event_dt           0\n",
      "event_name         0\n",
      "details       363447\n",
      "dtype: int64\n",
      "user_id    0\n",
      "group      0\n",
      "ab_test    0\n",
      "dtype: int64\n"
     ]
    }
   ],
   "source": [
    "\n",
    "# 3.2 Comprobar valores ausentes y duplicados\n",
    "\n",
    "print(\"\\nValores ausentes en cada dataframe:\")\n",
    "print(marketing_events.isnull().sum())\n",
    "print(new_users.isnull().sum())\n",
    "print(events.isnull().sum())\n",
    "print(participants.isnull().sum())\n"
   ]
  },
  {
   "cell_type": "code",
   "execution_count": 9,
   "metadata": {},
   "outputs": [
    {
     "name": "stdout",
     "output_type": "stream",
     "text": [
      "<class 'pandas.core.frame.DataFrame'>\n",
      "RangeIndex: 58703 entries, 0 to 58702\n",
      "Data columns (total 5 columns):\n",
      " #   Column       Non-Null Count  Dtype         \n",
      "---  ------       --------------  -----         \n",
      " 0   user_id      58703 non-null  object        \n",
      " 1   first_date   58703 non-null  datetime64[ns]\n",
      " 2   region       58703 non-null  object        \n",
      " 3   device       58703 non-null  object        \n",
      " 4   valid_until  58703 non-null  datetime64[ns]\n",
      "dtypes: datetime64[ns](2), object(3)\n",
      "memory usage: 2.2+ MB\n",
      "\n",
      "<class 'pandas.core.frame.DataFrame'>\n",
      "Int64Index: 423761 entries, 0 to 423760\n",
      "Data columns (total 4 columns):\n",
      " #   Column      Non-Null Count   Dtype         \n",
      "---  ------      --------------   -----         \n",
      " 0   user_id     423761 non-null  object        \n",
      " 1   event_dt    423761 non-null  datetime64[ns]\n",
      " 2   event_name  423761 non-null  object        \n",
      " 3   details     60314 non-null   float64       \n",
      "dtypes: datetime64[ns](1), float64(1), object(2)\n",
      "memory usage: 16.2+ MB\n"
     ]
    }
   ],
   "source": [
    "# Verificar los cambios\n",
    "\n",
    "new_users.info()\n",
    "print()\n",
    "events.info()\n"
   ]
  },
  {
   "cell_type": "code",
   "execution_count": 10,
   "metadata": {},
   "outputs": [
    {
     "name": "stdout",
     "output_type": "stream",
     "text": [
      "\n",
      "Duplicados en cada dataframe:\n",
      "Marketing Events: 0\n",
      "New Users: 0\n",
      "Events: 0\n",
      "Participants: 0\n"
     ]
    }
   ],
   "source": [
    "\n",
    "# Verificar duplicados\n",
    "\n",
    "print(\"\\nDuplicados en cada dataframe:\")\n",
    "print(\"Marketing Events:\", marketing_events.duplicated().sum())\n",
    "print(\"New Users:\", new_users.duplicated().sum())\n",
    "print(\"Events:\", events.duplicated().sum())\n",
    "print(\"Participants:\", participants.duplicated().sum())\n"
   ]
  },
  {
   "cell_type": "code",
   "execution_count": null,
   "metadata": {},
   "outputs": [],
   "source": []
  },
  {
   "cell_type": "markdown",
   "metadata": {},
   "source": [
    "# 4. Análisis Exploratorio de Datos (EDA)"
   ]
  },
  {
   "cell_type": "markdown",
   "metadata": {},
   "source": [
    "### 4.1 Conversión en las diferentes etapas del embudo"
   ]
  },
  {
   "cell_type": "code",
   "execution_count": 11,
   "metadata": {},
   "outputs": [
    {
     "name": "stdout",
     "output_type": "stream",
     "text": [
      "\n",
      "Tasas de conversión en diferentes etapas del embudo:\n",
      "  group  total_users  product_page_conversion  product_cart_conversion  \\\n",
      "0     A         7874                    16669                     8023   \n",
      "1     B         6205                    12292                     6295   \n",
      "\n",
      "   purchase_conversion  conversion_rate_product_page  \\\n",
      "0                 8619                      2.116967   \n",
      "1                 6235                      1.980983   \n",
      "\n",
      "   conversion_rate_product_cart  conversion_rate_purchase  \n",
      "0                      1.018923                  1.094615  \n",
      "1                      1.014504                  1.004835  \n"
     ]
    }
   ],
   "source": [
    "# Unir datos para calcular la conversión\n",
    "merged = new_users.merge(participants, on='user_id').merge(events, on='user_id')\n",
    "\n",
    "# Añadir columnas para contar eventos necesarios\n",
    "merged['product_page'] = merged['event_name'] == 'product_page'\n",
    "merged['product_cart'] = merged['event_name'] == 'product_cart'\n",
    "merged['purchase'] = merged['event_name'] == 'purchase'\n",
    "\n",
    "conversion_stats = merged.groupby('group').agg(\n",
    "    total_users=('user_id', 'nunique'),\n",
    "    product_page_conversion=('product_page', 'sum'),\n",
    "    product_cart_conversion=('product_cart', 'sum'),\n",
    "    purchase_conversion=('purchase', 'sum')\n",
    ").reset_index()\n",
    "\n",
    "conversion_stats['conversion_rate_product_page'] = conversion_stats['product_page_conversion'] / conversion_stats['total_users']\n",
    "conversion_stats['conversion_rate_product_cart'] = conversion_stats['product_cart_conversion'] / conversion_stats['total_users']\n",
    "conversion_stats['conversion_rate_purchase'] = conversion_stats['purchase_conversion'] / conversion_stats['total_users']\n",
    "\n",
    "print(\"\\nTasas de conversión en diferentes etapas del embudo:\")\n",
    "print(conversion_stats)\n",
    "\n",
    "\n"
   ]
  },
  {
   "cell_type": "markdown",
   "metadata": {},
   "source": [
    "### Usuarios Únicos que Convirtieron (Para Prueba Z)"
   ]
  },
  {
   "cell_type": "code",
   "execution_count": 12,
   "metadata": {},
   "outputs": [
    {
     "name": "stdout",
     "output_type": "stream",
     "text": [
      "=== ANÁLISIS 1: USUARIOS ÚNICOS QUE CONVIRTIERON ===\n",
      "  group  total_users  users_with_product_page  users_with_product_cart  \\\n",
      "0     A         7874                     5208                     2483   \n",
      "1     B         6205                     3986                     2037   \n",
      "\n",
      "   users_with_purchase  conversion_rate_product_page  \\\n",
      "0                 2682                      0.661417   \n",
      "1                 2008                      0.642385   \n",
      "\n",
      "   conversion_rate_product_cart  conversion_rate_purchase  \n",
      "0                      0.315342                  0.340615  \n",
      "1                      0.328284                  0.323610  \n",
      "\n",
      "=== ANÁLISIS 2: EVENTOS PROMEDIO POR USUARIO ===\n",
      "  group  total_users  product_page_conversion  product_cart_conversion  \\\n",
      "0     A         7874                    16669                     8023   \n",
      "1     B         6205                    12292                     6295   \n",
      "\n",
      "   purchase_conversion  conversion_rate_product_page  \\\n",
      "0                 8619                      2.116967   \n",
      "1                 6235                      1.980983   \n",
      "\n",
      "   conversion_rate_product_cart  conversion_rate_purchase  \n",
      "0                      1.018923                  1.094615  \n",
      "1                      1.014504                  1.004835  \n"
     ]
    }
   ],
   "source": [
    "# Crear un DataFrame con usuarios únicos que convirtieron\n",
    "user_conversions = merged.groupby(['group', 'user_id']).agg(\n",
    "    has_product_page=('product_page', 'any'),\n",
    "    has_product_cart=('product_cart', 'any'),\n",
    "    has_purchase=('purchase', 'any')\n",
    ").reset_index()\n",
    "\n",
    "# Calcular estadísticas de conversión por usuarios únicos\n",
    "conversion_stats_unique = user_conversions.groupby('group').agg(\n",
    "    total_users=('user_id', 'count'),\n",
    "    users_with_product_page=('has_product_page', 'sum'),\n",
    "    users_with_product_cart=('has_product_cart', 'sum'),\n",
    "    users_with_purchase=('has_purchase', 'sum')\n",
    ").reset_index()\n",
    "\n",
    "# Calcular tasas de conversión de usuarios únicos\n",
    "conversion_stats_unique['conversion_rate_product_page'] = conversion_stats_unique['users_with_product_page'] / conversion_stats_unique['total_users']\n",
    "conversion_stats_unique['conversion_rate_product_cart'] = conversion_stats_unique['users_with_product_cart'] / conversion_stats_unique['total_users']\n",
    "conversion_stats_unique['conversion_rate_purchase'] = conversion_stats_unique['users_with_purchase'] / conversion_stats_unique['total_users']\n",
    "\n",
    "print(\"=== ANÁLISIS 1: USUARIOS ÚNICOS QUE CONVIRTIERON ===\")\n",
    "print(conversion_stats_unique)\n",
    "\n",
    "print(\"\\n=== ANÁLISIS 2: EVENTOS PROMEDIO POR USUARIO ===\")\n",
    "print(conversion_stats)\n"
   ]
  },
  {
   "cell_type": "markdown",
   "metadata": {},
   "source": [
    "### 4.2 Comprobar si el número de eventos por usuario está distribuido equitativamente"
   ]
  },
  {
   "cell_type": "code",
   "execution_count": 13,
   "metadata": {},
   "outputs": [
    {
     "data": {
      "image/png": "[encoded data removed]",
      "text/plain": [
       "<Figure size 640x480 with 1 Axes>"
      ]
     },
     "metadata": {},
     "output_type": "display_data"
    }
   ],
   "source": [
    "# Grafico de distribucion del numero de eventos por usuario\n",
    "\n",
    "events_per_user = merged.groupby('user_id')['event_name'].count().reset_index()\n",
    "sns.histplot(events_per_user['event_name'], bins=30, kde=True)\n",
    "plt.title('Distribución del Número de Eventos por Usuario')\n",
    "plt.xlabel('Número de Eventos')\n",
    "plt.ylabel('Frecuencia')\n",
    "plt.show()\n"
   ]
  },
  {
   "cell_type": "code",
   "execution_count": 14,
   "metadata": {},
   "outputs": [
    {
     "name": "stdout",
     "output_type": "stream",
     "text": [
      "\n",
      "Número de usuarios en ambos grupos: 441\n"
     ]
    }
   ],
   "source": [
    "\n",
    "# 4.3 Verificar si hay usuarios presentes en ambas muestras\n",
    "\n",
    "users_in_both = set(participants[participants['group'] == 'A']['user_id']).intersection(set(participants[participants['group'] == 'B']['user_id']))\n",
    "print(f\"\\nNúmero de usuarios en ambos grupos: {len(users_in_both)}\")\n"
   ]
  },
  {
   "cell_type": "markdown",
   "metadata": {},
   "source": [
    "### 4.4 Distribución del número de eventos entre los días"
   ]
  },
  {
   "cell_type": "code",
   "execution_count": 15,
   "metadata": {},
   "outputs": [
    {
     "data": {
      "image/png": "[encoded data removed]",
      "text/plain": [
       "<Figure size 640x480 with 1 Axes>"
      ]
     },
     "metadata": {},
     "output_type": "display_data"
    }
   ],
   "source": [
    "events['event_day'] = events['event_dt'].dt.date\n",
    "daily_events = events.groupby('event_day').size().reset_index(name='num_events')\n",
    "sns.lineplot(data=daily_events, x='event_day', y='num_events')\n",
    "plt.title('Número de Eventos por Día')\n",
    "plt.xticks(rotation=45)\n",
    "plt.ylabel('Número de Eventos')\n",
    "plt.grid()\n",
    "plt.show()"
   ]
  },
  {
   "cell_type": "markdown",
   "metadata": {},
   "source": [
    "# 5. Evaluar los resultados de la prueba A/B"
   ]
  },
  {
   "cell_type": "code",
   "execution_count": 16,
   "metadata": {},
   "outputs": [
    {
     "name": "stdout",
     "output_type": "stream",
     "text": [
      "\n",
      "Z-score: -2.1289, p-value: 0.0333\n",
      "\n",
      "Conclusiones:\n",
      "Existen diferencias significativas en las conversiones entre los grupos A y B.\n",
      "Un z-score negativo de -2.1289 indica que la conversión en el grupo A es mayor que en el grupo B.\n",
      "El p-value de 0.0333 sugiere que la diferencia observada es estadísticamente significativa.\n"
     ]
    }
   ],
   "source": [
    "# conversion_stats por conversion_stats_unique\n",
    "\n",
    "# Extraer el número total de usuarios para cada grupo\n",
    "total_a = conversion_stats_unique.loc[conversion_stats_unique['group'] == 'A', 'total_users'].values[0]\n",
    "total_b = conversion_stats_unique.loc[conversion_stats_unique['group'] == 'B', 'total_users'].values[0]\n",
    "\n",
    "# Extraer las tasas de conversión ya calculadas desde el DataFrame\n",
    "conversion_a = conversion_stats_unique.loc[conversion_stats_unique['group'] == 'A', 'conversion_rate_purchase'].values[0]\n",
    "conversion_b = conversion_stats_unique.loc[conversion_stats_unique['group'] == 'B', 'conversion_rate_purchase'].values[0]\n",
    "\n",
    "if total_a > 0 and total_b > 0 and (conversion_a > 0) and (conversion_b > 0):\n",
    "    success_a = conversion_a * total_a\n",
    "    success_b = conversion_b * total_b\n",
    "\n",
    "    variance_a = (conversion_a * (1 - conversion_a) / total_a)\n",
    "    variance_b = (conversion_b * (1 - conversion_b) / total_b)\n",
    "\n",
    "    z_score = (conversion_b - conversion_a) / np.sqrt(variance_a + variance_b)\n",
    "    p_value = stats.norm.sf(abs(z_score)) * 2  # dos colas\n",
    "\n",
    "    print(f\"\\nZ-score: {z_score:.4f}, p-value: {p_value:.4f}\")\n",
    "\n",
    "    # Conclusiones basadas en el p-value\n",
    "    print(\"\\nConclusiones:\")\n",
    "    if p_value < 0.05:\n",
    "        print(\"Existen diferencias significativas en las conversiones entre los grupos A y B.\")\n",
    "    else:\n",
    "        print(\"No existen diferencias significativas entre las conversiones de los grupos A y B.\")\n",
    "    \n",
    "    # Interpretación del z-score\n",
    "    if z_score > 0:\n",
    "        print(f\"Un z-score positivo de {z_score:.4f} indica que la conversión en el grupo B es mayor que en el grupo A.\")\n",
    "    else:\n",
    "        print(f\"Un z-score negativo de {z_score:.4f} indica que la conversión en el grupo A es mayor que en el grupo B.\")\n",
    "\n",
    "    print(f\"El p-value de {p_value:.4f} sugiere que la diferencia observada es {'estadísticamente significativa' if p_value < 0.05 else 'no significativa'}.\")\n",
    "else:\n",
    "    print(\"No se puede calcular la prueba Z: uno de los grupos no tiene usuarios o las conversiones son inválidas.\")\n"
   ]
  }
 ],
 "metadata": {
  "kernelspec": {
   "display_name": "Python 3 (ipykernel)",
   "language": "python",
   "name": "python3"
  },
  "language_info": {
   "codemirror_mode": {
    "name": "ipython",
    "version": 3
   },
   "file_extension": ".py",
   "mimetype": "text/x-python",
   "name": "python",
   "nbconvert_exporter": "python",
   "pygments_lexer": "ipython3",
   "version": "3.9.23"
  }
 },
 "nbformat": 4,
 "nbformat_minor": 4
}
