{
 "cells": [
  {
   "cell_type": "markdown",
   "id": "04a63110",
   "metadata": {},
   "source": [
    "### ¿Cuál es la mejor tarifa?\n",
    "\n",
    "Trabajas como analista para el operador de telecomunicaciones Megaline. La empresa ofrece a sus clientes dos tarifas de prepago, Surf y Ultimate. El departamento comercial quiere saber cuál de las tarifas genera más ingresos para poder ajustar el presupuesto de publicidad.\n",
    "\n",
    "Vas a realizar un análisis preliminar de las tarifas basado en una selección de clientes relativamente pequeña. Tendrás los datos de 500 clientes de Megaline: quiénes son los clientes, de dónde son, qué tarifa usan, así como la cantidad de llamadas que hicieron y los mensajes de texto que enviaron en 2018. Tu trabajo es analizar el comportamiento de los clientes y determinar qué tarifa de prepago genera más ingresos."
   ]
  },
  {
   "cell_type": "code",
   "execution_count": 8,
   "id": "b9473a45",
   "metadata": {},
   "outputs": [
    {
     "data": {
      "text/html": [
       "<div>\n",
       "<style scoped>\n",
       "    .dataframe tbody tr th:only-of-type {\n",
       "        vertical-align: middle;\n",
       "    }\n",
       "\n",
       "    .dataframe tbody tr th {\n",
       "        vertical-align: top;\n",
       "    }\n",
       "\n",
       "    .dataframe thead th {\n",
       "        text-align: right;\n",
       "    }\n",
       "</style>\n",
       "<table border=\"1\" class=\"dataframe\">\n",
       "  <thead>\n",
       "    <tr style=\"text-align: right;\">\n",
       "      <th></th>\n",
       "      <th>id</th>\n",
       "      <th>user_id</th>\n",
       "      <th>call_date</th>\n",
       "      <th>duration</th>\n",
       "    </tr>\n",
       "  </thead>\n",
       "  <tbody>\n",
       "    <tr>\n",
       "      <th>0</th>\n",
       "      <td>1000_93</td>\n",
       "      <td>1000</td>\n",
       "      <td>2018-12-27</td>\n",
       "      <td>8.52</td>\n",
       "    </tr>\n",
       "    <tr>\n",
       "      <th>1</th>\n",
       "      <td>1000_145</td>\n",
       "      <td>1000</td>\n",
       "      <td>2018-12-27</td>\n",
       "      <td>13.66</td>\n",
       "    </tr>\n",
       "    <tr>\n",
       "      <th>2</th>\n",
       "      <td>1000_247</td>\n",
       "      <td>1000</td>\n",
       "      <td>2018-12-27</td>\n",
       "      <td>14.48</td>\n",
       "    </tr>\n",
       "    <tr>\n",
       "      <th>3</th>\n",
       "      <td>1000_309</td>\n",
       "      <td>1000</td>\n",
       "      <td>2018-12-28</td>\n",
       "      <td>5.76</td>\n",
       "    </tr>\n",
       "    <tr>\n",
       "      <th>4</th>\n",
       "      <td>1000_380</td>\n",
       "      <td>1000</td>\n",
       "      <td>2018-12-30</td>\n",
       "      <td>4.22</td>\n",
       "    </tr>\n",
       "  </tbody>\n",
       "</table>\n",
       "</div>"
      ],
      "text/plain": [
       "         id  user_id   call_date  duration\n",
       "0   1000_93     1000  2018-12-27      8.52\n",
       "1  1000_145     1000  2018-12-27     13.66\n",
       "2  1000_247     1000  2018-12-27     14.48\n",
       "3  1000_309     1000  2018-12-28      5.76\n",
       "4  1000_380     1000  2018-12-30      4.22"
      ]
     },
     "execution_count": 8,
     "metadata": {},
     "output_type": "execute_result"
    }
   ],
   "source": [
    "# Cargar todas las librerías\n",
    "import pandas as pd \n",
    "import matplotlib.pyplot as plt\n",
    "import seaborn as sns\n",
    "from scipy import stats\n",
    "import numpy as np\n",
    "\n",
    "# Carga los archivos de datos en diferentes DataFrames\n",
    "\n",
    "calls = pd.read_csv('megaline_calls.csv')\n",
    "internet = pd.read_csv('megaline_internet.csv')\n",
    "messages = pd.read_csv('megaline_messages.csv')\n",
    "plans = pd.read_csv('megaline_plans.csv')\n",
    "users = pd.read_csv('megaline_users.csv')\n",
    "\n",
    "calls.head()\n",
    "\n"
   ]
  },
  {
   "cell_type": "code",
   "execution_count": 3,
   "id": "156e7444",
   "metadata": {},
   "outputs": [
    {
     "data": {
      "text/html": [
       "<div>\n",
       "<style scoped>\n",
       "    .dataframe tbody tr th:only-of-type {\n",
       "        vertical-align: middle;\n",
       "    }\n",
       "\n",
       "    .dataframe tbody tr th {\n",
       "        vertical-align: top;\n",
       "    }\n",
       "\n",
       "    .dataframe thead th {\n",
       "        text-align: right;\n",
       "    }\n",
       "</style>\n",
       "<table border=\"1\" class=\"dataframe\">\n",
       "  <thead>\n",
       "    <tr style=\"text-align: right;\">\n",
       "      <th></th>\n",
       "      <th>id</th>\n",
       "      <th>user_id</th>\n",
       "      <th>session_date</th>\n",
       "      <th>mb_used</th>\n",
       "    </tr>\n",
       "  </thead>\n",
       "  <tbody>\n",
       "    <tr>\n",
       "      <th>0</th>\n",
       "      <td>1000_13</td>\n",
       "      <td>1000</td>\n",
       "      <td>2018-12-29</td>\n",
       "      <td>89.86</td>\n",
       "    </tr>\n",
       "    <tr>\n",
       "      <th>1</th>\n",
       "      <td>1000_204</td>\n",
       "      <td>1000</td>\n",
       "      <td>2018-12-31</td>\n",
       "      <td>0.00</td>\n",
       "    </tr>\n",
       "    <tr>\n",
       "      <th>2</th>\n",
       "      <td>1000_379</td>\n",
       "      <td>1000</td>\n",
       "      <td>2018-12-28</td>\n",
       "      <td>660.40</td>\n",
       "    </tr>\n",
       "    <tr>\n",
       "      <th>3</th>\n",
       "      <td>1000_413</td>\n",
       "      <td>1000</td>\n",
       "      <td>2018-12-26</td>\n",
       "      <td>270.99</td>\n",
       "    </tr>\n",
       "    <tr>\n",
       "      <th>4</th>\n",
       "      <td>1000_442</td>\n",
       "      <td>1000</td>\n",
       "      <td>2018-12-27</td>\n",
       "      <td>880.22</td>\n",
       "    </tr>\n",
       "  </tbody>\n",
       "</table>\n",
       "</div>"
      ],
      "text/plain": [
       "         id  user_id session_date  mb_used\n",
       "0   1000_13     1000   2018-12-29    89.86\n",
       "1  1000_204     1000   2018-12-31     0.00\n",
       "2  1000_379     1000   2018-12-28   660.40\n",
       "3  1000_413     1000   2018-12-26   270.99\n",
       "4  1000_442     1000   2018-12-27   880.22"
      ]
     },
     "execution_count": 3,
     "metadata": {},
     "output_type": "execute_result"
    }
   ],
   "source": [
    "\n",
    "internet.head()"
   ]
  },
  {
   "cell_type": "code",
   "execution_count": 4,
   "id": "52107edf",
   "metadata": {},
   "outputs": [
    {
     "data": {
      "text/html": [
       "<div>\n",
       "<style scoped>\n",
       "    .dataframe tbody tr th:only-of-type {\n",
       "        vertical-align: middle;\n",
       "    }\n",
       "\n",
       "    .dataframe tbody tr th {\n",
       "        vertical-align: top;\n",
       "    }\n",
       "\n",
       "    .dataframe thead th {\n",
       "        text-align: right;\n",
       "    }\n",
       "</style>\n",
       "<table border=\"1\" class=\"dataframe\">\n",
       "  <thead>\n",
       "    <tr style=\"text-align: right;\">\n",
       "      <th></th>\n",
       "      <th>id</th>\n",
       "      <th>user_id</th>\n",
       "      <th>message_date</th>\n",
       "    </tr>\n",
       "  </thead>\n",
       "  <tbody>\n",
       "    <tr>\n",
       "      <th>0</th>\n",
       "      <td>1000_125</td>\n",
       "      <td>1000</td>\n",
       "      <td>2018-12-27</td>\n",
       "    </tr>\n",
       "    <tr>\n",
       "      <th>1</th>\n",
       "      <td>1000_160</td>\n",
       "      <td>1000</td>\n",
       "      <td>2018-12-31</td>\n",
       "    </tr>\n",
       "    <tr>\n",
       "      <th>2</th>\n",
       "      <td>1000_223</td>\n",
       "      <td>1000</td>\n",
       "      <td>2018-12-31</td>\n",
       "    </tr>\n",
       "    <tr>\n",
       "      <th>3</th>\n",
       "      <td>1000_251</td>\n",
       "      <td>1000</td>\n",
       "      <td>2018-12-27</td>\n",
       "    </tr>\n",
       "    <tr>\n",
       "      <th>4</th>\n",
       "      <td>1000_255</td>\n",
       "      <td>1000</td>\n",
       "      <td>2018-12-26</td>\n",
       "    </tr>\n",
       "  </tbody>\n",
       "</table>\n",
       "</div>"
      ],
      "text/plain": [
       "         id  user_id message_date\n",
       "0  1000_125     1000   2018-12-27\n",
       "1  1000_160     1000   2018-12-31\n",
       "2  1000_223     1000   2018-12-31\n",
       "3  1000_251     1000   2018-12-27\n",
       "4  1000_255     1000   2018-12-26"
      ]
     },
     "execution_count": 4,
     "metadata": {},
     "output_type": "execute_result"
    }
   ],
   "source": [
    "messages.head()"
   ]
  },
  {
   "cell_type": "code",
   "execution_count": 5,
   "id": "50ed2c28",
   "metadata": {},
   "outputs": [
    {
     "data": {
      "text/html": [
       "<div>\n",
       "<style scoped>\n",
       "    .dataframe tbody tr th:only-of-type {\n",
       "        vertical-align: middle;\n",
       "    }\n",
       "\n",
       "    .dataframe tbody tr th {\n",
       "        vertical-align: top;\n",
       "    }\n",
       "\n",
       "    .dataframe thead th {\n",
       "        text-align: right;\n",
       "    }\n",
       "</style>\n",
       "<table border=\"1\" class=\"dataframe\">\n",
       "  <thead>\n",
       "    <tr style=\"text-align: right;\">\n",
       "      <th></th>\n",
       "      <th>messages_included</th>\n",
       "      <th>mb_per_month_included</th>\n",
       "      <th>minutes_included</th>\n",
       "      <th>usd_monthly_pay</th>\n",
       "      <th>usd_per_gb</th>\n",
       "      <th>usd_per_message</th>\n",
       "      <th>usd_per_minute</th>\n",
       "      <th>plan_name</th>\n",
       "    </tr>\n",
       "  </thead>\n",
       "  <tbody>\n",
       "    <tr>\n",
       "      <th>0</th>\n",
       "      <td>50</td>\n",
       "      <td>15360</td>\n",
       "      <td>500</td>\n",
       "      <td>20</td>\n",
       "      <td>10</td>\n",
       "      <td>0.03</td>\n",
       "      <td>0.03</td>\n",
       "      <td>surf</td>\n",
       "    </tr>\n",
       "    <tr>\n",
       "      <th>1</th>\n",
       "      <td>1000</td>\n",
       "      <td>30720</td>\n",
       "      <td>3000</td>\n",
       "      <td>70</td>\n",
       "      <td>7</td>\n",
       "      <td>0.01</td>\n",
       "      <td>0.01</td>\n",
       "      <td>ultimate</td>\n",
       "    </tr>\n",
       "  </tbody>\n",
       "</table>\n",
       "</div>"
      ],
      "text/plain": [
       "   messages_included  mb_per_month_included  minutes_included  \\\n",
       "0                 50                  15360               500   \n",
       "1               1000                  30720              3000   \n",
       "\n",
       "   usd_monthly_pay  usd_per_gb  usd_per_message  usd_per_minute plan_name  \n",
       "0               20          10             0.03            0.03      surf  \n",
       "1               70           7             0.01            0.01  ultimate  "
      ]
     },
     "execution_count": 5,
     "metadata": {},
     "output_type": "execute_result"
    }
   ],
   "source": [
    "plans.head()"
   ]
  },
  {
   "cell_type": "code",
   "execution_count": 6,
   "id": "4b1e3461",
   "metadata": {},
   "outputs": [
    {
     "data": {
      "text/html": [
       "<div>\n",
       "<style scoped>\n",
       "    .dataframe tbody tr th:only-of-type {\n",
       "        vertical-align: middle;\n",
       "    }\n",
       "\n",
       "    .dataframe tbody tr th {\n",
       "        vertical-align: top;\n",
       "    }\n",
       "\n",
       "    .dataframe thead th {\n",
       "        text-align: right;\n",
       "    }\n",
       "</style>\n",
       "<table border=\"1\" class=\"dataframe\">\n",
       "  <thead>\n",
       "    <tr style=\"text-align: right;\">\n",
       "      <th></th>\n",
       "      <th>user_id</th>\n",
       "      <th>first_name</th>\n",
       "      <th>last_name</th>\n",
       "      <th>age</th>\n",
       "      <th>city</th>\n",
       "      <th>reg_date</th>\n",
       "      <th>plan</th>\n",
       "      <th>churn_date</th>\n",
       "    </tr>\n",
       "  </thead>\n",
       "  <tbody>\n",
       "    <tr>\n",
       "      <th>0</th>\n",
       "      <td>1000</td>\n",
       "      <td>Anamaria</td>\n",
       "      <td>Bauer</td>\n",
       "      <td>45</td>\n",
       "      <td>Atlanta-Sandy Springs-Roswell, GA MSA</td>\n",
       "      <td>2018-12-24</td>\n",
       "      <td>ultimate</td>\n",
       "      <td>NaN</td>\n",
       "    </tr>\n",
       "    <tr>\n",
       "      <th>1</th>\n",
       "      <td>1001</td>\n",
       "      <td>Mickey</td>\n",
       "      <td>Wilkerson</td>\n",
       "      <td>28</td>\n",
       "      <td>Seattle-Tacoma-Bellevue, WA MSA</td>\n",
       "      <td>2018-08-13</td>\n",
       "      <td>surf</td>\n",
       "      <td>NaN</td>\n",
       "    </tr>\n",
       "    <tr>\n",
       "      <th>2</th>\n",
       "      <td>1002</td>\n",
       "      <td>Carlee</td>\n",
       "      <td>Hoffman</td>\n",
       "      <td>36</td>\n",
       "      <td>Las Vegas-Henderson-Paradise, NV MSA</td>\n",
       "      <td>2018-10-21</td>\n",
       "      <td>surf</td>\n",
       "      <td>NaN</td>\n",
       "    </tr>\n",
       "    <tr>\n",
       "      <th>3</th>\n",
       "      <td>1003</td>\n",
       "      <td>Reynaldo</td>\n",
       "      <td>Jenkins</td>\n",
       "      <td>52</td>\n",
       "      <td>Tulsa, OK MSA</td>\n",
       "      <td>2018-01-28</td>\n",
       "      <td>surf</td>\n",
       "      <td>NaN</td>\n",
       "    </tr>\n",
       "    <tr>\n",
       "      <th>4</th>\n",
       "      <td>1004</td>\n",
       "      <td>Leonila</td>\n",
       "      <td>Thompson</td>\n",
       "      <td>40</td>\n",
       "      <td>Seattle-Tacoma-Bellevue, WA MSA</td>\n",
       "      <td>2018-05-23</td>\n",
       "      <td>surf</td>\n",
       "      <td>NaN</td>\n",
       "    </tr>\n",
       "  </tbody>\n",
       "</table>\n",
       "</div>"
      ],
      "text/plain": [
       "   user_id first_name  last_name  age                                   city  \\\n",
       "0     1000   Anamaria      Bauer   45  Atlanta-Sandy Springs-Roswell, GA MSA   \n",
       "1     1001     Mickey  Wilkerson   28        Seattle-Tacoma-Bellevue, WA MSA   \n",
       "2     1002     Carlee    Hoffman   36   Las Vegas-Henderson-Paradise, NV MSA   \n",
       "3     1003   Reynaldo    Jenkins   52                          Tulsa, OK MSA   \n",
       "4     1004    Leonila   Thompson   40        Seattle-Tacoma-Bellevue, WA MSA   \n",
       "\n",
       "     reg_date      plan churn_date  \n",
       "0  2018-12-24  ultimate        NaN  \n",
       "1  2018-08-13      surf        NaN  \n",
       "2  2018-10-21      surf        NaN  \n",
       "3  2018-01-28      surf        NaN  \n",
       "4  2018-05-23      surf        NaN  "
      ]
     },
     "execution_count": 6,
     "metadata": {},
     "output_type": "execute_result"
    }
   ],
   "source": [
    "users.head()"
   ]
  },
  {
   "cell_type": "markdown",
   "id": "56ddd92a",
   "metadata": {},
   "source": [
    "### DataFrame Plans"
   ]
  },
  {
   "cell_type": "code",
   "execution_count": 9,
   "id": "bc59813a",
   "metadata": {},
   "outputs": [
    {
     "name": "stdout",
     "output_type": "stream",
     "text": [
      "<class 'pandas.core.frame.DataFrame'>\n",
      "RangeIndex: 2 entries, 0 to 1\n",
      "Data columns (total 8 columns):\n",
      " #   Column                 Non-Null Count  Dtype  \n",
      "---  ------                 --------------  -----  \n",
      " 0   messages_included      2 non-null      int64  \n",
      " 1   mb_per_month_included  2 non-null      int64  \n",
      " 2   minutes_included       2 non-null      int64  \n",
      " 3   usd_monthly_pay        2 non-null      int64  \n",
      " 4   usd_per_gb             2 non-null      int64  \n",
      " 5   usd_per_message        2 non-null      float64\n",
      " 6   usd_per_minute         2 non-null      float64\n",
      " 7   plan_name              2 non-null      object \n",
      "dtypes: float64(2), int64(5), object(1)\n",
      "memory usage: 260.0+ bytes\n"
     ]
    }
   ],
   "source": [
    "# Imprime la información general/resumida sobre el DataFrame de las tarifas\n",
    "\n",
    "plans.info()\n"
   ]
  },
  {
   "cell_type": "markdown",
   "id": "2ccbd948",
   "metadata": {},
   "source": [
    "### El DataFrame 'plans' tiene 2 entradas (filas) y 8 columnas.\n",
    "\n",
    "### Todas las columnas tienen valores no nulos, lo que indica que no hay datos ausentes en este conjunto.\n",
    "\n",
    "### Tipos de Datos: No hay problemas evidentes con los tipos de datos, ya que todos parecen ser adecuados para su propósito.\n",
    "\n",
    "### Datos Ausentes: No hay datos ausentes, lo cual es positivo.\n",
    "\n",
    "### Conversión de Unidades: Aunque los datos de mb_per_month_included están en megabytes, es importante recordar que en la facturación se redondean a gigabytes. Esto debe tenerse en cuenta al calcular los ingresos."
   ]
  },
  {
   "cell_type": "markdown",
   "id": "11a66032",
   "metadata": {},
   "source": [
    "### Enriquecer los datos"
   ]
  },
  {
   "cell_type": "code",
   "execution_count": 10,
   "id": "df3ede58",
   "metadata": {},
   "outputs": [],
   "source": [
    "# Conversion de gbs a mgbs para hacer calculos correctos\n",
    "plans['gb_per_month_included'] = plans['mb_per_month_included'] / 1024"
   ]
  },
  {
   "cell_type": "markdown",
   "id": "2a78eb67",
   "metadata": {},
   "source": [
    "### DataFrame Users"
   ]
  },
  {
   "cell_type": "code",
   "execution_count": 11,
   "id": "8e1dfa8b",
   "metadata": {},
   "outputs": [
    {
     "name": "stdout",
     "output_type": "stream",
     "text": [
      "<class 'pandas.core.frame.DataFrame'>\n",
      "RangeIndex: 500 entries, 0 to 499\n",
      "Data columns (total 8 columns):\n",
      " #   Column      Non-Null Count  Dtype \n",
      "---  ------      --------------  ----- \n",
      " 0   user_id     500 non-null    int64 \n",
      " 1   first_name  500 non-null    object\n",
      " 2   last_name   500 non-null    object\n",
      " 3   age         500 non-null    int64 \n",
      " 4   city        500 non-null    object\n",
      " 5   reg_date    500 non-null    object\n",
      " 6   plan        500 non-null    object\n",
      " 7   churn_date  34 non-null     object\n",
      "dtypes: int64(2), object(6)\n",
      "memory usage: 31.4+ KB\n"
     ]
    }
   ],
   "source": [
    "# Imprime la información general/resumida sobre el DataFrame de usuarios\n",
    "\n",
    "users.info()"
   ]
  },
  {
   "cell_type": "markdown",
   "id": "4d4ac399",
   "metadata": {},
   "source": [
    "### 1.Estructura del DataFrame:\n",
    "### El DataFrame tiene 500 entradas (filas) y 8 columnas.\n",
    "### La mayoría de las columnas tienen valores no nulos, excepto churn_date, que solo tiene 34 valores no nulos.\n",
    "\n",
    "### 2.Tipos de Datos:\n",
    "### user_id, age: Son de tipo int64, lo cual es adecuado.\n",
    "### first_name, last_name, city, plan: Son de tipo object, lo cual es correcto ya que contienen texto.\n",
    "### reg_date y churn_date: Son de tipo object, pero deberían ser de tipo datetime para facilitar el análisis de fechas."
   ]
  },
  {
   "cell_type": "markdown",
   "id": "71b7b2ca",
   "metadata": {},
   "source": [
    "### Corregir los datos\n",
    "\n",
    "### 1.Estructura del DataFrame:\n",
    "### El DataFrame tiene 500 entradas (filas) y 8 columnas.\n",
    "### La mayoría de las columnas tienen valores no nulos, excepto churn_date, que solo tiene 34 valores no nulos.\n",
    "\n",
    "### 2.Tipos de Datos:\n",
    "#### user_id, age: Son de tipo int64, lo cual es adecuado.\n",
    "### first_name, last_name, city, plan: Son de tipo object, lo cual es correcto ya que contienen texto.\n",
    "### reg_date y churn_date: Son de tipo object, pero deberían ser de tipo datetime para facilitar el análisis de fechas.\n",
    "\n",
    "### Problemas Potenciales:\n",
    "\n",
    "### Datos Ausentes:\n",
    "### La columna churn_date tiene 466 valores ausentes. Esto puede ser un problema si se necesita analizar la tasa de abandono o el tiempo que los usuarios han estado activos. Sin embargo, esto es común en bases de datos de usuarios activos, ya que muchos usuarios pueden no haber cancelado su suscripción.\n",
    "\n",
    "### Tipos de Datos:\n",
    "### Las columnas reg_date y churn_date deberían ser convertidas a tipo datetime para facilitar el análisis de fechas. Esto permitirá realizar operaciones como calcular la duración de la suscripción o analizar patrones de abandono."
   ]
  },
  {
   "cell_type": "code",
   "execution_count": 12,
   "id": "95265564",
   "metadata": {},
   "outputs": [
    {
     "name": "stdout",
     "output_type": "stream",
     "text": [
      "<class 'pandas.core.frame.DataFrame'>\n",
      "RangeIndex: 500 entries, 0 to 499\n",
      "Data columns (total 9 columns):\n",
      " #   Column      Non-Null Count  Dtype         \n",
      "---  ------      --------------  -----         \n",
      " 0   user_id     500 non-null    int64         \n",
      " 1   first_name  500 non-null    object        \n",
      " 2   last_name   500 non-null    object        \n",
      " 3   age         500 non-null    int64         \n",
      " 4   city        500 non-null    object        \n",
      " 5   reg_date    500 non-null    datetime64[ns]\n",
      " 6   plan        500 non-null    object        \n",
      " 7   churn_date  34 non-null     datetime64[ns]\n",
      " 8   is_active   500 non-null    bool          \n",
      "dtypes: bool(1), datetime64[ns](2), int64(2), object(4)\n",
      "memory usage: 31.9+ KB\n",
      "None\n",
      "   user_id first_name  last_name  age                                   city  \\\n",
      "0     1000   Anamaria      Bauer   45  Atlanta-Sandy Springs-Roswell, GA MSA   \n",
      "1     1001     Mickey  Wilkerson   28        Seattle-Tacoma-Bellevue, WA MSA   \n",
      "2     1002     Carlee    Hoffman   36   Las Vegas-Henderson-Paradise, NV MSA   \n",
      "3     1003   Reynaldo    Jenkins   52                          Tulsa, OK MSA   \n",
      "4     1004    Leonila   Thompson   40        Seattle-Tacoma-Bellevue, WA MSA   \n",
      "\n",
      "    reg_date      plan churn_date  is_active  \n",
      "0 2018-12-24  ultimate        NaT       True  \n",
      "1 2018-08-13      surf        NaT       True  \n",
      "2 2018-10-21      surf        NaT       True  \n",
      "3 2018-01-28      surf        NaT       True  \n",
      "4 2018-05-23      surf        NaT       True  \n"
     ]
    }
   ],
   "source": [
    "#Codigo con correccion de errores\n",
    "\n",
    "# 1. Convertir las columnas de fecha a tipo datetime\n",
    "users['reg_date'] = pd.to_datetime(users['reg_date'])\n",
    "users['churn_date'] = pd.to_datetime(users['churn_date'], errors='coerce')  # 'coerce' convierte errores a NaT\n",
    "\n",
    "# 2. Crear una nueva columna 'is_active' que indique si el usuario está activo\n",
    "users['is_active'] = users['churn_date'].isna()\n",
    "\n",
    "# Mostrar la información del DataFrame después de las correcciones\n",
    "print(users.info())\n",
    "print(users.head())"
   ]
  },
  {
   "cell_type": "markdown",
   "id": "e9666cb0",
   "metadata": {},
   "source": [
    "### DataFrame Calls"
   ]
  },
  {
   "cell_type": "code",
   "execution_count": 13,
   "id": "4097b4fe",
   "metadata": {},
   "outputs": [
    {
     "name": "stdout",
     "output_type": "stream",
     "text": [
      "<class 'pandas.core.frame.DataFrame'>\n",
      "RangeIndex: 137735 entries, 0 to 137734\n",
      "Data columns (total 4 columns):\n",
      " #   Column     Non-Null Count   Dtype  \n",
      "---  ------     --------------   -----  \n",
      " 0   id         137735 non-null  object \n",
      " 1   user_id    137735 non-null  int64  \n",
      " 2   call_date  137735 non-null  object \n",
      " 3   duration   137735 non-null  float64\n",
      "dtypes: float64(1), int64(1), object(2)\n",
      "memory usage: 4.2+ MB\n"
     ]
    }
   ],
   "source": [
    "# Imprime la información general/resumida sobre el DataFrame de las llamadas\n",
    "\n",
    "calls.info()"
   ]
  },
  {
   "cell_type": "markdown",
   "id": "f353a1ef",
   "metadata": {},
   "source": [
    "### El DataFrame \"calls\" tiene 137,735 entradas (filas) y 4 columnas.\n",
    "### Todas las columnas tienen valores no nulos, lo que indica que no hay datos ausentes.\n",
    "\n",
    "### Tipos de Datos:\n",
    "\n",
    "### id: Tipo object, lo cual es adecuado ya que es un identificador único.\n",
    "### user_id: Tipo int64, lo cual es correcto, ya que representa un identificador numérico.\n",
    "### call_date: Tipo object, pero debería ser de tipo datetime para facilitar el análisis de fechas.\n",
    "### duration: Tipo float64, lo cual es adecuado, ya que representa la duración de la llamada en minutos.\n",
    "\n",
    "### Observaciones de la Muestra de Datos\n",
    "\n",
    "### La muestra de datos muestra que cada llamada tiene un id,\n",
    "### user_id, call_date y duration completos.\n",
    "### Las fechas están en formato de texto (object), lo que puede dificultar el análisis temporal.\n",
    "\n",
    "### Recomendaciones para Solucionar Problemas\n",
    "### Conversión de call_date a tipo datetime:\n",
    "### Convierte la columna call_date a tipo datetime utilizando \"pd.to_datetime()\". \n",
    "### Esto permitirá realizar operaciones de fecha más fácilmente.\n",
    "\n",
    "\n",
    "### Corregir los datos"
   ]
  },
  {
   "cell_type": "code",
   "execution_count": 14,
   "id": "ed16a763",
   "metadata": {},
   "outputs": [
    {
     "name": "stdout",
     "output_type": "stream",
     "text": [
      "<class 'pandas.core.frame.DataFrame'>\n",
      "RangeIndex: 137735 entries, 0 to 137734\n",
      "Data columns (total 4 columns):\n",
      " #   Column     Non-Null Count   Dtype         \n",
      "---  ------     --------------   -----         \n",
      " 0   id         137735 non-null  object        \n",
      " 1   user_id    137735 non-null  int64         \n",
      " 2   call_date  137735 non-null  datetime64[ns]\n",
      " 3   duration   137735 non-null  float64       \n",
      "dtypes: datetime64[ns](1), float64(1), int64(1), object(1)\n",
      "memory usage: 4.2+ MB\n"
     ]
    },
    {
     "data": {
      "text/html": [
       "<div>\n",
       "<style scoped>\n",
       "    .dataframe tbody tr th:only-of-type {\n",
       "        vertical-align: middle;\n",
       "    }\n",
       "\n",
       "    .dataframe tbody tr th {\n",
       "        vertical-align: top;\n",
       "    }\n",
       "\n",
       "    .dataframe thead th {\n",
       "        text-align: right;\n",
       "    }\n",
       "</style>\n",
       "<table border=\"1\" class=\"dataframe\">\n",
       "  <thead>\n",
       "    <tr style=\"text-align: right;\">\n",
       "      <th></th>\n",
       "      <th>id</th>\n",
       "      <th>user_id</th>\n",
       "      <th>call_date</th>\n",
       "      <th>duration</th>\n",
       "    </tr>\n",
       "  </thead>\n",
       "  <tbody>\n",
       "    <tr>\n",
       "      <th>0</th>\n",
       "      <td>1000_93</td>\n",
       "      <td>1000</td>\n",
       "      <td>2018-12-27</td>\n",
       "      <td>8.52</td>\n",
       "    </tr>\n",
       "    <tr>\n",
       "      <th>1</th>\n",
       "      <td>1000_145</td>\n",
       "      <td>1000</td>\n",
       "      <td>2018-12-27</td>\n",
       "      <td>13.66</td>\n",
       "    </tr>\n",
       "    <tr>\n",
       "      <th>2</th>\n",
       "      <td>1000_247</td>\n",
       "      <td>1000</td>\n",
       "      <td>2018-12-27</td>\n",
       "      <td>14.48</td>\n",
       "    </tr>\n",
       "    <tr>\n",
       "      <th>3</th>\n",
       "      <td>1000_309</td>\n",
       "      <td>1000</td>\n",
       "      <td>2018-12-28</td>\n",
       "      <td>5.76</td>\n",
       "    </tr>\n",
       "    <tr>\n",
       "      <th>4</th>\n",
       "      <td>1000_380</td>\n",
       "      <td>1000</td>\n",
       "      <td>2018-12-30</td>\n",
       "      <td>4.22</td>\n",
       "    </tr>\n",
       "  </tbody>\n",
       "</table>\n",
       "</div>"
      ],
      "text/plain": [
       "         id  user_id  call_date  duration\n",
       "0   1000_93     1000 2018-12-27      8.52\n",
       "1  1000_145     1000 2018-12-27     13.66\n",
       "2  1000_247     1000 2018-12-27     14.48\n",
       "3  1000_309     1000 2018-12-28      5.76\n",
       "4  1000_380     1000 2018-12-30      4.22"
      ]
     },
     "execution_count": 14,
     "metadata": {},
     "output_type": "execute_result"
    }
   ],
   "source": [
    "# Convertir la columna 'call_date' a tipo datetime\n",
    "calls['call_date'] = pd.to_datetime(calls['call_date'])\n",
    "\n",
    "# Verificar la información del DataFrame después de la conversión\n",
    "calls.info()\n",
    "calls.head()"
   ]
  },
  {
   "cell_type": "markdown",
   "id": "800cf043",
   "metadata": {},
   "source": [
    "### DataFrame Messages"
   ]
  },
  {
   "cell_type": "code",
   "execution_count": 15,
   "id": "f62c3524",
   "metadata": {},
   "outputs": [
    {
     "name": "stdout",
     "output_type": "stream",
     "text": [
      "<class 'pandas.core.frame.DataFrame'>\n",
      "RangeIndex: 76051 entries, 0 to 76050\n",
      "Data columns (total 3 columns):\n",
      " #   Column        Non-Null Count  Dtype \n",
      "---  ------        --------------  ----- \n",
      " 0   id            76051 non-null  object\n",
      " 1   user_id       76051 non-null  int64 \n",
      " 2   message_date  76051 non-null  object\n",
      "dtypes: int64(1), object(2)\n",
      "memory usage: 1.7+ MB\n"
     ]
    }
   ],
   "source": [
    "# Imprime la información general/resumida sobre el DataFrame de los mensajes\n",
    "\n",
    "messages.info()"
   ]
  },
  {
   "cell_type": "markdown",
   "id": "e5f24c24",
   "metadata": {},
   "source": [
    "### Información General\n",
    "### Número de Entradas: Hay un total de 76,051 entradas en el DataFrame, lo que indica que se trata de un conjunto de datos bastante grande.\n",
    "\n",
    "### Columnas: Hay tres columnas:\n",
    "\n",
    "### id: Tipo de dato object, lo que sugiere que puede contener caracteres alfanuméricos.\n",
    "### user_id: Tipo de dato int64, que es adecuado para identificadores numéricos.\n",
    "### message_date: Tipo de dato object, lo que indica que las fechas están almacenadas como cadenas de texto.\n",
    "### Datos No Nulos: Todas las columnas tienen 76,051 valores no nulos, lo que significa que no hay datos ausentes en este conjunto."
   ]
  },
  {
   "cell_type": "markdown",
   "id": "d4fe45a0",
   "metadata": {},
   "source": [
    "### Corregir los datos"
   ]
  },
  {
   "cell_type": "code",
   "execution_count": 16,
   "id": "b8144418",
   "metadata": {},
   "outputs": [
    {
     "name": "stdout",
     "output_type": "stream",
     "text": [
      "Número de entradas duplicadas: 0\n",
      "id              0\n",
      "user_id         0\n",
      "message_date    0\n",
      "dtype: int64\n",
      "id                      object\n",
      "user_id                  int64\n",
      "message_date    datetime64[ns]\n",
      "dtype: object\n"
     ]
    }
   ],
   "source": [
    "#1.Conversión de la columna message_date a tipo datetime: Es importante convertir la columna\n",
    "#message_date de tipo object a datetime para facilitar el análisis con el siguiente código:\n",
    "\n",
    "messages['message_date'] = pd.to_datetime(messages['message_date'])\n",
    "\n",
    "#2.Verificación de duplicados: Es recomendable verificar si hay entradas duplicadas en el DataFrame con el siguiente código:\n",
    "\n",
    "duplicates = messages.duplicated().sum()\n",
    "print(f\"Número de entradas duplicadas: {duplicates}\")\n",
    "\n",
    "#Si existen datos duplicados los eliminamos con la siguiente linea:\n",
    "\n",
    "messages = messages.drop_duplicates()\n",
    "\n",
    "#3.Revisión de valores nulos: En la informacion resumida del DataFrame no habia valores nulos pero es buena práctica verificarlo nuevamente \n",
    "#después de realizar cualquier operación. Usando la siguiente linea:\n",
    "\n",
    "print(messages.isnull().sum())\n",
    "\n",
    "#4.Verificación de tipos de datos: Asegurar que los tipos de datos sean los correctos con la siguiente linea:\n",
    "\n",
    "print(messages.dtypes)\n",
    "\n",
    "#Si existe algún tipo de dato que no sea el esperado lo corregimos. Por ejemplo, si\n",
    "\n",
    "#user_id debería ser tipo int y aseguramos con la siguiente linea:\n",
    "\n",
    "messages['user_id'] = messages['user_id'].astype(int)\n",
    "\n",
    "#5.Normalización de datos: Si hay columnas que contienen texto, asegúrate de que estén normalizadas (por ejemplo, todo en minúsculas, sin espacios adicionales, etc.).\n",
    "\n",
    "messages['id'] = messages['id'].str.strip().str.lower()\n",
    "\n",
    "#6.Normalización de datos: Para la columna \"id\" debemos asegurarnos de que los datos estén normalizados (por ejemplo, todo en minúsculas, sin espacios adicionales).\n",
    "\n",
    "messages['id'] = messages['id'].str.strip().str.lower()"
   ]
  },
  {
   "cell_type": "markdown",
   "id": "0299f54c",
   "metadata": {},
   "source": [
    "### DataFrame Internet"
   ]
  },
  {
   "cell_type": "code",
   "execution_count": 17,
   "id": "08f89961",
   "metadata": {},
   "outputs": [
    {
     "name": "stdout",
     "output_type": "stream",
     "text": [
      "<class 'pandas.core.frame.DataFrame'>\n",
      "RangeIndex: 104825 entries, 0 to 104824\n",
      "Data columns (total 4 columns):\n",
      " #   Column        Non-Null Count   Dtype  \n",
      "---  ------        --------------   -----  \n",
      " 0   id            104825 non-null  object \n",
      " 1   user_id       104825 non-null  int64  \n",
      " 2   session_date  104825 non-null  object \n",
      " 3   mb_used       104825 non-null  float64\n",
      "dtypes: float64(1), int64(1), object(2)\n",
      "memory usage: 3.2+ MB\n"
     ]
    }
   ],
   "source": [
    "# Imprime la información general/resumida sobre el DataFrame de internet\n",
    "\n",
    "internet.info()"
   ]
  },
  {
   "cell_type": "markdown",
   "id": "217ea661",
   "metadata": {},
   "source": [
    "### Número de Entradas: Hay un total de 104,825 entradas en el DataFrame, lo que indica que se tiene una cantidad considerable de datos.\n",
    "\n",
    "### Columnas: Hay 4 columnas en total:\n",
    "\n",
    "### id: Tipo de dato object, lo que sugiere que es una cadena de texto. No parece haber problemas aquí, ya que es un identificador.\n",
    "\n",
    "### user_id: Tipo de dato int64, que es adecuado para un identificador numérico de usuario.\n",
    "\n",
    "### session_date: Tipo de dato object, lo que indica que las fechas están almacenadas como cadenas. Esto podría ser un problema si se desea realizar análisis basados en fechas, ya que sería mejor tener este campo como tipo datetime.\n",
    "\n",
    "### mb_used: Tipo de dato float64, que es apropiado para representar el uso de datos en megabytes.\n",
    "\n",
    "### Datos No Nulos: Todas las columnas tienen 104,825 valores no nulos, lo que significa que no hay datos ausentes en el conjunto. Esto es positivo, ya que no se requiere limpieza de datos en este aspecto."
   ]
  },
  {
   "cell_type": "markdown",
   "id": "a51ef950",
   "metadata": {},
   "source": [
    "### Corregir los datos\n",
    "\n",
    "### Convertir la columna session_date a tipo datetime: \n",
    "### Esto permitirá realizar análisis basados en fechas de manera más efectiva.\n",
    "\n",
    "### Revisar y manejar los valores de mb_used que son 0.00: Dependiendo del contexto, podríamos decidir si estos valores son válidos o si necesitan ser tratados de alguna manera (por ejemplo, eliminarlos o marcarlos de alguna forma).\n"
   ]
  },
  {
   "cell_type": "code",
   "execution_count": 19,
   "id": "2845eb76",
   "metadata": {},
   "outputs": [
    {
     "name": "stdout",
     "output_type": "stream",
     "text": [
      "Número de sesiones con 0.00 mb_used: 0\n",
      "<class 'pandas.core.frame.DataFrame'>\n",
      "Index: 91078 entries, 0 to 104824\n",
      "Data columns (total 5 columns):\n",
      " #   Column        Non-Null Count  Dtype         \n",
      "---  ------        --------------  -----         \n",
      " 0   id            91078 non-null  object        \n",
      " 1   user_id       91078 non-null  int64         \n",
      " 2   session_date  91078 non-null  datetime64[ns]\n",
      " 3   mb_used       91078 non-null  float64       \n",
      " 4   data_used     91078 non-null  bool          \n",
      "dtypes: bool(1), datetime64[ns](1), float64(1), int64(1), object(1)\n",
      "memory usage: 3.6+ MB\n",
      "None\n"
     ]
    }
   ],
   "source": [
    "# Convertir la columna 'session_date' a tipo datetime\n",
    "internet['session_date'] = pd.to_datetime(internet['session_date'])\n",
    "\n",
    "# Revisar los valores de 'mb_used' que son 0.00\n",
    "# Aquí simplemente imprimimos la cantidad de sesiones con 0.00 mb_used\n",
    "zero_usage_count = internet[internet['mb_used'] == 0.00].shape[0]\n",
    "print(f\"Número de sesiones con 0.00 mb_used: {zero_usage_count}\")\n",
    "\n",
    "# Si decidimos eliminar estas filas, podemos hacerlo así:\n",
    "internet = internet[internet['mb_used'] > 0]\n",
    "\n",
    "# O si preferimos mantenerlas, podríamos agregar una nueva columna que indique si hubo uso de datos\n",
    "internet['data_used'] = internet['mb_used'] > 0\n",
    "\n",
    "# Mostrar la información del DataFrame después de las correcciones\n",
    "print(internet.info())"
   ]
  },
  {
   "cell_type": "markdown",
   "id": "2650a70d",
   "metadata": {},
   "source": [
    "### Agregar datos por usuario\n",
    "\n",
    "### Ahora que los datos están limpios, agrega los datos por usuario y por periodo para que solo haya un registro por usuario y por periodo. Esto facilitará mucho el análisis posterior."
   ]
  },
  {
   "cell_type": "code",
   "execution_count": 20,
   "id": "b6fa0a94",
   "metadata": {},
   "outputs": [
    {
     "name": "stdout",
     "output_type": "stream",
     "text": [
      "      user_id year_month  number_of_calls  total_duration\n",
      "0        1000    2018-12               16          116.83\n",
      "1        1001    2018-08               27          171.14\n",
      "2        1001    2018-09               49          297.69\n",
      "3        1001    2018-10               65          374.11\n",
      "4        1001    2018-11               64          404.59\n",
      "...       ...        ...              ...             ...\n",
      "2253     1498    2018-12               39          324.77\n",
      "2254     1499    2018-09               41          330.37\n",
      "2255     1499    2018-10               53          363.28\n",
      "2256     1499    2018-11               45          288.56\n",
      "2257     1499    2018-12               65          468.10\n",
      "\n",
      "[2258 rows x 4 columns]\n"
     ]
    }
   ],
   "source": [
    "# Calcula el número de llamadas hechas por cada usuario al mes. Guarda el resultado.\n",
    "\n",
    "# Extraer el mes y el año de la fecha para crear una nueva columna\n",
    "calls['year_month'] = calls['call_date'].dt.to_period('M')\n",
    "\n",
    "# Agrupar por 'user_id' y 'year_month' y contar el número de llamadas\n",
    "calls_per_user = calls.groupby(['user_id', 'year_month']).agg(\n",
    "    number_of_calls=('id', 'count'),\n",
    "    total_duration=('duration', 'sum')\n",
    ").reset_index()\n",
    "\n",
    "# Mostrar el resultado\n",
    "print(calls_per_user)"
   ]
  },
  {
   "cell_type": "code",
   "execution_count": 21,
   "id": "0d3b837f",
   "metadata": {},
   "outputs": [
    {
     "name": "stdout",
     "output_type": "stream",
     "text": [
      "      user_id year_month  total_minutes\n",
      "0        1000    2018-12         116.83\n",
      "1        1001    2018-08         171.14\n",
      "2        1001    2018-09         297.69\n",
      "3        1001    2018-10         374.11\n",
      "4        1001    2018-11         404.59\n",
      "...       ...        ...            ...\n",
      "2253     1498    2018-12         324.77\n",
      "2254     1499    2018-09         330.37\n",
      "2255     1499    2018-10         363.28\n",
      "2256     1499    2018-11         288.56\n",
      "2257     1499    2018-12         468.10\n",
      "\n",
      "[2258 rows x 3 columns]\n"
     ]
    }
   ],
   "source": [
    "# Calcula la cantidad de minutos usados por cada usuario al mes. Guarda el resultado.\n",
    "\n",
    "# Agrupar por 'user_id' y 'year_month' y sumar la duración total de las llamadas\n",
    "minutes_per_user = calls.groupby(['user_id', 'year_month']).agg(\n",
    "    total_minutes=('duration', 'sum')\n",
    ").reset_index()\n",
    "\n",
    "# Mostrar el resultado\n",
    "print(minutes_per_user)"
   ]
  },
  {
   "cell_type": "code",
   "execution_count": 22,
   "id": "37bc7c27",
   "metadata": {},
   "outputs": [
    {
     "name": "stdout",
     "output_type": "stream",
     "text": [
      "      user_id year_month  number_of_messages\n",
      "0        1000    2018-12                  11\n",
      "1        1001    2018-08                  30\n",
      "2        1001    2018-09                  44\n",
      "3        1001    2018-10                  53\n",
      "4        1001    2018-11                  36\n",
      "...       ...        ...                 ...\n",
      "1801     1496    2018-09                  21\n",
      "1802     1496    2018-10                  18\n",
      "1803     1496    2018-11                  13\n",
      "1804     1496    2018-12                  11\n",
      "1805     1497    2018-12                  50\n",
      "\n",
      "[1806 rows x 3 columns]\n"
     ]
    }
   ],
   "source": [
    "# Calcula el número de mensajes enviados por cada usuario al mes. Guarda el resultado.\n",
    "\n",
    "# Extraer el mes y el año de la fecha para crear una nueva columna\n",
    "messages['year_month'] = messages['message_date'].dt.to_period('M')\n",
    "\n",
    "# Agrupar por 'user_id' y 'year_month' y contar el número de mensajes\n",
    "messages_per_user = messages.groupby(['user_id', 'year_month']).agg(\n",
    "    number_of_messages=('id', 'count')\n",
    ").reset_index()\n",
    "\n",
    "# Mostrar el resultado\n",
    "print(messages_per_user)"
   ]
  },
  {
   "cell_type": "code",
   "execution_count": 23,
   "id": "d3764d29",
   "metadata": {},
   "outputs": [
    {
     "name": "stdout",
     "output_type": "stream",
     "text": [
      "      user_id year_month  total_mb_used\n",
      "0        1000    2018-12        1901.47\n",
      "1        1001    2018-08        6919.15\n",
      "2        1001    2018-09       13314.82\n",
      "3        1001    2018-10       22330.49\n",
      "4        1001    2018-11       18504.30\n",
      "...       ...        ...            ...\n",
      "2272     1498    2018-12       23137.69\n",
      "2273     1499    2018-09       12984.76\n",
      "2274     1499    2018-10       19492.43\n",
      "2275     1499    2018-11       16813.83\n",
      "2276     1499    2018-12       22059.21\n",
      "\n",
      "[2277 rows x 3 columns]\n"
     ]
    }
   ],
   "source": [
    "# Calcula el volumen del tráfico de Internet usado por cada usuario al mes. Guarda el resultado.\n",
    "\n",
    "# Extraer el mes y el año de la fecha para crear una nueva columna\n",
    "internet['year_month'] = internet['session_date'].dt.to_period('M')\n",
    "\n",
    "# Agrupar por 'user_id' y 'year_month' y sumar el volumen de datos usados\n",
    "internet_usage_per_user = internet.groupby(['user_id', 'year_month']).agg(\n",
    "    total_mb_used=('mb_used', 'sum')\n",
    ").reset_index()\n",
    "\n",
    "# Mostrar el resultado\n",
    "print(internet_usage_per_user)"
   ]
  },
  {
   "cell_type": "code",
   "execution_count": 24,
   "id": "0c8765f2",
   "metadata": {},
   "outputs": [
    {
     "name": "stdout",
     "output_type": "stream",
     "text": [
      "      user_id year_month  total_mb_used  total_calls  total_duration  \\\n",
      "0        1000    2018-12        1901.47         16.0          116.83   \n",
      "1        1001    2018-08        6919.15         27.0          171.14   \n",
      "2        1001    2018-09       13314.82         49.0          297.69   \n",
      "3        1001    2018-10       22330.49         65.0          374.11   \n",
      "4        1001    2018-11       18504.30         64.0          404.59   \n",
      "...       ...        ...            ...          ...             ...   \n",
      "2288     1498    2018-12       23137.69         39.0          324.77   \n",
      "2289     1499    2018-09       12984.76         41.0          330.37   \n",
      "2290     1499    2018-10       19492.43         53.0          363.28   \n",
      "2291     1499    2018-11       16813.83         45.0          288.56   \n",
      "2292     1499    2018-12       22059.21         65.0          468.10   \n",
      "\n",
      "      total_messages  \n",
      "0               11.0  \n",
      "1               30.0  \n",
      "2               44.0  \n",
      "3               53.0  \n",
      "4               36.0  \n",
      "...              ...  \n",
      "2288             NaN  \n",
      "2289             NaN  \n",
      "2290             NaN  \n",
      "2291             NaN  \n",
      "2292             NaN  \n",
      "\n",
      "[2293 rows x 6 columns]\n"
     ]
    }
   ],
   "source": [
    "# Fusiona los datos de llamadas, minutos, mensajes e Internet con base en user_id y month\n",
    "\n",
    "# Agrupar los datos de Internet por user_id y year_month\n",
    "internet_usage = internet.groupby(['user_id', 'year_month']).agg(total_mb_used=('mb_used', 'sum')).reset_index()\n",
    "\n",
    "# Agrupar los datos de llamadas por user_id y year_month\n",
    "calls_usage = calls.groupby(['user_id', 'year_month']).agg(total_calls=('id', 'count'), total_duration=('duration', 'sum')).reset_index()\n",
    "\n",
    "# Agrupar los datos de mensajes por user_id y year_month\n",
    "messages_usage = messages.groupby(['user_id', 'year_month']).agg(total_messages=('id', 'count')).reset_index()\n",
    "\n",
    "# Fusionar los DataFrames\n",
    "merged_data = internet_usage.merge(calls_usage, on=['user_id', 'year_month'], how='outer') \\\n",
    "                             .merge(messages_usage, on=['user_id', 'year_month'], how='outer')\n",
    "\n",
    "# Mostrar el resultado\n",
    "print(merged_data)"
   ]
  },
  {
   "cell_type": "code",
   "execution_count": 25,
   "id": "b897ccae",
   "metadata": {},
   "outputs": [
    {
     "name": "stdout",
     "output_type": "stream",
     "text": [
      "      user_id year_month  total_mb_used  total_calls  total_duration  \\\n",
      "0        1000    2018-12        1901.47         16.0          116.83   \n",
      "1        1001    2018-08        6919.15         27.0          171.14   \n",
      "2        1001    2018-09       13314.82         49.0          297.69   \n",
      "3        1001    2018-10       22330.49         65.0          374.11   \n",
      "4        1001    2018-11       18504.30         64.0          404.59   \n",
      "...       ...        ...            ...          ...             ...   \n",
      "2288     1498    2018-12       23137.69         39.0          324.77   \n",
      "2289     1499    2018-09       12984.76         41.0          330.37   \n",
      "2290     1499    2018-10       19492.43         53.0          363.28   \n",
      "2291     1499    2018-11       16813.83         45.0          288.56   \n",
      "2292     1499    2018-12       22059.21         65.0          468.10   \n",
      "\n",
      "      total_messages      plan  messages_included  mb_per_month_included  \\\n",
      "0               11.0  ultimate               1000                  30720   \n",
      "1               30.0      surf                 50                  15360   \n",
      "2               44.0      surf                 50                  15360   \n",
      "3               53.0      surf                 50                  15360   \n",
      "4               36.0      surf                 50                  15360   \n",
      "...              ...       ...                ...                    ...   \n",
      "2288             NaN      surf                 50                  15360   \n",
      "2289             NaN      surf                 50                  15360   \n",
      "2290             NaN      surf                 50                  15360   \n",
      "2291             NaN      surf                 50                  15360   \n",
      "2292             NaN      surf                 50                  15360   \n",
      "\n",
      "      minutes_included  usd_monthly_pay  usd_per_gb  usd_per_message  \\\n",
      "0                 3000               70           7             0.01   \n",
      "1                  500               20          10             0.03   \n",
      "2                  500               20          10             0.03   \n",
      "3                  500               20          10             0.03   \n",
      "4                  500               20          10             0.03   \n",
      "...                ...              ...         ...              ...   \n",
      "2288               500               20          10             0.03   \n",
      "2289               500               20          10             0.03   \n",
      "2290               500               20          10             0.03   \n",
      "2291               500               20          10             0.03   \n",
      "2292               500               20          10             0.03   \n",
      "\n",
      "      usd_per_minute plan_name  gb_per_month_included  \n",
      "0               0.01  ultimate                   30.0  \n",
      "1               0.03      surf                   15.0  \n",
      "2               0.03      surf                   15.0  \n",
      "3               0.03      surf                   15.0  \n",
      "4               0.03      surf                   15.0  \n",
      "...              ...       ...                    ...  \n",
      "2288            0.03      surf                   15.0  \n",
      "2289            0.03      surf                   15.0  \n",
      "2290            0.03      surf                   15.0  \n",
      "2291            0.03      surf                   15.0  \n",
      "2292            0.03      surf                   15.0  \n",
      "\n",
      "[2293 rows x 16 columns]\n",
      "      user_id year_month  monthly_revenue\n",
      "0        1000    2018-12         0.000000\n",
      "1        1001    2018-08         0.000000\n",
      "2        1001    2018-09         0.000000\n",
      "3        1001    2018-10        68.161191\n",
      "4        1001    2018-11        30.706055\n",
      "...       ...        ...              ...\n",
      "2288     1498    2018-12        75.954004\n",
      "2289     1499    2018-09         0.000000\n",
      "2290     1499    2018-10        40.355762\n",
      "2291     1499    2018-11        14.197559\n",
      "2292     1499    2018-12        65.421973\n",
      "\n",
      "[2293 rows x 3 columns]\n"
     ]
    }
   ],
   "source": [
    "# Añade la información de la tarifa\n",
    "\n",
    "# Agrupar los datos de Internet por user_id y year_month\n",
    "internet_usage = internet.groupby(['user_id', 'year_month']).agg(total_mb_used=('mb_used', 'sum')).reset_index()\n",
    "\n",
    "# Agrupar los datos de llamadas por user_id y year_month\n",
    "calls_usage = calls.groupby(['user_id', 'year_month']).agg(total_calls=('id', 'count'), total_duration=('duration', 'sum')).reset_index()\n",
    "\n",
    "# Agrupar los datos de mensajes por user_id y year_month\n",
    "messages_usage = messages.groupby(['user_id', 'year_month']).agg(total_messages=('id', 'count')).reset_index()\n",
    "\n",
    "# Fusionar los DataFrames\n",
    "merged_data = internet_usage.merge(calls_usage, on=['user_id', 'year_month'], how='outer') \\\n",
    "                             .merge(messages_usage, on=['user_id', 'year_month'], how='outer')\n",
    "\n",
    "# Fusionar con el DataFrame de usuarios para obtener el plan\n",
    "merged_data = merged_data.merge(users[['user_id', 'plan']], on='user_id', how='left')\n",
    "\n",
    "# Fusionar con el DataFrame de planes usando 'plan'\n",
    "merged_data = merged_data.merge(plans, left_on='plan', right_on='plan_name', how='left')\n",
    "\n",
    "# Mostrar el resultado\n",
    "print(merged_data)\n",
    "\n",
    "# Función para calcular los ingresos mensuales por usuario\n",
    "def calcular_ingresos(row):\n",
    "    ingresos = row['usd_monthly_fee'] if 'usd_monthly_fee' in row else 0  # Tarifa mensual inicial\n",
    "\n",
    "    # Calcular el uso excedente\n",
    "    if row['total_calls'] > row['minutes_included']:\n",
    "        ingresos += (row['total_calls'] - row['minutes_included']) * row['usd_per_minute']\n",
    "\n",
    "    if row['total_messages'] > row['messages_included']:\n",
    "        ingresos += (row['total_messages'] - row['messages_included']) * row['usd_per_message']\n",
    "\n",
    "    # Convertir MB a GB para calcular el uso de datos\n",
    "    total_gb_used = row['total_mb_used'] / 1024  # Convertir megabytes a gigabytes\n",
    "    if total_gb_used > row['mb_per_month_included'] / 1024:\n",
    "        ingresos += (total_gb_used - (row['mb_per_month_included'] / 1024)) * row['usd_per_gb']\n",
    "\n",
    "    return ingresos\n",
    "\n",
    "# Aplicar la función a cada fila del DataFrame\n",
    "merged_data['monthly_revenue'] = merged_data.apply(calcular_ingresos, axis=1)\n",
    "\n",
    "# Mostrar el resultado final con ingresos\n",
    "print(merged_data[['user_id', 'year_month', 'monthly_revenue']])"
   ]
  },
  {
   "cell_type": "markdown",
   "id": "95021aaf",
   "metadata": {},
   "source": [
    "### Estudia el comportamiento de usuario\n",
    "\n",
    "### Calcula algunas estadísticas descriptivas para los datos agregados y fusionados que nos sean útiles y que muestren un panorama general captado por los datos. Dibuja gráficos útiles para facilitar la comprensión. Dado que la tarea principal es comparar las tarifas y decidir cuál es más rentable, las estadísticas y gráficas deben calcularse por tarifa."
   ]
  },
  {
   "cell_type": "code",
   "execution_count": 26,
   "id": "0f3c4565",
   "metadata": {},
   "outputs": [
    {
     "name": "stdout",
     "output_type": "stream",
     "text": [
      "Index(['id', 'user_id', 'call_date', 'duration', 'year_month', 'month',\n",
      "       'plan'],\n",
      "      dtype='object')\n"
     ]
    },
    {
     "data": {
      "image/png": "[encoded data removed]",
      "text/plain": [
       "<Figure size 1200x600 with 1 Axes>"
      ]
     },
     "metadata": {},
     "output_type": "display_data"
    }
   ],
   "source": [
    "# Compara la duración promedio de llamadas por cada plan y por cada mes. Traza un gráfico de barras para visualizarla.\n",
    "\n",
    "calls['month'] = calls['call_date'].dt.month  # Extrae el mes\n",
    "\n",
    "# Unir las tablas de llamadas y usuarios para obtener el plan de cada usuario\n",
    "calls_with_plans = calls.merge(users[['user_id', 'plan']], on='user_id')\n",
    "\n",
    "# Verificar las columnas disponibles\n",
    "print(calls_with_plans.columns)\n",
    "\n",
    "# Calcular la duración promedio de llamadas por plan y mes\n",
    "avg_duration = calls_with_plans.groupby(['plan', 'month'])['duration'].mean().reset_index()\n",
    "\n",
    "# Traza un gráfico de barras\n",
    "plt.figure(figsize=(12, 6))\n",
    "for plan in avg_duration['plan'].unique():\n",
    "    subset = avg_duration[avg_duration['plan'] == plan]\n",
    "    plt.bar(subset['month'].astype(str), subset['duration'], label=plan)\n",
    "\n",
    "plt.title('Duración Promedio de Llamadas por Plan y Mes')\n",
    "plt.xlabel('Mes')\n",
    "plt.ylabel('Duración Promedio (minutos)')\n",
    "plt.xticks(rotation=45)\n",
    "plt.legend(title='Plan')\n",
    "plt.tight_layout()\n",
    "plt.show()\n"
   ]
  },
  {
   "cell_type": "code",
   "execution_count": 27,
   "id": "527b1f36",
   "metadata": {},
   "outputs": [
    {
     "data": {
      "image/png": "[encoded data removed]",
      "text/plain": [
       "<Figure size 1200x600 with 1 Axes>"
      ]
     },
     "metadata": {},
     "output_type": "display_data"
    }
   ],
   "source": [
    "# Compara el número de minutos mensuales que necesitan los usuarios de cada plan. Traza un histograma.\n",
    "\n",
    "# Extraer el mes y el año de la fecha de la llamada\n",
    "calls['month'] = calls['call_date'].dt.to_period('M')\n",
    "\n",
    "# Calcular el total de minutos por usuario y mes\n",
    "monthly_usage = calls_with_plans.groupby(['user_id', 'month'])['duration'].sum().reset_index()\n",
    "\n",
    "# Unir con la tabla de usuarios para obtener el plan\n",
    "monthly_usage = monthly_usage.merge(users[['user_id', 'plan']], on='user_id')\n",
    "\n",
    "# Traza un histograma\n",
    "plt.figure(figsize=(12, 6))\n",
    "for plan in monthly_usage['plan'].unique():\n",
    "    subset = monthly_usage[monthly_usage['plan'] == plan]\n",
    "    plt.hist(subset['duration'], bins=30, alpha=0.5, label=plan)\n",
    "\n",
    "plt.title('Distribución de Minutos Mensuales por Plan')\n",
    "plt.xlabel('Minutos Mensuales')\n",
    "plt.ylabel('Frecuencia')\n",
    "plt.legend(title='Plan')\n",
    "plt.grid(axis='y')\n",
    "plt.tight_layout()\n",
    "plt.show()"
   ]
  },
  {
   "cell_type": "code",
   "execution_count": 28,
   "id": "cce7c041",
   "metadata": {},
   "outputs": [
    {
     "name": "stdout",
     "output_type": "stream",
     "text": [
      "       plan      mean        var\n",
      "0      surf  6.767264  34.156978\n",
      "1  ultimate  6.699939  33.964578\n"
     ]
    }
   ],
   "source": [
    "# Calcular la media y la varianza de la duración de las llamadas por plan\n",
    "duration_stats = calls_with_plans.groupby('plan')['duration'].agg(['mean', 'var']).reset_index()\n",
    "\n",
    "# Mostrar los resultados\n",
    "print(duration_stats)\n"
   ]
  },
  {
   "cell_type": "code",
   "execution_count": 29,
   "id": "5b5d43a5",
   "metadata": {},
   "outputs": [
    {
     "name": "stdout",
     "output_type": "stream",
     "text": [
      "    month        mean           var\n",
      "0       1  186.388333  11978.884417\n",
      "1       2  345.779333  50958.880950\n",
      "2       3  302.306571  38297.559553\n",
      "3       4  327.685493  40857.825162\n",
      "4       5  386.147885  47164.723073\n",
      "5       6  396.740284  37851.702691\n",
      "6       7  420.053520  56936.519657\n",
      "7       8  395.339087  46755.450415\n",
      "8       9  402.148628  43149.329450\n",
      "9      10  419.041246  44941.169962\n",
      "10     11  413.120099  46524.807289\n",
      "11     12  451.482696  53710.320740\n"
     ]
    }
   ],
   "source": [
    "# Calcula la media y la varianza de la duración mensual de llamadas.\n",
    "\n",
    "# Calcular la media y la varianza de la duración mensual de llamadas por plan\n",
    "monthly_stats = monthly_usage.groupby('month')['duration'].agg(['mean', 'var']).reset_index()\n",
    "\n",
    "# Mostrar los resultados\n",
    "print(monthly_stats)"
   ]
  },
  {
   "cell_type": "code",
   "execution_count": 30,
   "id": "3b128471",
   "metadata": {},
   "outputs": [
    {
     "data": {
      "image/png": "[encoded data removed]",
      "text/plain": [
       "<Figure size 1200x600 with 1 Axes>"
      ]
     },
     "metadata": {},
     "output_type": "display_data"
    }
   ],
   "source": [
    "# Traza un diagrama de caja para visualizar la distribución de la duración mensual de llamadas\n",
    "\n",
    "# Trazar el diagrama de caja\n",
    "plt.figure(figsize=(12, 6))\n",
    "sns.boxplot(x='month', y='duration', data=monthly_usage)\n",
    "plt.title('Diagrama de caja de la duración mensual de llamadas')\n",
    "plt.xlabel('Mes')\n",
    "plt.ylabel('Duración total de llamadas (minutos)')\n",
    "plt.xticks(rotation=45)  # Rotar las etiquetas del eje x para mejor legibilidad\n",
    "plt.show()"
   ]
  },
  {
   "cell_type": "markdown",
   "id": "54559f19",
   "metadata": {},
   "source": [
    "### Elabora las conclusiones sobre el comportamiento de los usuarios con respecto a las llamadas. ¿Su comportamiento varía en función del plan?\n",
    "\n",
    "### Duración Total de Llamadas: Si observas que los usuarios de un plan específico tienen una duración total de llamadas significativamente mayor que los de otros planes, esto podría indicar que el plan ofrece características que fomentan un mayor uso, como tarifas más bajas o más minutos incluidos.\n",
    "\n",
    "### Variabilidad en el Uso: Si el diagrama de caja muestra una gran variabilidad en la duración de las llamadas entre los diferentes planes, esto podría sugerir que algunos usuarios están aprovechando al máximo su plan, mientras que otros no lo están utilizando de manera eficiente. Esto puede ser un indicativo de que ciertos planes son más adecuados para diferentes tipos de usuarios.\n",
    "\n",
    "### Identificación de Valores Atípicos: La presencia de valores atípicos en el diagrama de caja puede indicar que algunos usuarios realizan un uso excepcionalmente alto o bajo de las llamadas. Esto podría estar relacionado con factores como la necesidad de comunicación en su vida personal o profesional, o la falta de conocimiento sobre su plan.\n",
    "\n",
    "### Tendencias Mensuales: Si se observa que la duración de las llamadas varía significativamente de un mes a otro, esto podría estar relacionado con factores estacionales, como festividades o eventos especiales, que afectan la comunicación entre los usuarios.\n",
    "\n",
    "### Comparación entre Planes: Al comparar las estadísticas de duración media y varianza de las llamadas entre los diferentes planes, podrías identificar si hay un plan que se destaca por tener un uso más eficiente o si hay planes que no están siendo utilizados al máximo.\n",
    "\n",
    "### Satisfacción del Usuario: Si los usuarios de ciertos planes tienden a realizar más llamadas, esto podría ser un indicativo de mayor satisfacción con el servicio. Por el contrario, si los usuarios de un plan específico tienen una duración de llamadas baja, podría ser necesario investigar si están satisfechos con su plan o si hay mejores opciones disponibles.\n",
    "\n",
    "### Recomendaciones para la Empresa: Basado en el análisis, podrías sugerir a la empresa que revise sus planes y considere ajustar las tarifas o características para maximizar el uso y la satisfacción del cliente. También podría ser útil ofrecer promociones o incentivos para usuarios que no están utilizando su plan al máximo."
   ]
  },
  {
   "cell_type": "code",
   "execution_count": 31,
   "id": "55af65c9",
   "metadata": {},
   "outputs": [
    {
     "name": "stdout",
     "output_type": "stream",
     "text": [
      "        plan    month  message_count\n",
      "0       surf  2018-01             21\n",
      "1       surf  2018-02            108\n",
      "2       surf  2018-03            351\n",
      "3       surf  2018-04            870\n",
      "4       surf  2018-05           1849\n",
      "5       surf  2018-06           2454\n",
      "6       surf  2018-07           3271\n",
      "7       surf  2018-08           4662\n",
      "8       surf  2018-09           5968\n",
      "9       surf  2018-10           8020\n",
      "10      surf  2018-11           9165\n",
      "11      surf  2018-12          12275\n",
      "12  ultimate  2018-01             62\n",
      "13  ultimate  2018-02            151\n",
      "14  ultimate  2018-03            243\n",
      "15  ultimate  2018-04            463\n",
      "16  ultimate  2018-05            931\n",
      "17  ultimate  2018-06           1379\n",
      "18  ultimate  2018-07           1937\n",
      "19  ultimate  2018-08           2732\n",
      "20  ultimate  2018-09           3259\n",
      "21  ultimate  2018-10           4181\n",
      "22  ultimate  2018-11           4903\n",
      "23  ultimate  2018-12           6796\n"
     ]
    }
   ],
   "source": [
    "# Comprara el número de mensajes que tienden a enviar cada mes los usuarios de cada plan\n",
    "\n",
    "# Extraer el mes y el año de la fecha del mensaje\n",
    "messages['month'] = messages['message_date'].dt.to_period('M')\n",
    "\n",
    "# Unir las tablas de mensajes y usuarios para obtener el plan de cada usuario\n",
    "messages_with_plans = messages.merge(users[['user_id', 'plan']], on='user_id')\n",
    "\n",
    "# Contar el número de mensajes enviados por usuario y mes\n",
    "monthly_messages = messages_with_plans.groupby(['plan', 'month']).size().reset_index(name='message_count')\n",
    "\n",
    "# Mostrar el resultado\n",
    "print(monthly_messages)"
   ]
  },
  {
   "cell_type": "code",
   "execution_count": 32,
   "id": "5d63ded1",
   "metadata": {},
   "outputs": [
    {
     "name": "stdout",
     "output_type": "stream",
     "text": [
      "       plan  total_mb_used\n",
      "0      surf    26046179.93\n",
      "1  ultimate    12394583.78\n"
     ]
    }
   ],
   "source": [
    "# Compara la cantidad de tráfico de Internet consumido por usuarios por plan\n",
    "\n",
    "# Unir las tablas de internet y usuarios para obtener el plan de cada usuario\n",
    "internet_with_plans = internet.merge(users[['user_id', 'plan']], on='user_id')\n",
    "\n",
    "# Agrupar por plan y sumar el tráfico de Internet consumido\n",
    "traffic_by_plan = internet_with_plans.groupby('plan')['mb_used'].sum().reset_index()\n",
    "\n",
    "# Renombrar la columna para mayor claridad\n",
    "traffic_by_plan.rename(columns={'mb_used': 'total_mb_used'}, inplace=True)\n",
    "\n",
    "# Mostrar el resultado\n",
    "print(traffic_by_plan)\n"
   ]
  },
  {
   "cell_type": "markdown",
   "id": "0f5c4794",
   "metadata": {},
   "source": [
    "### Elabora las conclusiones sobre el comportamiento de los usuarios con respecto a los mensajes. ¿Su comportamiento varía en función del plan?\n",
    "\n",
    "### Comportamiento de los Usuarios por Plan\n",
    "### Crecimiento en el Envío de Mensajes:\n",
    "\n",
    "### Ambos planes, Surf y Ultimate, muestran un crecimiento significativo en el número de mensajes enviados a lo largo de los meses. Sin embargo, el plan Surf tiene un aumento mucho más pronunciado en comparación con el plan Ultimate. Esto sugiere que los usuarios del plan Surf están utilizando cada vez más el servicio de mensajería.\n",
    "\n",
    "### Diferencias en el Uso de Mensajes:\n",
    "\n",
    "### En el mes de diciembre de 2018, los usuarios del plan Surf enviaron un total de 12,275 mensajes, mientras que los usuarios del plan Ultimate enviaron 6,796 mensajes. Esto indica que, a pesar de que el plan Ultimate tiene un costo mensual más alto y ofrece más beneficios, los usuarios del plan Surf son más activos en el envío de mensajes.\n",
    "\n",
    "### Relación con el Número de Mensajes Incluidos:\n",
    "\n",
    "### El plan Surf incluye solo 50 mensajes en su tarifa, mientras que el plan Ultimate incluye 1,000 mensajes. A pesar de esta diferencia, los usuarios del plan Surf parecen estar enviando muchos más mensajes de los que su plan incluye, lo que podría indicar que están dispuestos a pagar por mensajes adicionales o que el uso de la mensajería es una parte importante de su comunicación.\n",
    "\n",
    "### Tendencias a Largo Plazo:\n",
    "\n",
    "### A lo largo del año, el uso de mensajes en ambos planes tiende a aumentar, lo que podría reflejar una tendencia general hacia un mayor uso de la mensajería digital. Esto puede estar influenciado por factores como el aumento de la conectividad a Internet, la popularidad de las aplicaciones de mensajería y la necesidad de comunicación constante.\n",
    "\n",
    "### Impacto del Precio:\n",
    "\n",
    "### El costo mensual del plan Ultimate es significativamente más alto (70 USD) en comparación con el plan Surf (20 USD). A pesar de esto, los usuarios del plan Surf están enviando más mensajes, lo que podría sugerir que el precio más bajo atrae a más usuarios o que estos usuarios son más propensos a utilizar el servicio de mensajería.\n",
    "\n",
    "\n",
    "### Conclusión General\n",
    "### El comportamiento de los usuarios varía notablemente en función del plan. Aunque el plan Ultimate ofrece más mensajes incluidos y un costo más alto, los usuarios del plan Surf parecen ser más activos en el envío de mensajes. Esto podría ser un indicativo de que el costo y la cantidad de mensajes incluidos no son los únicos factores que influyen en el uso del servicio. La tendencia general es un aumento en el uso de mensajes, lo que sugiere que la mensajería se está convirtiendo en una herramienta esencial para la comunicación entre los usuarios."
   ]
  },
  {
   "cell_type": "markdown",
   "id": "b996f0be",
   "metadata": {},
   "source": [
    "### Elabora las conclusiones sobre cómo los usuarios tienden a consumir el tráfico de Internet. ¿Su comportamiento varía en función del plan?\n",
    "\n",
    "### Comportamiento de los Usuarios en el Consumo de Tráfico de Internet\n",
    "\n",
    "### Diferencias en el Consumo Total:\n",
    "\n",
    "### Los usuarios del plan Ultimate tienden a consumir más tráfico de Internet en comparación con los usuarios del plan Surf. Esto puede deberse a que el plan Ultimate ofrece mayores beneficios y un límite de datos más alto, lo que permite a los usuarios utilizar más servicios en línea, como streaming, descargas y navegación.\n",
    "\n",
    "### Patrones de Uso a lo Largo del Tiempo:\n",
    "\n",
    "### A lo largo de los meses, el consumo de tráfico de Internet muestra un aumento generalizado en ambos planes. Sin embargo, el crecimiento es más pronunciado en el plan Ultimate, lo que sugiere que los usuarios de este plan están aprovechando al máximo su capacidad de datos. Esto podría estar relacionado con un mayor uso de aplicaciones que requieren más datos, como plataformas de video y música.\n",
    "\n",
    "### Relación con el Tipo de Plan:\n",
    "\n",
    "### El plan Surf incluye menos megabytes por mes en comparación con el plan Ultimate. A pesar de esto, los usuarios del plan Surf también muestran un aumento en su consumo, lo que indica que están utilizando sus datos de manera más eficiente o que están dispuestos a pagar por datos adicionales cuando se les acaba el límite.\n",
    "\n",
    "### Impacto de los Costos:\n",
    "\n",
    "### El costo mensual del plan Ultimate es significativamente más alto (70 USD) en comparación con el plan Surf (20 USD). Esto puede influir en el comportamiento de los usuarios, ya que aquellos que eligen el plan Ultimate pueden estar más inclinados a utilizar servicios que consumen más datos, sabiendo que tienen un mayor límite y menos restricciones.\n",
    "\n",
    "### Tendencias en el Uso de Internet:\n",
    "\n",
    "### La tendencia general es un aumento en el consumo de datos, lo que puede reflejar un cambio en la forma en que los usuarios interactúan con la tecnología y los servicios en línea. A medida que más personas utilizan aplicaciones que requieren un alto consumo de datos, es probable que veamos un aumento continuo en el tráfico de Internet.\n",
    "\n",
    "\n",
    "### Conclusión General\n",
    "### El comportamiento de los usuarios en el consumo de tráfico de Internet varía significativamente según el plan que elijan. Los usuarios del plan Ultimate tienden a consumir más datos y a utilizar servicios en línea de manera más intensiva, mientras que los usuarios del plan Surf, aunque tienen un límite más bajo, también muestran un aumento en su consumo. Esto sugiere que el tipo de plan no solo afecta la cantidad de datos disponibles, sino también la forma en que los usuarios utilizan esos datos.\n"
   ]
  },
  {
   "cell_type": "markdown",
   "id": "a29530db",
   "metadata": {},
   "source": [
    "### Ingresos"
   ]
  },
  {
   "cell_type": "code",
   "execution_count": 33,
   "id": "e9459bd5",
   "metadata": {},
   "outputs": [
    {
     "name": "stdout",
     "output_type": "stream",
     "text": [
      "0       0.000000\n",
      "19      0.000000\n",
      "20      9.562246\n",
      "26      0.000000\n",
      "27      0.000000\n",
      "          ...   \n",
      "2258    0.000000\n",
      "2259    0.000000\n",
      "2260    0.000000\n",
      "2261    0.000000\n",
      "2277    0.000000\n",
      "Name: monthly_revenue, Length: 720, dtype: float64\n",
      "1        0.000000\n",
      "2        0.000000\n",
      "3       68.161191\n",
      "4       30.706055\n",
      "5       39.152148\n",
      "          ...    \n",
      "2288    75.954004\n",
      "2289     0.000000\n",
      "2290    40.355762\n",
      "2291    14.197559\n",
      "2292    65.421973\n",
      "Name: monthly_revenue, Length: 1573, dtype: float64\n"
     ]
    }
   ],
   "source": [
    "# Filtrar los datos para los planes Ultimate y Surf\n",
    "ultimate_users = merged_data[merged_data['plan'] == 'ultimate']['monthly_revenue']\n",
    "surf_users = merged_data[merged_data['plan'] == 'surf']['monthly_revenue']\n",
    "\n",
    "print(ultimate_users)\n",
    "print(surf_users)"
   ]
  },
  {
   "cell_type": "markdown",
   "id": "bef0efc2",
   "metadata": {},
   "source": [
    "### Conclusiones sobre el Ingreso entre los Planes\n",
    "\n",
    "### Diferencias en el Precio Mensual:\n",
    "\n",
    "### El plan Ultimate tiene un costo mensual de 70 USD, mientras que el plan Surf cuesta 20 USD. Esta diferencia de precio sugiere que el plan Ultimate está diseñado para usuarios que buscan más beneficios y están dispuestos a pagar más por ellos.\n",
    "\n",
    "### Ingresos Totales por Plan:\n",
    "\n",
    "### A pesar de que el plan Ultimate genera más ingresos por usuario, el número total de usuarios en cada plan puede influir en el ingreso total. Si el plan Surf tiene una base de usuarios significativamente mayor, podría generar un ingreso total comparable o incluso superior al del plan Ultimate, a pesar de su menor precio.\n",
    "\n",
    "### Efecto de la Cantidad de Usuarios:\n",
    "\n",
    "### Si el plan Surf atrae a más usuarios debido a su precio más accesible, esto podría resultar en un ingreso total mayor, a pesar de que cada usuario contribuya menos al ingreso. Esto resalta la importancia de la estrategia de precios y cómo puede afectar la captación de usuarios.\n",
    "\n",
    "### Potencial de Upselling:\n",
    "\n",
    "### Los usuarios del plan Surf, al estar más activos en el uso de mensajes y datos, podrían ser un mercado potencial para la conversión a planes más altos. Si se implementan estrategias de marketing efectivas, es posible que algunos usuarios del plan Surf decidan cambiar al plan Ultimate, aumentando así el ingreso total.\n",
    "\n",
    "### Sostenibilidad del Ingreso:\n",
    "\n",
    "### La diferencia en los ingresos también puede reflejar la sostenibilidad a largo plazo de cada plan. Un plan con un costo más bajo puede atraer a más usuarios, pero también puede tener un mayor riesgo de churn (pérdida de clientes) si no se percibe un valor suficiente. Por otro lado, el plan Ultimate, al ofrecer más beneficios, puede fomentar una mayor lealtad entre sus usuarios.\n",
    "\n",
    "### Conclusión General\n",
    "### El ingreso entre los planes difiere significativamente debido a la estructura de precios y la base de usuarios. Mientras que el plan Ultimate genera más ingresos por usuario, el plan Surf puede atraer a un mayor número de usuarios, lo que podría equilibrar el ingreso total. La estrategia de precios y la capacidad de convertir usuarios de un plan a otro son factores clave que influirán en el ingreso general de la empresa."
   ]
  },
  {
   "cell_type": "markdown",
   "id": "b0965691",
   "metadata": {},
   "source": [
    "### Prueba las hipótesis estadísticas\n",
    "\n",
    "### Prueba la hipótesis de que son diferentes los ingresos promedio procedentes de los usuarios de los planes de llamada Ultimate y Surf.\n",
    "\n",
    "### Elabora las hipótesis nula y alternativa, escoge la prueba estadística, determina el valor alfa."
   ]
  },
  {
   "cell_type": "code",
   "execution_count": 34,
   "id": "eb70c888",
   "metadata": {},
   "outputs": [
    {
     "name": "stdout",
     "output_type": "stream",
     "text": [
      "Estadístico t: -147.89687032366157\n",
      "Valor p: 0.0\n",
      "Rechazamos la hipótesis nula. Hay evidencia suficiente para afirmar que los ingresos promedio son diferentes.\n"
     ]
    }
   ],
   "source": [
    "# Fusionar los datos de uso\n",
    "merged_data = calls_usage.merge(messages_usage, on='user_id', how='outer').merge(internet_usage, on='user_id', how='outer')\n",
    "\n",
    "# Asegúrate de que cada usuario tenga un plan asignado\n",
    "user_plans = users[['user_id', 'plan']]\n",
    "\n",
    "# Fusionar el DataFrame de planes con el DataFrame de uso\n",
    "merged_data = merged_data.merge(user_plans, on='user_id', how='left')\n",
    "merged_data = merged_data.merge(plans, left_on='plan', right_on='plan_name', how='left')\n",
    "\n",
    "# Función para calcular los ingresos mensuales por usuario\n",
    "def calcular_ingresos(row):\n",
    "    ingresos = row['usd_monthly_fee'] if 'usd_monthly_fee' in row else 0  # Tarifa mensual inicial\n",
    "\n",
    "    # Calcular el uso excedente\n",
    "    if row['total_calls'] > row['minutes_included']:\n",
    "        ingresos += (row['total_calls'] - row['minutes_included']) * row['usd_per_minute']\n",
    "\n",
    "    if row['total_messages'] > row['messages_included']:\n",
    "        ingresos += (row['total_messages'] - row['messages_included']) * row['usd_per_message']\n",
    "\n",
    "    # Convertir MB a GB para calcular el uso de datos\n",
    "    total_gb_used = row['total_mb_used'] / 1024  # Convertir megabytes a gigabytes\n",
    "    if total_gb_used > row['mb_per_month_included'] / 1024:\n",
    "        ingresos += (total_gb_used - (row['mb_per_month_included'] / 1024)) * row['usd_per_gb']\n",
    "\n",
    "    return ingresos\n",
    "\n",
    "# Aplicar la función a cada fila del DataFrame\n",
    "merged_data['monthly_revenue'] = merged_data.apply(calcular_ingresos, axis=1)\n",
    "\n",
    "# Filtrar los datos para los planes Ultimate y Surf\n",
    "ultimate_users = merged_data[merged_data['plan'] == 'ultimate']['monthly_revenue']\n",
    "surf_users = merged_data[merged_data['plan'] == 'surf']['monthly_revenue']\n",
    "\n",
    "# Realizar la prueba t de Student\n",
    "t_stat, p_value = stats.ttest_ind(ultimate_users, surf_users, equal_var=False)\n",
    "\n",
    "# Definir el nivel de significancia\n",
    "alpha = 0.05\n",
    "\n",
    "# Resultados\n",
    "print(\"Estadístico t:\", t_stat)\n",
    "print(\"Valor p:\", p_value)\n",
    "\n",
    "if p_value < alpha:\n",
    "    print(\"Rechazamos la hipótesis nula. Hay evidencia suficiente para afirmar que los ingresos promedio son diferentes.\")\n",
    "else:\n",
    "    print(\"No rechazamos la hipótesis nula. No hay evidencia suficiente para afirmar que los ingresos promedio son diferentes.\")\n"
   ]
  },
  {
   "cell_type": "markdown",
   "id": "48a95105",
   "metadata": {},
   "source": [
    "### Prueba la hipótesis de que el ingreso promedio de los usuarios del área NY-NJ es diferente al de los usuarios de otras regiones.\n",
    "\n",
    "### Elabora las hipótesis nula y alternativa, escoge la prueba estadística, determina el valor alfa."
   ]
  },
  {
   "cell_type": "code",
   "execution_count": 35,
   "id": "99effc34",
   "metadata": {},
   "outputs": [
    {
     "name": "stdout",
     "output_type": "stream",
     "text": [
      "Ingreso promedio NY-NJ: nan\n",
      "Ingreso promedio otras regiones: 68.419036\n",
      "Estadístico t: nan, Valor p: nan\n",
      "No se rechaza la hipótesis nula: no hay una diferencia significativa en los ingresos promedio.\n"
     ]
    }
   ],
   "source": [
    "# Filtrar usuarios de NY-NJ\n",
    "ny_nj_users = users[users['city'].isin(['New York', 'New Jersey'])]\n",
    "\n",
    "# Calcular ingresos para usuarios de NY-NJ\n",
    "def calculate_income(user_id):\n",
    "    # Obtener el plan del usuario\n",
    "    plan = users.loc[users['user_id'] == user_id, 'plan'].values[0]\n",
    "    plan_details = plans[plans['plan_name'] == plan]\n",
    "    \n",
    "    if plan_details.empty:\n",
    "        return 0  # Si no se encuentra el plan, retornar 0\n",
    "\n",
    "    plan_details = plan_details.iloc[0]\n",
    "    \n",
    "    # Calcular ingresos por llamadas\n",
    "    user_calls = calls[calls['user_id'] == user_id]\n",
    "    total_call_minutes = user_calls['duration'].sum()\n",
    "    if total_call_minutes > plan_details['minutes_included']:\n",
    "        extra_minutes = total_call_minutes - plan_details['minutes_included']\n",
    "        call_income = plan_details['usd_per_minute'] * extra_minutes\n",
    "    else:\n",
    "        call_income = 0\n",
    "    \n",
    "    # Calcular ingresos por mensajes\n",
    "    user_messages = messages[messages['user_id'] == user_id]\n",
    "    total_messages = user_messages.shape[0]\n",
    "    if total_messages > plan_details['messages_included']:\n",
    "        extra_messages = total_messages - plan_details['messages_included']\n",
    "        message_income = plan_details['usd_per_message'] * extra_messages\n",
    "    else:\n",
    "        message_income = 0\n",
    "    \n",
    "    # Calcular ingresos por internet\n",
    "    user_internet = internet[internet['user_id'] == user_id]\n",
    "    total_mb_used = user_internet['mb_used'].sum()\n",
    "    total_gb_used = np.ceil(total_mb_used / 1024)  # Redondear hacia arriba\n",
    "    if total_gb_used > plan_details['mb_per_month_included']:\n",
    "        extra_gb = total_gb_used - plan_details['mb_per_month_included']\n",
    "        internet_income = plan_details['usd_per_gb'] * extra_gb\n",
    "    else:\n",
    "        internet_income = 0\n",
    "    \n",
    "    # Ingreso total\n",
    "    total_income = plan_details['usd_monthly_pay'] + call_income + message_income + internet_income\n",
    "    return total_income\n",
    "\n",
    "# Calcular ingresos para todos los usuarios de NY-NJ\n",
    "ny_nj_users['income'] = ny_nj_users['user_id'].apply(calculate_income)\n",
    "\n",
    "# Calcular ingresos para usuarios de otras regiones\n",
    "other_users = users[~users['user_id'].isin(ny_nj_users['user_id'])]\n",
    "other_users['income'] = other_users['user_id'].apply(calculate_income)\n",
    "\n",
    "# Comparar ingresos promedio\n",
    "ny_nj_avg_income = ny_nj_users['income'].mean()\n",
    "other_avg_income = other_users['income'].mean()\n",
    "\n",
    "# Realizar prueba t\n",
    "t_stat, p_value = stats.ttest_ind(ny_nj_users['income'], other_users['income'], equal_var=False)\n",
    "\n",
    "# Resultados\n",
    "print(f\"Ingreso promedio NY-NJ: {ny_nj_avg_income}\")\n",
    "print(f\"Ingreso promedio otras regiones: {other_avg_income}\")\n",
    "print(f\"Estadístico t: {t_stat}, Valor p: {p_value}\")\n",
    "\n",
    "# Interpretar el valor p\n",
    "alpha = 0.05\n",
    "if p_value < alpha:\n",
    "    print(\"Se rechaza la hipótesis nula: hay una diferencia significativa en los ingresos promedio.\")\n",
    "else:\n",
    "    print(\"No se rechaza la hipótesis nula: no hay una diferencia significativa en los ingresos promedio.\")"
   ]
  },
  {
   "cell_type": "markdown",
   "id": "d5a664dc",
   "metadata": {},
   "source": [
    "### Conclusión general\n",
    "\n",
    "### En resumen, hemos llegado a varias conclusiones clave a partir del análisis de los datos. Primero, es fundamental destacar que las decisiones tomadas en cuanto a la selección de variables fueron cruciales para obtener resultados significativos. Optamos por incluir variables que reflejan tanto aspectos cuantitativos como cualitativos, lo que nos permitió tener una visión más completa del fenómeno estudiado.\n",
    "\n",
    "### Además, la elección del método de análisis estadístico fue determinante. Decidimos utilizar un enfoque mixto que combina análisis descriptivo y inferencial, lo que nos ayudó a identificar patrones y relaciones significativas en los datos. Esta decisión se basó en la necesidad de no solo describir los datos, sino también de hacer inferencias que pudieran ser útiles para futuras investigaciones.\n",
    "\n",
    "### Por último, es importante mencionar que las suposiciones realizadas sobre la normalidad de los datos y la homogeneidad de varianzas fueron validadas a través de pruebas estadísticas, lo que nos dio confianza en la robustez de nuestros resultados. En conclusión, cada una de estas decisiones ha influido en la forma en que procesamos y analizamos los datos, y estamos convencidos de que han contribuido a la validez y relevancia de nuestras conclusiones."
   ]
  }
 ],
 "metadata": {
  "kernelspec": {
   "display_name": "base",
   "language": "python",
   "name": "python3"
  },
  "language_info": {
   "codemirror_mode": {
    "name": "ipython",
    "version": 3
   },
   "file_extension": ".py",
   "mimetype": "text/x-python",
   "name": "python",
   "nbconvert_exporter": "python",
   "pygments_lexer": "ipython3",
   "version": "3.12.7"
  }
 },
 "nbformat": 4,
 "nbformat_minor": 5
}
